{
 "cells": [
  {
   "cell_type": "code",
   "execution_count": 1,
   "id": "fancy-negotiation",
   "metadata": {},
   "outputs": [],
   "source": [
    "%matplotlib inline\n",
    "%config InlineBackend.figure_format = 'svg'\n",
    "from IPython.display import SVG\n",
    "import msprime\n",
    "import numpy as np\n",
    "import matplotlib.pyplot as plt\n",
    "import seaborn as sns\n",
    "from collections import namedtuple\n",
    "import pickle\n",
    "import warnings"
   ]
  },
  {
   "cell_type": "code",
   "execution_count": 2,
   "id": "known-memphis",
   "metadata": {},
   "outputs": [],
   "source": [
    "import tskit"
   ]
  },
  {
   "cell_type": "code",
   "execution_count": 3,
   "id": "herbal-relay",
   "metadata": {},
   "outputs": [],
   "source": [
    "def wf1(N, ngens):\n",
    "    \n",
    "    tables = tskit.TableCollection(1)\n",
    "    nodes, edges = tables.nodes, tables.edges\n",
    "    for i in range(2*N):\n",
    "        nodes.add_row(time=0, flags=tskit.NODE_IS_SAMPLE)\n",
    "        \n",
    "    next_offspring_index = len(nodes)\n",
    "    first_parental_index = 0\n",
    "    for gen in range(1, ngens+1):\n",
    "        assert(next_offspring_index == len(nodes))\n",
    "        assert(first_parental_index == len(nodes)-2*N)\n",
    "        parents = np.random.randint(0, N, 2*N)\n",
    "        for parent1, parent2 in zip(parents[::2], parents[1::2]):\n",
    "            mendel = np.random.random_sample(2)\n",
    "            g1 = first_parental_index + 2*parent1 + (mendel[0] < 0.5)\n",
    "            g2 = first_parental_index + 2*parent2 + (mendel[1]< 0.5)\n",
    "            \n",
    "            nodes.add_row(time=gen, flags=tskit.NODE_IS_SAMPLE)\n",
    "            nodes.add_row(time=gen, flags=tskit.NODE_IS_SAMPLE)\n",
    "            \n",
    "            edges.add_row(left=0.0, right=1.0, parent=g1, child=next_offspring_index)\n",
    "            edges.add_row(left=0.0, right=1.0, parent=g2, child=next_offspring_index+1)\n",
    "            \n",
    "            next_offspring_index += 2\n",
    "        first_parental_index += 2*N\n",
    "        print(first_parental_index, next_offspring_index)\n",
    "        \n",
    "    return tables"
   ]
  },
  {
   "cell_type": "code",
   "execution_count": 4,
   "id": "durable-steam",
   "metadata": {},
   "outputs": [
    {
     "name": "stdout",
     "output_type": "stream",
     "text": [
      "6 12\n",
      "12 18\n",
      "18 24\n",
      "24 30\n"
     ]
    }
   ],
   "source": [
    "np.random.seed(42)\n",
    "tables = wf1(3,4)"
   ]
  },
  {
   "cell_type": "code",
   "execution_count": 9,
   "id": "entitled-aurora",
   "metadata": {},
   "outputs": [
    {
     "data": {
      "text/html": [
       "\n",
       "            <div>\n",
       "                <style scoped=\"\">\n",
       "                    .tskit-table tbody tr th:only-of-type {vertical-align: middle;}\n",
       "                    .tskit-table tbody tr th {vertical-align: top;}\n",
       "                    .tskit-table tbody td {text-align: right;padding: 0.5em 0.5em;}\n",
       "                    .tskit-table tbody th {padding: 0.5em 0.5em;}\n",
       "                </style>\n",
       "                <table border=\"1\" class=\"tskit-table\">\n",
       "                    <thead>\n",
       "                        <tr>\n",
       "                            <th>id</th><th>flags</th><th>population</th><th>individual</th><th>time</th><th>metadata</th>\n",
       "                        </tr>\n",
       "                    </thead>\n",
       "                    <tbody>\n",
       "                        <tr><td>0</td><td>1</td><td>-1</td><td>-1</td><td>4.00000000</td><td>b''</td></tr>\n",
       "<tr><td>1</td><td>1</td><td>-1</td><td>-1</td><td>4.00000000</td><td>b''</td></tr>\n",
       "<tr><td>2</td><td>1</td><td>-1</td><td>-1</td><td>4.00000000</td><td>b''</td></tr>\n",
       "<tr><td>3</td><td>1</td><td>-1</td><td>-1</td><td>4.00000000</td><td>b''</td></tr>\n",
       "<tr><td>4</td><td>1</td><td>-1</td><td>-1</td><td>4.00000000</td><td>b''</td></tr>\n",
       "<tr><td>5</td><td>1</td><td>-1</td><td>-1</td><td>4.00000000</td><td>b''</td></tr>\n",
       "<tr><td>6</td><td>1</td><td>-1</td><td>-1</td><td>3.00000000</td><td>b''</td></tr>\n",
       "<tr><td>7</td><td>1</td><td>-1</td><td>-1</td><td>3.00000000</td><td>b''</td></tr>\n",
       "<tr><td>8</td><td>1</td><td>-1</td><td>-1</td><td>3.00000000</td><td>b''</td></tr>\n",
       "<tr><td>9</td><td>1</td><td>-1</td><td>-1</td><td>3.00000000</td><td>b''</td></tr>\n",
       "<tr><td>10</td><td>1</td><td>-1</td><td>-1</td><td>3.00000000</td><td>b''</td></tr>\n",
       "<tr><td>11</td><td>1</td><td>-1</td><td>-1</td><td>3.00000000</td><td>b''</td></tr>\n",
       "<tr><td>12</td><td>1</td><td>-1</td><td>-1</td><td>2.00000000</td><td>b''</td></tr>\n",
       "<tr><td>13</td><td>1</td><td>-1</td><td>-1</td><td>2.00000000</td><td>b''</td></tr>\n",
       "<tr><td>14</td><td>1</td><td>-1</td><td>-1</td><td>2.00000000</td><td>b''</td></tr>\n",
       "<tr><td>15</td><td>1</td><td>-1</td><td>-1</td><td>2.00000000</td><td>b''</td></tr>\n",
       "<tr><td>16</td><td>1</td><td>-1</td><td>-1</td><td>2.00000000</td><td>b''</td></tr>\n",
       "<tr><td>17</td><td>1</td><td>-1</td><td>-1</td><td>2.00000000</td><td>b''</td></tr>\n",
       "<tr><td>18</td><td>1</td><td>-1</td><td>-1</td><td>1.00000000</td><td>b''</td></tr>\n",
       "<tr><td>19</td><td>1</td><td>-1</td><td>-1</td><td>1.00000000</td><td>b''</td></tr>\n",
       "<tr><td>20</td><td>1</td><td>-1</td><td>-1</td><td>1.00000000</td><td>b''</td></tr>\n",
       "<tr><td>21</td><td>1</td><td>-1</td><td>-1</td><td>1.00000000</td><td>b''</td></tr>\n",
       "<tr><td>22</td><td>1</td><td>-1</td><td>-1</td><td>1.00000000</td><td>b''</td></tr>\n",
       "<tr><td>23</td><td>1</td><td>-1</td><td>-1</td><td>1.00000000</td><td>b''</td></tr>\n",
       "<tr><td>24</td><td>1</td><td>-1</td><td>-1</td><td>-0.00000000</td><td>b''</td></tr>\n",
       "<tr><td>25</td><td>1</td><td>-1</td><td>-1</td><td>-0.00000000</td><td>b''</td></tr>\n",
       "<tr><td>26</td><td>1</td><td>-1</td><td>-1</td><td>-0.00000000</td><td>b''</td></tr>\n",
       "<tr><td>27</td><td>1</td><td>-1</td><td>-1</td><td>-0.00000000</td><td>b''</td></tr>\n",
       "<tr><td>28</td><td>1</td><td>-1</td><td>-1</td><td>-0.00000000</td><td>b''</td></tr>\n",
       "<tr><td>29</td><td>1</td><td>-1</td><td>-1</td><td>-0.00000000</td><td>b''</td></tr>\n",
       "\n",
       "                    </tbody>\n",
       "                </table>\n",
       "            </div>\n",
       "        "
      ],
      "text/plain": [
       "<tskit.tables.NodeTable at 0x7f3730594190>"
      ]
     },
     "execution_count": 9,
     "metadata": {},
     "output_type": "execute_result"
    }
   ],
   "source": [
    "tables.nodes"
   ]
  },
  {
   "cell_type": "code",
   "execution_count": 6,
   "id": "associate-planner",
   "metadata": {},
   "outputs": [],
   "source": [
    "tables.nodes.set_columns(time=-1.0*(tables.nodes.time - tables.nodes.time.max()),flags=tables.nodes.flags)"
   ]
  },
  {
   "cell_type": "code",
   "execution_count": 8,
   "id": "social-purse",
   "metadata": {},
   "outputs": [],
   "source": [
    "tables.sort()"
   ]
  },
  {
   "cell_type": "code",
   "execution_count": 10,
   "id": "surface-coordinator",
   "metadata": {},
   "outputs": [
    {
     "data": {
      "image/svg+xml": [
       "<svg xmlns=\"http://www.w3.org/2000/svg\" xmlns:ev=\"http://www.w3.org/2001/xml-events\" xmlns:xlink=\"http://www.w3.org/1999/xlink\" baseProfile=\"full\" height=\"200\" version=\"1.1\" width=\"600\"><defs><style type=\"text/css\"><![CDATA[.background path {fill: #808080; fill-opacity:0}.background path:nth-child(odd) {fill-opacity:.1}.axes {font-size: 14px}.x-axis .tick .lab {font-weight: bold}.axes, .tree {font-size: 14px; text-anchor:middle}.y-axis line.grid {stroke: #FAFAFA}.y-axis > .lab text {transform: translateX(0.8em) rotate(-90deg)}.x-axis .tick g {transform: translateY(0.9em)}.x-axis > .lab text {transform: translateY(-0.8em)}.axes line, .edge {stroke:black; fill:none}.node > .sym {fill: black; stroke: none}.site > .sym {stroke: black}.mut text {fill: red; font-style: italic}.mut.extra text {fill: hotpink}.mut line {fill: none; stroke: none}.mut .sym {fill: none; stroke: red}.mut.extra .sym {stroke: hotpink}.node .mut .sym {stroke-width: 1.5px}.tree text, .tree-sequence text {dominant-baseline: central}.plotbox .lab.lft {text-anchor: end}.plotbox .lab.rgt {text-anchor: start}]]></style></defs><g class=\"tree t0\"><g class=\"plotbox\"><g class=\"node n0 root sample\" transform=\"translate(60 26.8)\"><g class=\"a0 leaf node n10 sample\" transform=\"translate(-20 35.35)\"><path class=\"edge\" d=\"M 0 0 V -35.35 H 20\"/><rect class=\"sym\" height=\"6\" width=\"6\" x=\"-3\" y=\"-3\"/><text class=\"lab\" transform=\"translate(0 11)\">10</text></g><g class=\"a0 leaf node n11 sample\" transform=\"translate(20 35.35)\"><path class=\"edge\" d=\"M 0 0 V -35.35 H -20\"/><rect class=\"sym\" height=\"6\" width=\"6\" x=\"-3\" y=\"-3\"/><text class=\"lab\" transform=\"translate(0 11)\">11</text></g><rect class=\"sym\" height=\"6\" width=\"6\" x=\"-3\" y=\"-3\"/><text class=\"lab\" transform=\"translate(0 -11)\">0</text></g><g class=\"node n1 root sample\" transform=\"translate(120 26.8)\"><g class=\"a1 node n7 sample\" transform=\"translate(0.0 35.35)\"><g class=\"a7 leaf node n13 sample\" transform=\"translate(0.0 35.35)\"><path class=\"edge\" d=\"M 0 0 V -35.35 H 0.0\"/><rect class=\"sym\" height=\"6\" width=\"6\" x=\"-3\" y=\"-3\"/><text class=\"lab\" transform=\"translate(0 11)\">13</text></g><path class=\"edge\" d=\"M 0 0 V -35.35 H 0.0\"/><rect class=\"sym\" height=\"6\" width=\"6\" x=\"-3\" y=\"-3\"/><text class=\"lab lft\" transform=\"translate(-3 -7.0)\">7</text></g><rect class=\"sym\" height=\"6\" width=\"6\" x=\"-3\" y=\"-3\"/><text class=\"lab\" transform=\"translate(0 -11)\">1</text></g><g class=\"leaf node n2 root sample\" transform=\"translate(160 26.8)\"><rect class=\"sym\" height=\"6\" width=\"6\" x=\"-3\" y=\"-3\"/><text class=\"lab\" transform=\"translate(0 11)\">2</text></g><g class=\"leaf node n3 root sample\" transform=\"translate(200 26.8)\"><rect class=\"sym\" height=\"6\" width=\"6\" x=\"-3\" y=\"-3\"/><text class=\"lab\" transform=\"translate(0 11)\">3</text></g><g class=\"node n4 root sample\" transform=\"translate(350 26.8)\"><g class=\"a4 node n9 sample\" transform=\"translate(0.0 35.35)\"><g class=\"a9 leaf node n12 sample\" transform=\"translate(-110 35.35)\"><path class=\"edge\" d=\"M 0 0 V -35.35 H 110\"/><rect class=\"sym\" height=\"6\" width=\"6\" x=\"-3\" y=\"-3\"/><text class=\"lab\" transform=\"translate(0 11)\">12</text></g><g class=\"a9 node n14 sample\" transform=\"translate(110 35.35)\"><g class=\"a14 node n20 sample\" transform=\"translate(20 35.35)\"><g class=\"a20 leaf node n27 sample\" transform=\"translate(0.0 35.35)\"><path class=\"edge\" d=\"M 0 0 V -35.35 H 0.0\"/><rect class=\"sym\" height=\"6\" width=\"6\" x=\"-3\" y=\"-3\"/><text class=\"lab\" transform=\"translate(0 11)\">27</text></g><path class=\"edge\" d=\"M 0 0 V -35.35 H -20\"/><rect class=\"sym\" height=\"6\" width=\"6\" x=\"-3\" y=\"-3\"/><text class=\"lab rgt\" transform=\"translate(3 -7.0)\">20</text></g><g class=\"a14 node n23 sample\" transform=\"translate(-20 35.35)\"><g class=\"a23 leaf node n26 sample\" transform=\"translate(0.0 35.35)\"><path class=\"edge\" d=\"M 0 0 V -35.35 H 0.0\"/><rect class=\"sym\" height=\"6\" width=\"6\" x=\"-3\" y=\"-3\"/><text class=\"lab\" transform=\"translate(0 11)\">26</text></g><path class=\"edge\" d=\"M 0 0 V -35.35 H 20\"/><rect class=\"sym\" height=\"6\" width=\"6\" x=\"-3\" y=\"-3\"/><text class=\"lab lft\" transform=\"translate(-3 -7.0)\">23</text></g><path class=\"edge\" d=\"M 0 0 V -35.35 H -110\"/><rect class=\"sym\" height=\"6\" width=\"6\" x=\"-3\" y=\"-3\"/><text class=\"lab rgt\" transform=\"translate(3 -7.0)\">14</text></g><g class=\"a9 node n16 sample\" transform=\"translate(-50 35.35)\"><g class=\"a16 node n18 sample\" transform=\"translate(-20 35.35)\"><g class=\"a18 leaf node n24 sample\" transform=\"translate(0.0 35.35)\"><path class=\"edge\" d=\"M 0 0 V -35.35 H 0.0\"/><rect class=\"sym\" height=\"6\" width=\"6\" x=\"-3\" y=\"-3\"/><text class=\"lab\" transform=\"translate(0 11)\">24</text></g><path class=\"edge\" d=\"M 0 0 V -35.35 H 20\"/><rect class=\"sym\" height=\"6\" width=\"6\" x=\"-3\" y=\"-3\"/><text class=\"lab lft\" transform=\"translate(-3 -7.0)\">18</text></g><g class=\"a16 node n21 sample\" transform=\"translate(20 35.35)\"><g class=\"a21 leaf node n29 sample\" transform=\"translate(0.0 35.35)\"><path class=\"edge\" d=\"M 0 0 V -35.35 H 0.0\"/><rect class=\"sym\" height=\"6\" width=\"6\" x=\"-3\" y=\"-3\"/><text class=\"lab\" transform=\"translate(0 11)\">29</text></g><path class=\"edge\" d=\"M 0 0 V -35.35 H -20\"/><rect class=\"sym\" height=\"6\" width=\"6\" x=\"-3\" y=\"-3\"/><text class=\"lab rgt\" transform=\"translate(3 -7.0)\">21</text></g><path class=\"edge\" d=\"M 0 0 V -35.35 H 50\"/><rect class=\"sym\" height=\"6\" width=\"6\" x=\"-3\" y=\"-3\"/><text class=\"lab rgt\" transform=\"translate(3 -7.0)\">16</text></g><g class=\"a9 node n17 sample\" transform=\"translate(30 35.35)\"><g class=\"a17 node n19 sample\" transform=\"translate(0.0 35.35)\"><g class=\"a19 leaf node n25 sample\" transform=\"translate(-20 35.35)\"><path class=\"edge\" d=\"M 0 0 V -35.35 H 20\"/><rect class=\"sym\" height=\"6\" width=\"6\" x=\"-3\" y=\"-3\"/><text class=\"lab\" transform=\"translate(0 11)\">25</text></g><g class=\"a19 leaf node n28 sample\" transform=\"translate(20 35.35)\"><path class=\"edge\" d=\"M 0 0 V -35.35 H -20\"/><rect class=\"sym\" height=\"6\" width=\"6\" x=\"-3\" y=\"-3\"/><text class=\"lab\" transform=\"translate(0 11)\">28</text></g><path class=\"edge\" d=\"M 0 0 V -35.35 H 0.0\"/><rect class=\"sym\" height=\"6\" width=\"6\" x=\"-3\" y=\"-3\"/><text class=\"lab lft\" transform=\"translate(-3 -7.0)\">19</text></g><path class=\"edge\" d=\"M 0 0 V -35.35 H -30\"/><rect class=\"sym\" height=\"6\" width=\"6\" x=\"-3\" y=\"-3\"/><text class=\"lab rgt\" transform=\"translate(3 -7.0)\">17</text></g><path class=\"edge\" d=\"M 0 0 V -35.35 H 0.0\"/><rect class=\"sym\" height=\"6\" width=\"6\" x=\"-3\" y=\"-3\"/><text class=\"lab lft\" transform=\"translate(-3 -7.0)\">9</text></g><rect class=\"sym\" height=\"6\" width=\"6\" x=\"-3\" y=\"-3\"/><text class=\"lab\" transform=\"translate(0 -11)\">4</text></g><g class=\"node n5 root sample\" transform=\"translate(540 26.8)\"><g class=\"a5 leaf node n6 sample\" transform=\"translate(-20 35.35)\"><path class=\"edge\" d=\"M 0 0 V -35.35 H 20\"/><rect class=\"sym\" height=\"6\" width=\"6\" x=\"-3\" y=\"-3\"/><text class=\"lab\" transform=\"translate(0 11)\">6</text></g><g class=\"a5 node n8 sample\" transform=\"translate(20 35.35)\"><g class=\"a8 node n15 sample\" transform=\"translate(0.0 35.35)\"><g class=\"a15 leaf node n22 sample\" transform=\"translate(0.0 35.35)\"><path class=\"edge\" d=\"M 0 0 V -35.35 H 0.0\"/><rect class=\"sym\" height=\"6\" width=\"6\" x=\"-3\" y=\"-3\"/><text class=\"lab\" transform=\"translate(0 11)\">22</text></g><path class=\"edge\" d=\"M 0 0 V -35.35 H 0.0\"/><rect class=\"sym\" height=\"6\" width=\"6\" x=\"-3\" y=\"-3\"/><text class=\"lab lft\" transform=\"translate(-3 -7.0)\">15</text></g><path class=\"edge\" d=\"M 0 0 V -35.35 H -20\"/><rect class=\"sym\" height=\"6\" width=\"6\" x=\"-3\" y=\"-3\"/><text class=\"lab rgt\" transform=\"translate(3 -7.0)\">8</text></g><rect class=\"sym\" height=\"6\" width=\"6\" x=\"-3\" y=\"-3\"/><text class=\"lab\" transform=\"translate(0 -11)\">5</text></g></g></g></svg>"
      ],
      "text/plain": [
       "<IPython.core.display.SVG object>"
      ]
     },
     "execution_count": 10,
     "metadata": {},
     "output_type": "execute_result"
    }
   ],
   "source": [
    "\n",
    "\n",
    "ts = tables.tree_sequence()\n",
    "SVG(ts.first().draw(width=600))"
   ]
  },
  {
   "cell_type": "code",
   "execution_count": null,
   "id": "distinct-playlist",
   "metadata": {},
   "outputs": [],
   "source": []
  },
  {
   "cell_type": "code",
   "execution_count": null,
   "id": "reliable-poison",
   "metadata": {},
   "outputs": [],
   "source": []
  },
  {
   "cell_type": "code",
   "execution_count": null,
   "id": "excellent-establishment",
   "metadata": {},
   "outputs": [],
   "source": []
  },
  {
   "cell_type": "code",
   "execution_count": 12,
   "id": "coastal-harrison",
   "metadata": {},
   "outputs": [
    {
     "data": {
      "image/svg+xml": [
       "<svg xmlns=\"http://www.w3.org/2000/svg\" xmlns:ev=\"http://www.w3.org/2001/xml-events\" xmlns:xlink=\"http://www.w3.org/1999/xlink\" baseProfile=\"full\" height=\"200\" version=\"1.1\" width=\"400\"><defs><style type=\"text/css\"><![CDATA[.background path {fill: #808080; fill-opacity:0}.background path:nth-child(odd) {fill-opacity:.1}.axes {font-size: 14px}.x-axis .tick .lab {font-weight: bold}.axes, .tree {font-size: 14px; text-anchor:middle}.y-axis line.grid {stroke: #FAFAFA}.y-axis > .lab text {transform: translateX(0.8em) rotate(-90deg)}.x-axis .tick g {transform: translateY(0.9em)}.x-axis > .lab text {transform: translateY(-0.8em)}.axes line, .edge {stroke:black; fill:none}.node > .sym {fill: black; stroke: none}.site > .sym {stroke: black}.mut text {fill: red; font-style: italic}.mut.extra text {fill: hotpink}.mut line {fill: none; stroke: none}.mut .sym {fill: none; stroke: red}.mut.extra .sym {stroke: hotpink}.node .mut .sym {stroke-width: 1.5px}.tree text, .tree-sequence text {dominant-baseline: central}.plotbox .lab.lft {text-anchor: end}.plotbox .lab.rgt {text-anchor: start}]]></style></defs><g class=\"tree t0\"><g class=\"plotbox\"><g class=\"node n14 root\" transform=\"translate(174.286 26.8)\"><g class=\"a14 node n1 sample\" transform=\"translate(0.0 94.2667)\"><g class=\"a1 leaf node n7 sample\" transform=\"translate(-25.7143 47.1333)\"><path class=\"edge\" d=\"M 0 0 V -47.1333 H 25.7143\"/><rect class=\"sym\" height=\"6\" width=\"6\" x=\"-3\" y=\"-3\"/><text class=\"lab\" transform=\"translate(0 11)\">25-&gt;7</text></g><g class=\"a1 leaf node n10 sample\" transform=\"translate(25.7143 47.1333)\"><path class=\"edge\" d=\"M 0 0 V -47.1333 H -25.7143\"/><rect class=\"sym\" height=\"6\" width=\"6\" x=\"-3\" y=\"-3\"/><text class=\"lab\" transform=\"translate(0 11)\">28-&gt;10</text></g><path class=\"edge\" d=\"M 0 0 V -94.2667 H 0.0\"/><rect class=\"sym\" height=\"6\" width=\"6\" x=\"-3\" y=\"-3\"/><text class=\"lab rgt\" transform=\"translate(3 -7.0)\">19-&gt;1</text></g><g class=\"a14 node n12\" transform=\"translate(102.857 47.1333)\"><g class=\"a12 node n2 sample\" transform=\"translate(25.7143 47.1333)\"><g class=\"a2 leaf node n9 sample\" transform=\"translate(0.0 47.1333)\"><path class=\"edge\" d=\"M 0 0 V -47.1333 H 0.0\"/><rect class=\"sym\" height=\"6\" width=\"6\" x=\"-3\" y=\"-3\"/><text class=\"lab\" transform=\"translate(0 11)\">27-&gt;9</text></g><path class=\"edge\" d=\"M 0 0 V -47.1333 H -25.7143\"/><rect class=\"sym\" height=\"6\" width=\"6\" x=\"-3\" y=\"-3\"/><text class=\"lab rgt\" transform=\"translate(3 -7.0)\">20-&gt;2</text></g><g class=\"a12 node n5 sample\" transform=\"translate(-25.7143 47.1333)\"><g class=\"a5 leaf node n8 sample\" transform=\"translate(0.0 47.1333)\"><path class=\"edge\" d=\"M 0 0 V -47.1333 H 0.0\"/><rect class=\"sym\" height=\"6\" width=\"6\" x=\"-3\" y=\"-3\"/><text class=\"lab\" transform=\"translate(0 11)\">26-&gt;8</text></g><path class=\"edge\" d=\"M 0 0 V -47.1333 H 25.7143\"/><rect class=\"sym\" height=\"6\" width=\"6\" x=\"-3\" y=\"-3\"/><text class=\"lab lft\" transform=\"translate(-3 -7.0)\">23-&gt;5</text></g><path class=\"edge\" d=\"M 0 0 V -47.1333 H -102.857\"/><circle class=\"sym\" cx=\"0\" cy=\"0\" r=\"3\"/><text class=\"lab rgt\" transform=\"translate(3 -7.0)\">14-&gt;12</text></g><g class=\"a14 node n13\" transform=\"translate(-102.857 47.1333)\"><g class=\"a13 node n0 sample\" transform=\"translate(-25.7143 47.1333)\"><g class=\"a0 leaf node n6 sample\" transform=\"translate(0.0 47.1333)\"><path class=\"edge\" d=\"M 0 0 V -47.1333 H 0.0\"/><rect class=\"sym\" height=\"6\" width=\"6\" x=\"-3\" y=\"-3\"/><text class=\"lab\" transform=\"translate(0 11)\">24-&gt;6</text></g><path class=\"edge\" d=\"M 0 0 V -47.1333 H 25.7143\"/><rect class=\"sym\" height=\"6\" width=\"6\" x=\"-3\" y=\"-3\"/><text class=\"lab lft\" transform=\"translate(-3 -7.0)\">18-&gt;0</text></g><g class=\"a13 node n3 sample\" transform=\"translate(25.7143 47.1333)\"><g class=\"a3 leaf node n11 sample\" transform=\"translate(0.0 47.1333)\"><path class=\"edge\" d=\"M 0 0 V -47.1333 H 0.0\"/><rect class=\"sym\" height=\"6\" width=\"6\" x=\"-3\" y=\"-3\"/><text class=\"lab\" transform=\"translate(0 11)\">29-&gt;11</text></g><path class=\"edge\" d=\"M 0 0 V -47.1333 H -25.7143\"/><rect class=\"sym\" height=\"6\" width=\"6\" x=\"-3\" y=\"-3\"/><text class=\"lab rgt\" transform=\"translate(3 -7.0)\">21-&gt;3</text></g><path class=\"edge\" d=\"M 0 0 V -47.1333 H 102.857\"/><circle class=\"sym\" cx=\"0\" cy=\"0\" r=\"3\"/><text class=\"lab lft\" transform=\"translate(-3 -7.0)\">16-&gt;13</text></g><circle class=\"sym\" cx=\"0\" cy=\"0\" r=\"3\"/><text class=\"lab\" transform=\"translate(0 -11)\">9-&gt;14</text></g><g class=\"leaf node n4 root sample\" transform=\"translate(354.286 121.067)\"><rect class=\"sym\" height=\"6\" width=\"6\" x=\"-3\" y=\"-3\"/><text class=\"lab\" transform=\"translate(0 11)\">22-&gt;4</text></g></g></g></svg>"
      ],
      "text/plain": [
       "<IPython.core.display.SVG object>"
      ]
     },
     "execution_count": 12,
     "metadata": {},
     "output_type": "execute_result"
    }
   ],
   "source": [
    "m=2\n",
    "\n",
    "mask = [True if i in range(0,m) else False for i in tables.nodes.time]\n",
    "\n",
    "samples=np.where(mask)[0]\n",
    "samples\n",
    "\n",
    "node_map = tables.simplify(samples=samples.tolist())\n",
    "\n",
    "inverse_map = {node_map[node]: node for node in range(len(node_map))}\n",
    "\n",
    "ts = tables.tree_sequence()\n",
    "tree = ts.first()\n",
    "inverse_map = {node_map[node]: node for node in range(len(node_map))}\n",
    "labels = {u: \"{}->{}\".format(inverse_map[u], u) for u in tree.nodes()}\n",
    "SVG(tree.draw(height=200, width=400, node_labels=labels))"
   ]
  },
  {
   "cell_type": "code",
   "execution_count": 13,
   "id": "occasional-accounting",
   "metadata": {},
   "outputs": [
    {
     "data": {
      "image/svg+xml": [
       "<svg xmlns=\"http://www.w3.org/2000/svg\" xmlns:ev=\"http://www.w3.org/2001/xml-events\" xmlns:xlink=\"http://www.w3.org/1999/xlink\" baseProfile=\"full\" height=\"200\" version=\"1.1\" width=\"400\"><defs><style type=\"text/css\"><![CDATA[.background path {fill: #808080; fill-opacity:0}.background path:nth-child(odd) {fill-opacity:.1}.axes {font-size: 14px}.x-axis .tick .lab {font-weight: bold}.axes, .tree {font-size: 14px; text-anchor:middle}.y-axis line.grid {stroke: #FAFAFA}.y-axis > .lab text {transform: translateX(0.8em) rotate(-90deg)}.x-axis .tick g {transform: translateY(0.9em)}.x-axis > .lab text {transform: translateY(-0.8em)}.axes line, .edge {stroke:black; fill:none}.node > .sym {fill: black; stroke: none}.site > .sym {stroke: black}.mut text {fill: red; font-style: italic}.mut.extra text {fill: hotpink}.mut line {fill: none; stroke: none}.mut .sym {fill: none; stroke: red}.mut.extra .sym {stroke: hotpink}.node .mut .sym {stroke-width: 1.5px}.tree text, .tree-sequence text {dominant-baseline: central}.plotbox .lab.lft {text-anchor: end}.plotbox .lab.rgt {text-anchor: start}]]></style></defs><g class=\"tree t0\"><g class=\"plotbox\"><g class=\"node n14 root\" transform=\"translate(174.286 26.8)\"><g class=\"a14 node n1 sample\" transform=\"translate(0.0 94.2667)\"><g class=\"a1 leaf node n7 sample\" transform=\"translate(-25.7143 47.1333)\"><path class=\"edge\" d=\"M 0 0 V -47.1333 H 25.7143\"/><rect class=\"sym\" height=\"6\" width=\"6\" x=\"-3\" y=\"-3\"/><text class=\"lab\" transform=\"translate(0 11)\">7</text></g><g class=\"a1 leaf node n10 sample\" transform=\"translate(25.7143 47.1333)\"><path class=\"edge\" d=\"M 0 0 V -47.1333 H -25.7143\"/><rect class=\"sym\" height=\"6\" width=\"6\" x=\"-3\" y=\"-3\"/><text class=\"lab\" transform=\"translate(0 11)\">10</text></g><path class=\"edge\" d=\"M 0 0 V -94.2667 H 0.0\"/><rect class=\"sym\" height=\"6\" width=\"6\" x=\"-3\" y=\"-3\"/><text class=\"lab rgt\" transform=\"translate(3 -7.0)\">1</text></g><g class=\"a14 node n12\" transform=\"translate(102.857 47.1333)\"><g class=\"a12 node n2 sample\" transform=\"translate(25.7143 47.1333)\"><g class=\"a2 leaf node n9 sample\" transform=\"translate(0.0 47.1333)\"><path class=\"edge\" d=\"M 0 0 V -47.1333 H 0.0\"/><rect class=\"sym\" height=\"6\" width=\"6\" x=\"-3\" y=\"-3\"/><text class=\"lab\" transform=\"translate(0 11)\">9</text></g><path class=\"edge\" d=\"M 0 0 V -47.1333 H -25.7143\"/><rect class=\"sym\" height=\"6\" width=\"6\" x=\"-3\" y=\"-3\"/><text class=\"lab rgt\" transform=\"translate(3 -7.0)\">2</text></g><g class=\"a12 node n5 sample\" transform=\"translate(-25.7143 47.1333)\"><g class=\"a5 leaf node n8 sample\" transform=\"translate(0.0 47.1333)\"><path class=\"edge\" d=\"M 0 0 V -47.1333 H 0.0\"/><rect class=\"sym\" height=\"6\" width=\"6\" x=\"-3\" y=\"-3\"/><text class=\"lab\" transform=\"translate(0 11)\">8</text></g><path class=\"edge\" d=\"M 0 0 V -47.1333 H 25.7143\"/><rect class=\"sym\" height=\"6\" width=\"6\" x=\"-3\" y=\"-3\"/><text class=\"lab lft\" transform=\"translate(-3 -7.0)\">5</text></g><path class=\"edge\" d=\"M 0 0 V -47.1333 H -102.857\"/><circle class=\"sym\" cx=\"0\" cy=\"0\" r=\"3\"/><text class=\"lab rgt\" transform=\"translate(3 -7.0)\">12</text></g><g class=\"a14 node n13\" transform=\"translate(-102.857 47.1333)\"><g class=\"a13 node n0 sample\" transform=\"translate(-25.7143 47.1333)\"><g class=\"a0 leaf node n6 sample\" transform=\"translate(0.0 47.1333)\"><path class=\"edge\" d=\"M 0 0 V -47.1333 H 0.0\"/><rect class=\"sym\" height=\"6\" width=\"6\" x=\"-3\" y=\"-3\"/><text class=\"lab\" transform=\"translate(0 11)\">6</text></g><path class=\"edge\" d=\"M 0 0 V -47.1333 H 25.7143\"/><rect class=\"sym\" height=\"6\" width=\"6\" x=\"-3\" y=\"-3\"/><text class=\"lab lft\" transform=\"translate(-3 -7.0)\">0</text></g><g class=\"a13 node n3 sample\" transform=\"translate(25.7143 47.1333)\"><g class=\"a3 leaf node n11 sample\" transform=\"translate(0.0 47.1333)\"><path class=\"edge\" d=\"M 0 0 V -47.1333 H 0.0\"/><rect class=\"sym\" height=\"6\" width=\"6\" x=\"-3\" y=\"-3\"/><text class=\"lab\" transform=\"translate(0 11)\">11</text></g><path class=\"edge\" d=\"M 0 0 V -47.1333 H -25.7143\"/><rect class=\"sym\" height=\"6\" width=\"6\" x=\"-3\" y=\"-3\"/><text class=\"lab rgt\" transform=\"translate(3 -7.0)\">3</text></g><path class=\"edge\" d=\"M 0 0 V -47.1333 H 102.857\"/><circle class=\"sym\" cx=\"0\" cy=\"0\" r=\"3\"/><text class=\"lab lft\" transform=\"translate(-3 -7.0)\">13</text></g><circle class=\"sym\" cx=\"0\" cy=\"0\" r=\"3\"/><text class=\"lab\" transform=\"translate(0 -11)\">14</text></g><g class=\"leaf node n4 root sample\" transform=\"translate(354.286 121.067)\"><rect class=\"sym\" height=\"6\" width=\"6\" x=\"-3\" y=\"-3\"/><text class=\"lab\" transform=\"translate(0 11)\">4</text></g></g></g></svg>"
      ],
      "text/plain": [
       "<IPython.core.display.SVG object>"
      ]
     },
     "execution_count": 13,
     "metadata": {},
     "output_type": "execute_result"
    }
   ],
   "source": [
    "SVG(tree.draw(height=200, width=400))"
   ]
  },
  {
   "cell_type": "code",
   "execution_count": null,
   "id": "familiar-tackle",
   "metadata": {},
   "outputs": [],
   "source": []
  },
  {
   "cell_type": "code",
   "execution_count": 15,
   "id": "medical-convergence",
   "metadata": {},
   "outputs": [
    {
     "data": {
      "text/html": [
       "\n",
       "            <div>\n",
       "                <style scoped=\"\">\n",
       "                    .tskit-table tbody tr th:only-of-type {vertical-align: middle;}\n",
       "                    .tskit-table tbody tr th {vertical-align: top;}\n",
       "                    .tskit-table tbody td {text-align: right;padding: 0.5em 0.5em;}\n",
       "                    .tskit-table tbody th {padding: 0.5em 0.5em;}\n",
       "                </style>\n",
       "                <table border=\"1\" class=\"tskit-table\">\n",
       "                    <thead>\n",
       "                        <tr>\n",
       "                            <th>id</th><th>flags</th><th>population</th><th>individual</th><th>time</th><th>metadata</th>\n",
       "                        </tr>\n",
       "                    </thead>\n",
       "                    <tbody>\n",
       "                        <tr><td>0</td><td>1</td><td>-1</td><td>-1</td><td>1.00000000</td><td>b''</td></tr>\n",
       "<tr><td>1</td><td>1</td><td>-1</td><td>-1</td><td>1.00000000</td><td>b''</td></tr>\n",
       "<tr><td>2</td><td>1</td><td>-1</td><td>-1</td><td>1.00000000</td><td>b''</td></tr>\n",
       "<tr><td>3</td><td>1</td><td>-1</td><td>-1</td><td>1.00000000</td><td>b''</td></tr>\n",
       "<tr><td>4</td><td>1</td><td>-1</td><td>-1</td><td>1.00000000</td><td>b''</td></tr>\n",
       "<tr><td>5</td><td>1</td><td>-1</td><td>-1</td><td>1.00000000</td><td>b''</td></tr>\n",
       "<tr><td>6</td><td>1</td><td>-1</td><td>-1</td><td>-0.00000000</td><td>b''</td></tr>\n",
       "<tr><td>7</td><td>1</td><td>-1</td><td>-1</td><td>-0.00000000</td><td>b''</td></tr>\n",
       "<tr><td>8</td><td>1</td><td>-1</td><td>-1</td><td>-0.00000000</td><td>b''</td></tr>\n",
       "<tr><td>9</td><td>1</td><td>-1</td><td>-1</td><td>-0.00000000</td><td>b''</td></tr>\n",
       "<tr><td>10</td><td>1</td><td>-1</td><td>-1</td><td>-0.00000000</td><td>b''</td></tr>\n",
       "<tr><td>11</td><td>1</td><td>-1</td><td>-1</td><td>-0.00000000</td><td>b''</td></tr>\n",
       "<tr><td>12</td><td>0</td><td>-1</td><td>-1</td><td>2.00000000</td><td>b''</td></tr>\n",
       "<tr><td>13</td><td>0</td><td>-1</td><td>-1</td><td>2.00000000</td><td>b''</td></tr>\n",
       "<tr><td>14</td><td>0</td><td>-1</td><td>-1</td><td>3.00000000</td><td>b''</td></tr>\n",
       "<tr><td>15</td><td>1</td><td>-1</td><td>-1</td><td>0.00000000</td><td>b''</td></tr>\n",
       "\n",
       "                    </tbody>\n",
       "                </table>\n",
       "            </div>\n",
       "        "
      ],
      "text/plain": [
       "<tskit.tables.NodeTable at 0x7f368c860910>"
      ]
     },
     "execution_count": 15,
     "metadata": {},
     "output_type": "execute_result"
    }
   ],
   "source": [
    "tables.nodes"
   ]
  },
  {
   "cell_type": "code",
   "execution_count": 14,
   "id": "ranking-repository",
   "metadata": {},
   "outputs": [
    {
     "data": {
      "text/plain": [
       "15"
      ]
     },
     "execution_count": 14,
     "metadata": {},
     "output_type": "execute_result"
    }
   ],
   "source": [
    "tables.nodes.add_row(time=0, flags=tskit.NODE_IS_SAMPLE)"
   ]
  },
  {
   "cell_type": "code",
   "execution_count": 16,
   "id": "tender-standing",
   "metadata": {},
   "outputs": [
    {
     "data": {
      "text/plain": [
       "13"
      ]
     },
     "execution_count": 16,
     "metadata": {},
     "output_type": "execute_result"
    }
   ],
   "source": [
    "tables.edges.add_row(left=0, right=1, parent=13, child=15)"
   ]
  },
  {
   "cell_type": "code",
   "execution_count": 17,
   "id": "concerned-federal",
   "metadata": {},
   "outputs": [],
   "source": [
    "tables.sort()"
   ]
  },
  {
   "cell_type": "code",
   "execution_count": 18,
   "id": "assigned-chick",
   "metadata": {},
   "outputs": [
    {
     "data": {
      "image/svg+xml": [
       "<svg xmlns=\"http://www.w3.org/2000/svg\" xmlns:ev=\"http://www.w3.org/2001/xml-events\" xmlns:xlink=\"http://www.w3.org/1999/xlink\" baseProfile=\"full\" height=\"200\" version=\"1.1\" width=\"400\"><defs><style type=\"text/css\"><![CDATA[.background path {fill: #808080; fill-opacity:0}.background path:nth-child(odd) {fill-opacity:.1}.axes {font-size: 14px}.x-axis .tick .lab {font-weight: bold}.axes, .tree {font-size: 14px; text-anchor:middle}.y-axis line.grid {stroke: #FAFAFA}.y-axis > .lab text {transform: translateX(0.8em) rotate(-90deg)}.x-axis .tick g {transform: translateY(0.9em)}.x-axis > .lab text {transform: translateY(-0.8em)}.axes line, .edge {stroke:black; fill:none}.node > .sym {fill: black; stroke: none}.site > .sym {stroke: black}.mut text {fill: red; font-style: italic}.mut.extra text {fill: hotpink}.mut line {fill: none; stroke: none}.mut .sym {fill: none; stroke: red}.mut.extra .sym {stroke: hotpink}.node .mut .sym {stroke-width: 1.5px}.tree text, .tree-sequence text {dominant-baseline: central}.plotbox .lab.lft {text-anchor: end}.plotbox .lab.rgt {text-anchor: start}]]></style></defs><g class=\"tree t0\"><g class=\"plotbox\"><g class=\"node n14 root\" transform=\"translate(188.75 26.8)\"><g class=\"a14 node n1 sample\" transform=\"translate(11.25 94.2667)\"><g class=\"a1 leaf node n7 sample\" transform=\"translate(-22.5 47.1333)\"><path class=\"edge\" d=\"M 0 0 V -47.1333 H 22.5\"/><rect class=\"sym\" height=\"6\" width=\"6\" x=\"-3\" y=\"-3\"/><text class=\"lab\" transform=\"translate(0 11)\">7</text></g><g class=\"a1 leaf node n10 sample\" transform=\"translate(22.5 47.1333)\"><path class=\"edge\" d=\"M 0 0 V -47.1333 H -22.5\"/><rect class=\"sym\" height=\"6\" width=\"6\" x=\"-3\" y=\"-3\"/><text class=\"lab\" transform=\"translate(0 11)\">10</text></g><path class=\"edge\" d=\"M 0 0 V -94.2667 H -11.25\"/><rect class=\"sym\" height=\"6\" width=\"6\" x=\"-3\" y=\"-3\"/><text class=\"lab rgt\" transform=\"translate(3 -7.0)\">1</text></g><g class=\"a14 node n12\" transform=\"translate(101.25 47.1333)\"><g class=\"a12 node n2 sample\" transform=\"translate(22.5 47.1333)\"><g class=\"a2 leaf node n9 sample\" transform=\"translate(0.0 47.1333)\"><path class=\"edge\" d=\"M 0 0 V -47.1333 H 0.0\"/><rect class=\"sym\" height=\"6\" width=\"6\" x=\"-3\" y=\"-3\"/><text class=\"lab\" transform=\"translate(0 11)\">9</text></g><path class=\"edge\" d=\"M 0 0 V -47.1333 H -22.5\"/><rect class=\"sym\" height=\"6\" width=\"6\" x=\"-3\" y=\"-3\"/><text class=\"lab rgt\" transform=\"translate(3 -7.0)\">2</text></g><g class=\"a12 node n5 sample\" transform=\"translate(-22.5 47.1333)\"><g class=\"a5 leaf node n8 sample\" transform=\"translate(0.0 47.1333)\"><path class=\"edge\" d=\"M 0 0 V -47.1333 H 0.0\"/><rect class=\"sym\" height=\"6\" width=\"6\" x=\"-3\" y=\"-3\"/><text class=\"lab\" transform=\"translate(0 11)\">8</text></g><path class=\"edge\" d=\"M 0 0 V -47.1333 H 22.5\"/><rect class=\"sym\" height=\"6\" width=\"6\" x=\"-3\" y=\"-3\"/><text class=\"lab lft\" transform=\"translate(-3 -7.0)\">5</text></g><path class=\"edge\" d=\"M 0 0 V -47.1333 H -101.25\"/><circle class=\"sym\" cx=\"0\" cy=\"0\" r=\"3\"/><text class=\"lab rgt\" transform=\"translate(3 -7.0)\">12</text></g><g class=\"a14 node n13\" transform=\"translate(-101.25 47.1333)\"><g class=\"a13 node n0 sample\" transform=\"translate(-45 47.1333)\"><g class=\"a0 leaf node n6 sample\" transform=\"translate(0.0 47.1333)\"><path class=\"edge\" d=\"M 0 0 V -47.1333 H 0.0\"/><rect class=\"sym\" height=\"6\" width=\"6\" x=\"-3\" y=\"-3\"/><text class=\"lab\" transform=\"translate(0 11)\">6</text></g><path class=\"edge\" d=\"M 0 0 V -47.1333 H 45\"/><rect class=\"sym\" height=\"6\" width=\"6\" x=\"-3\" y=\"-3\"/><text class=\"lab lft\" transform=\"translate(-3 -7.0)\">0</text></g><g class=\"a13 node n3 sample\" transform=\"translate(0.0 47.1333)\"><g class=\"a3 leaf node n11 sample\" transform=\"translate(0.0 47.1333)\"><path class=\"edge\" d=\"M 0 0 V -47.1333 H 0.0\"/><rect class=\"sym\" height=\"6\" width=\"6\" x=\"-3\" y=\"-3\"/><text class=\"lab\" transform=\"translate(0 11)\">11</text></g><path class=\"edge\" d=\"M 0 0 V -47.1333 H 0.0\"/><rect class=\"sym\" height=\"6\" width=\"6\" x=\"-3\" y=\"-3\"/><text class=\"lab rgt\" transform=\"translate(3 -7.0)\">3</text></g><g class=\"a13 leaf node n15 sample\" transform=\"translate(45 94.2667)\"><path class=\"edge\" d=\"M 0 0 V -94.2667 H -45\"/><rect class=\"sym\" height=\"6\" width=\"6\" x=\"-3\" y=\"-3\"/><text class=\"lab\" transform=\"translate(0 11)\">15</text></g><path class=\"edge\" d=\"M 0 0 V -47.1333 H 101.25\"/><circle class=\"sym\" cx=\"0\" cy=\"0\" r=\"3\"/><text class=\"lab lft\" transform=\"translate(-3 -7.0)\">13</text></g><circle class=\"sym\" cx=\"0\" cy=\"0\" r=\"3\"/><text class=\"lab\" transform=\"translate(0 -11)\">14</text></g><g class=\"leaf node n4 root sample\" transform=\"translate(357.5 121.067)\"><rect class=\"sym\" height=\"6\" width=\"6\" x=\"-3\" y=\"-3\"/><text class=\"lab\" transform=\"translate(0 11)\">4</text></g></g></g></svg>"
      ],
      "text/plain": [
       "<IPython.core.display.SVG object>"
      ]
     },
     "execution_count": 18,
     "metadata": {},
     "output_type": "execute_result"
    }
   ],
   "source": [
    "ts = tables.tree_sequence()\n",
    "tree = ts.first()\n",
    "\n",
    "SVG(tree.draw(height=200, width=400))"
   ]
  },
  {
   "cell_type": "code",
   "execution_count": null,
   "id": "knowing-machinery",
   "metadata": {},
   "outputs": [],
   "source": []
  },
  {
   "cell_type": "code",
   "execution_count": null,
   "id": "imported-cause",
   "metadata": {},
   "outputs": [],
   "source": []
  },
  {
   "cell_type": "code",
   "execution_count": null,
   "id": "documented-going",
   "metadata": {},
   "outputs": [],
   "source": []
  },
  {
   "cell_type": "code",
   "execution_count": null,
   "id": "musical-testimony",
   "metadata": {},
   "outputs": [],
   "source": []
  },
  {
   "cell_type": "code",
   "execution_count": null,
   "id": "unexpected-vehicle",
   "metadata": {},
   "outputs": [],
   "source": []
  },
  {
   "cell_type": "code",
   "execution_count": null,
   "id": "sized-example",
   "metadata": {},
   "outputs": [],
   "source": []
  },
  {
   "cell_type": "code",
   "execution_count": null,
   "id": "veterinary-amplifier",
   "metadata": {},
   "outputs": [],
   "source": []
  },
  {
   "cell_type": "code",
   "execution_count": null,
   "id": "seventh-education",
   "metadata": {},
   "outputs": [],
   "source": []
  },
  {
   "cell_type": "code",
   "execution_count": 163,
   "id": "commercial-richardson",
   "metadata": {},
   "outputs": [],
   "source": [
    "nodes, edges = tables.nodes, tables.edges"
   ]
  },
  {
   "cell_type": "code",
   "execution_count": 165,
   "id": "productive-shoot",
   "metadata": {},
   "outputs": [
    {
     "data": {
      "text/plain": [
       "(15, 13)"
      ]
     },
     "execution_count": 165,
     "metadata": {},
     "output_type": "execute_result"
    }
   ],
   "source": [
    "len(nodes), len(edges)"
   ]
  },
  {
   "cell_type": "code",
   "execution_count": 170,
   "id": "overall-brown",
   "metadata": {},
   "outputs": [],
   "source": [
    "next_offspring_index = len(nodes)\n",
    "first_parental_index = 0 + 2*N*(m-1)"
   ]
  },
  {
   "cell_type": "code",
   "execution_count": 172,
   "id": "starting-leeds",
   "metadata": {},
   "outputs": [
    {
     "data": {
      "text/plain": [
       "(15, 6)"
      ]
     },
     "execution_count": 172,
     "metadata": {},
     "output_type": "execute_result"
    }
   ],
   "source": [
    "next_offspring_index, first_parental_index"
   ]
  },
  {
   "cell_type": "code",
   "execution_count": 173,
   "id": "commercial-alert",
   "metadata": {},
   "outputs": [],
   "source": [
    "gen = 4\n",
    "\n",
    "parents = np.random.randint(0, N, 2*N)\n",
    "for parent1, parent2 in zip(parents[::2], parents[1::2]):\n",
    "    mendel = np.random.random_sample(2)\n",
    "    g1 = first_parental_index + 2*parent1 + (mendel[0] < 0.5)\n",
    "    g2 = first_parental_index + 2*parent2 + (mendel[1]< 0.5)\n",
    "\n",
    "    nodes.add_row(time=gen, flags=tskit.NODE_IS_SAMPLE)\n",
    "    nodes.add_row(time=gen, flags=tskit.NODE_IS_SAMPLE)\n",
    "\n",
    "    edges.add_row(left=0.0, right=1.0, parent=g1, child=next_offspring_index)\n",
    "    edges.add_row(left=0.0, right=1.0, parent=g2, child=next_offspring_index+1)\n",
    "\n",
    "    next_offspring_index += 2\n",
    "first_parental_index += 2*N"
   ]
  },
  {
   "cell_type": "code",
   "execution_count": null,
   "id": "infectious-tractor",
   "metadata": {},
   "outputs": [],
   "source": []
  },
  {
   "cell_type": "code",
   "execution_count": null,
   "id": "successful-bottle",
   "metadata": {},
   "outputs": [],
   "source": []
  },
  {
   "cell_type": "code",
   "execution_count": 174,
   "id": "spread-tennessee",
   "metadata": {},
   "outputs": [
    {
     "ename": "LibraryError",
     "evalue": "time[parent] must be greater than time[child]",
     "output_type": "error",
     "traceback": [
      "\u001b[0;31m---------------------------------------------------------------------------\u001b[0m",
      "\u001b[0;31mLibraryError\u001b[0m                              Traceback (most recent call last)",
      "\u001b[0;32m<ipython-input-174-aea2f98d36c6>\u001b[0m in \u001b[0;36m<module>\u001b[0;34m\u001b[0m\n\u001b[1;32m      1\u001b[0m tables.nodes.set_columns(time=-1.0*(tables.nodes.time - tables.nodes.time.max()),\n\u001b[1;32m      2\u001b[0m                   flags=tables.nodes.flags)\n\u001b[0;32m----> 3\u001b[0;31m \u001b[0mtables\u001b[0m\u001b[0;34m.\u001b[0m\u001b[0msort\u001b[0m\u001b[0;34m(\u001b[0m\u001b[0;34m)\u001b[0m\u001b[0;34m\u001b[0m\u001b[0;34m\u001b[0m\u001b[0m\n\u001b[0m\u001b[1;32m      4\u001b[0m \u001b[0;34m\u001b[0m\u001b[0m\n\u001b[1;32m      5\u001b[0m \u001b[0mts\u001b[0m \u001b[0;34m=\u001b[0m \u001b[0mtables\u001b[0m\u001b[0;34m.\u001b[0m\u001b[0mtree_sequence\u001b[0m\u001b[0;34m(\u001b[0m\u001b[0;34m)\u001b[0m\u001b[0;34m\u001b[0m\u001b[0;34m\u001b[0m\u001b[0m\n",
      "\u001b[0;32m~/miniconda3/lib/python3.8/site-packages/tskit/tables.py\u001b[0m in \u001b[0;36msort\u001b[0;34m(self, edge_start)\u001b[0m\n\u001b[1;32m   2959\u001b[0m             \u001b[0;34m(\u001b[0m\u001b[0mdefault\u001b[0m\u001b[0;34m=\u001b[0m\u001b[0;36m0\u001b[0m\u001b[0;34m;\u001b[0m \u001b[0mmust\u001b[0m \u001b[0mbe\u001b[0m \u001b[0;34m<=\u001b[0m \u001b[0mlen\u001b[0m\u001b[0;34m(\u001b[0m\u001b[0medges\u001b[0m\u001b[0;34m)\u001b[0m\u001b[0;34m)\u001b[0m\u001b[0;34m.\u001b[0m\u001b[0;34m\u001b[0m\u001b[0;34m\u001b[0m\u001b[0m\n\u001b[1;32m   2960\u001b[0m         \"\"\"\n\u001b[0;32m-> 2961\u001b[0;31m         \u001b[0mself\u001b[0m\u001b[0;34m.\u001b[0m\u001b[0m_ll_tables\u001b[0m\u001b[0;34m.\u001b[0m\u001b[0msort\u001b[0m\u001b[0;34m(\u001b[0m\u001b[0medge_start\u001b[0m\u001b[0;34m)\u001b[0m\u001b[0;34m\u001b[0m\u001b[0;34m\u001b[0m\u001b[0m\n\u001b[0m\u001b[1;32m   2962\u001b[0m         \u001b[0;31m# TODO add provenance\u001b[0m\u001b[0;34m\u001b[0m\u001b[0;34m\u001b[0m\u001b[0;34m\u001b[0m\u001b[0m\n\u001b[1;32m   2963\u001b[0m \u001b[0;34m\u001b[0m\u001b[0m\n",
      "\u001b[0;31mLibraryError\u001b[0m: time[parent] must be greater than time[child]"
     ]
    }
   ],
   "source": [
    "tables.nodes.set_columns(time=-1.0*(tables.nodes.time - tables.nodes.time.max()),\n",
    "                  flags=tables.nodes.flags)\n",
    "tables.sort()\n",
    "\n",
    "ts = tables.tree_sequence()\n",
    "SVG(ts.first().draw(width=600))"
   ]
  },
  {
   "cell_type": "code",
   "execution_count": null,
   "id": "local-garbage",
   "metadata": {},
   "outputs": [],
   "source": []
  },
  {
   "cell_type": "code",
   "execution_count": null,
   "id": "provincial-hypothetical",
   "metadata": {},
   "outputs": [],
   "source": []
  },
  {
   "cell_type": "code",
   "execution_count": null,
   "id": "matched-embassy",
   "metadata": {},
   "outputs": [],
   "source": []
  },
  {
   "cell_type": "code",
   "execution_count": null,
   "id": "african-portsmouth",
   "metadata": {},
   "outputs": [],
   "source": []
  },
  {
   "cell_type": "code",
   "execution_count": null,
   "id": "professional-safety",
   "metadata": {},
   "outputs": [],
   "source": []
  },
  {
   "cell_type": "code",
   "execution_count": 101,
   "id": "preceding-excellence",
   "metadata": {},
   "outputs": [],
   "source": [
    "def simplify_nodes_edges(tables, temp_nodes, dt):\n",
    "    nodes, edges = tables.nodes, tables.edges\n",
    "    if(len(edges) == 0):\n",
    "        return tables\n",
    "    nodes.set_columns(time=nodes.time+dt, flags=nodes.flags)\n",
    "    t = temp_nodes.time\n",
    "    t -= t.max()\n",
    "    t *= -1.0\n",
    "    gap = nodes.time.min()-t.max()\n",
    "    assert(gap==1)\n",
    "    nodes.append_columns(time=t,flags=temp_nodes.flags)\n",
    "    tables.sort()\n",
    "    samples = np.where(nodes.time == 0.0)[0]\n",
    "    node_map = tables.simplify(samples=samples.tolist())\n",
    "    assert(all(node_map[samples] == np.arange(len(samples),dtype=node_map.dtype)))"
   ]
  },
  {
   "cell_type": "code",
   "execution_count": 105,
   "id": "wired-maple",
   "metadata": {},
   "outputs": [],
   "source": [
    "def wf2(N, ngens, gc):\n",
    "    if gc < 1:\n",
    "        raise ValueError(\"gc must be a non-negative int\")\n",
    "        \n",
    "    tables = tskit.TableCollection(1)\n",
    "    nodes, edges = tables.nodes, tables.edges\n",
    "    temp_nodes = tskit.NodeTable()\n",
    "    for i in range(2*N):\n",
    "        nodes.add_row(time=0, flags=tskit.NODE_IS_SAMPLE)\n",
    "    \n",
    "    next_offspring_index = len(nodes)\n",
    "    first_parental_index = 0\n",
    "    last_gc_time = 0\n",
    "\n",
    "    for gen in range(0,ngens):\n",
    "        if gen % gc == 0.0:\n",
    "            # Simplify the data\n",
    "            simplify_nodes_edges(tables,temp_nodes,gen-last_gc_time)\n",
    "            last_gc_time=gen\n",
    "            temp_nodes.clear()\n",
    "            next_offspring_index = len(nodes)\n",
    "            first_parental_index = 0\n",
    "            print(nodes)\n",
    "            assert(all(nodes.time[:2*N] == 0.0))\n",
    "        else:\n",
    "            first_parental_index = next_offspring_index - 2*N\n",
    "            assert(first_parental_index == len(nodes)+len(temp_nodes)-2*N)\n",
    "            \n",
    "        parents = np.random.randint(0, N, 2*N)\n",
    "        for parent1, parent2 in zip(parents[::2], parents[1::2]):\n",
    "            mendel = np.random.random_sample(2)\n",
    "            g1 = first_parental_index + 2*parent1 + (mendel[0] < 0.5)\n",
    "            g2 = first_parental_index + 2*parent2 + (mendel[1] < 0.5)\n",
    "\n",
    "\n",
    "            temp_nodes.add_row(time=gen+1, flags=tskit.NODE_IS_SAMPLE)\n",
    "            temp_nodes.add_row(time=gen+1, flags=tskit.NODE_IS_SAMPLE)\n",
    "  \n",
    "            edges.add_row(left=0.0, right=1.0, parent=g1, child=next_offspring_index)\n",
    "            edges.add_row(left=0.0, right=1.0, parent=g2, child=next_offspring_index + 1)\n",
    "            \n",
    "            next_offspring_index += 2\n",
    "        \n",
    "    if len(temp_nodes)>0:\n",
    "        # Handle any new nodes before returning\n",
    "        simplify_nodes_edges(tables, temp_nodes, gen + 1 - last_gc_time)\n",
    "\n",
    "    return tables"
   ]
  },
  {
   "cell_type": "code",
   "execution_count": 106,
   "id": "dependent-secondary",
   "metadata": {},
   "outputs": [
    {
     "name": "stdout",
     "output_type": "stream",
     "text": [
      "╔══╤═════╤══════════╤══════════╤══════════╤════════╗\n",
      "║id│flags│population│individual│time      │metadata║\n",
      "╠══╪═════╪══════════╪══════════╪══════════╪════════╣\n",
      "║0 │    1│        -1│        -1│0.00000000│     b''║\n",
      "║1 │    1│        -1│        -1│0.00000000│     b''║\n",
      "║2 │    1│        -1│        -1│0.00000000│     b''║\n",
      "║3 │    1│        -1│        -1│0.00000000│     b''║\n",
      "║4 │    1│        -1│        -1│0.00000000│     b''║\n",
      "║5 │    1│        -1│        -1│0.00000000│     b''║\n",
      "╚══╧═════╧══════════╧══════════╧══════════╧════════╝\n",
      "\n",
      "╔══╤═════╤══════════╤══════════╤═══════════╤════════╗\n",
      "║id│flags│population│individual│time       │metadata║\n",
      "╠══╪═════╪══════════╪══════════╪═══════════╪════════╣\n",
      "║0 │    1│        -1│        -1│-0.00000000│     b''║\n",
      "║1 │    1│        -1│        -1│-0.00000000│     b''║\n",
      "║2 │    1│        -1│        -1│-0.00000000│     b''║\n",
      "║3 │    1│        -1│        -1│-0.00000000│     b''║\n",
      "║4 │    1│        -1│        -1│-0.00000000│     b''║\n",
      "║5 │    1│        -1│        -1│-0.00000000│     b''║\n",
      "║6 │    0│        -1│        -1│ 1.00000000│     b''║\n",
      "║7 │    0│        -1│        -1│ 2.00000000│     b''║\n",
      "║8 │    0│        -1│        -1│ 2.00000000│     b''║\n",
      "║9 │    0│        -1│        -1│ 3.00000000│     b''║\n",
      "╚══╧═════╧══════════╧══════════╧═══════════╧════════╝\n",
      "\n",
      "╔══╤═════╤══════════╤══════════╤═══════════╤════════╗\n",
      "║id│flags│population│individual│time       │metadata║\n",
      "╠══╪═════╪══════════╪══════════╪═══════════╪════════╣\n",
      "║0 │    1│        -1│        -1│-0.00000000│     b''║\n",
      "║1 │    1│        -1│        -1│-0.00000000│     b''║\n",
      "║2 │    1│        -1│        -1│-0.00000000│     b''║\n",
      "║3 │    1│        -1│        -1│-0.00000000│     b''║\n",
      "║4 │    1│        -1│        -1│-0.00000000│     b''║\n",
      "║5 │    1│        -1│        -1│-0.00000000│     b''║\n",
      "║6 │    0│        -1│        -1│ 1.00000000│     b''║\n",
      "║7 │    0│        -1│        -1│ 1.00000000│     b''║\n",
      "║8 │    0│        -1│        -1│ 3.00000000│     b''║\n",
      "║9 │    0│        -1│        -1│ 7.00000000│     b''║\n",
      "╚══╧═════╧══════════╧══════════╧═══════════╧════════╝\n",
      "\n"
     ]
    }
   ],
   "source": [
    "\n",
    "np.random.seed(42)\n",
    "tables = wf2(3,10,4)\n",
    "n = tables.nodes\n",
    "e = tables.edges\n"
   ]
  },
  {
   "cell_type": "code",
   "execution_count": null,
   "id": "tight-wings",
   "metadata": {},
   "outputs": [],
   "source": []
  },
  {
   "cell_type": "code",
   "execution_count": null,
   "id": "reliable-promise",
   "metadata": {},
   "outputs": [],
   "source": []
  },
  {
   "cell_type": "code",
   "execution_count": 385,
   "id": "artistic-massage",
   "metadata": {},
   "outputs": [],
   "source": [
    "def simplify_nodes_edges(tables, temp_nodes, dt):\n",
    "    nodes, edges = tables.nodes, tables.edges\n",
    "    if(len(edges) == 0):\n",
    "        return tables\n",
    "    \n",
    "    #print(temp_nodes)\n",
    "    \n",
    "    nodes.set_columns(time=nodes.time+dt, flags=nodes.flags)\n",
    "    t = temp_nodes.time\n",
    "    t -= t.max()\n",
    "    t *= -1.0\n",
    "    gap = nodes.time.min()-t.max()\n",
    "    assert(gap==1)\n",
    "    nodes.append_columns(time=t,flags=temp_nodes.flags)\n",
    "    \n",
    "    \n",
    "    \n",
    "    tables.sort()\n",
    "    \n",
    "    \n",
    "    mask = [True if i in range(0,m) else False for i in tables.nodes.time]\n",
    "    samples=np.where(mask)[0]\n",
    "    \n",
    "    #samples = np.where(nodes.time == 0.0)[0]\n",
    "    node_map = tables.simplify(samples=samples.tolist())\n",
    "    assert(all(node_map[samples] == np.arange(len(samples),dtype=node_map.dtype)))"
   ]
  },
  {
   "cell_type": "code",
   "execution_count": 341,
   "id": "hungry-legend",
   "metadata": {},
   "outputs": [],
   "source": [
    "def simplify_nodes_edges_wf(tables, temp_nodes, dt):\n",
    "    nodes, edges = tables.nodes, tables.edges\n",
    "    if(len(edges) == 0):\n",
    "        return tables\n",
    "    nodes.set_columns(time=nodes.time+dt, flags=nodes.flags)\n",
    "    t = temp_nodes.time\n",
    "    t -= t.max()\n",
    "    t *= -1.0\n",
    "    gap = nodes.time.min()-t.max()\n",
    "    assert(gap==1)\n",
    "    nodes.append_columns(time=t,flags=temp_nodes.flags)\n",
    "    \n",
    "    \n",
    "    \n",
    "    tables.sort()\n",
    "    \n",
    "    \n",
    "    samples = np.where(nodes.time == 0.0)[0]\n",
    "    \n",
    "    #samples = np.where(nodes.time == 0.0)[0]\n",
    "    node_map = tables.simplify(samples=samples.tolist())\n",
    "    assert(all(node_map[samples] == np.arange(len(samples),dtype=node_map.dtype)))"
   ]
  },
  {
   "cell_type": "code",
   "execution_count": null,
   "id": "clean-harvard",
   "metadata": {},
   "outputs": [],
   "source": []
  },
  {
   "cell_type": "code",
   "execution_count": 386,
   "id": "secret-defeat",
   "metadata": {},
   "outputs": [],
   "source": [
    "def wf2(N, ngens, gc):\n",
    "    \n",
    "    \n",
    "    simp_count = 0\n",
    "    \n",
    "    if gc < 1:\n",
    "        raise ValueError(\"gc must be a non-negative int\")\n",
    "        \n",
    "    tables = tskit.TableCollection(1)\n",
    "    nodes, edges = tables.nodes, tables.edges\n",
    "    temp_nodes = tskit.NodeTable()\n",
    "    for i in range(2*N):\n",
    "        nodes.add_row(time=0, flags=tskit.NODE_IS_SAMPLE)\n",
    "    \n",
    "    next_offspring_index = len(nodes)\n",
    "    first_parental_index = 0\n",
    "    last_gc_time = 0\n",
    "\n",
    "    for gen in range(0,ngens):\n",
    "        \n",
    "        #print(first_parental_index, next_offspring_index)\n",
    "        \n",
    "        if gen % gc == 0.0:\n",
    "            # Simplify the data\n",
    "            simplify_nodes_edges(tables,temp_nodes,gen-last_gc_time)\n",
    "            simp_count += 1\n",
    "            last_gc_time=gen\n",
    "            temp_nodes.clear()\n",
    "            \n",
    "            next_offspring_index = len(nodes)\n",
    "            first_parental_index = 0\n",
    "                \n",
    "            print(f\"next_offspring_index {next_offspring_index} first_parental_index {first_parental_index}\")                \n",
    "            #assert(all(nodes.time[:2*N] == 0.0))\n",
    "        else:\n",
    "            first_parental_index = next_offspring_index - 2*N \n",
    "                \n",
    "            #assert(first_parental_index == len(nodes)+len(temp_nodes)-2*N)\n",
    "            \n",
    "        parents = np.random.randint(0, N, 2*N)\n",
    "        for parent1, parent2 in zip(parents[::2], parents[1::2]):\n",
    "            mendel = np.random.random_sample(2)\n",
    "            g1 = first_parental_index + 2*parent1 + (mendel[0] < 0.5)\n",
    "            g2 = first_parental_index + 2*parent2 + (mendel[1] < 0.5)\n",
    "\n",
    "\n",
    "            temp_nodes.add_row(time=gen+1, flags=tskit.NODE_IS_SAMPLE)\n",
    "            temp_nodes.add_row(time=gen+1, flags=tskit.NODE_IS_SAMPLE)\n",
    "  \n",
    "            edges.add_row(left=0.0, right=1.0, parent=g1, child=next_offspring_index)\n",
    "            edges.add_row(left=0.0, right=1.0, parent=g2, child=next_offspring_index + 1)\n",
    "            \n",
    "            next_offspring_index += 2\n",
    "        \n",
    "    if len(temp_nodes)>0:\n",
    "        # Handle any new nodes before returning\n",
    "        simplify_nodes_edges(tables, temp_nodes, gen + 1 - last_gc_time)\n",
    "\n",
    "    return tables"
   ]
  },
  {
   "cell_type": "code",
   "execution_count": null,
   "id": "lovely-ceramic",
   "metadata": {},
   "outputs": [],
   "source": []
  },
  {
   "cell_type": "code",
   "execution_count": 387,
   "id": "patient-wonder",
   "metadata": {},
   "outputs": [
    {
     "name": "stdout",
     "output_type": "stream",
     "text": [
      "next_offspring_index 6 first_parental_index 0\n",
      "next_offspring_index 16 first_parental_index 0\n"
     ]
    }
   ],
   "source": [
    "np.random.seed(42)\n",
    "\n",
    "m=2\n",
    "tables = wf2(3,20,10)\n",
    "#n = tables.nodes\n",
    "#e = tables.edges"
   ]
  },
  {
   "cell_type": "code",
   "execution_count": null,
   "id": "perfect-saudi",
   "metadata": {},
   "outputs": [],
   "source": []
  },
  {
   "cell_type": "code",
   "execution_count": null,
   "id": "after-bruce",
   "metadata": {},
   "outputs": [],
   "source": []
  },
  {
   "cell_type": "code",
   "execution_count": 429,
   "id": "authentic-jackson",
   "metadata": {},
   "outputs": [
    {
     "data": {
      "image/svg+xml": [
       "<svg xmlns=\"http://www.w3.org/2000/svg\" xmlns:ev=\"http://www.w3.org/2001/xml-events\" xmlns:xlink=\"http://www.w3.org/1999/xlink\" baseProfile=\"full\" height=\"500\" version=\"1.1\" width=\"800\"><defs><style type=\"text/css\"><![CDATA[.background path {fill: #808080; fill-opacity:0}.background path:nth-child(odd) {fill-opacity:.1}.axes {font-size: 14px}.x-axis .tick .lab {font-weight: bold}.axes, .tree {font-size: 14px; text-anchor:middle}.y-axis line.grid {stroke: #FAFAFA}.y-axis > .lab text {transform: translateX(0.8em) rotate(-90deg)}.x-axis .tick g {transform: translateY(0.9em)}.x-axis > .lab text {transform: translateY(-0.8em)}.axes line, .edge {stroke:black; fill:none}.node > .sym {fill: black; stroke: none}.site > .sym {stroke: black}.mut text {fill: red; font-style: italic}.mut.extra text {fill: hotpink}.mut line {fill: none; stroke: none}.mut .sym {fill: none; stroke: red}.mut.extra .sym {stroke: hotpink}.node .mut .sym {stroke-width: 1.5px}.tree text, .tree-sequence text {dominant-baseline: central}.plotbox .lab.lft {text-anchor: end}.plotbox .lab.rgt {text-anchor: start}]]></style></defs><g class=\"tree t0\"><g class=\"plotbox\"><g class=\"node n15 root\" transform=\"translate(376.25 26.8)\"><g class=\"a15 node n1 sample\" transform=\"translate(23.75 294.267)\"><g class=\"a1 leaf node n7 sample\" transform=\"translate(-47.5 147.133)\"><path class=\"edge\" d=\"M 0 0 V -147.133 H 47.5\"/><rect class=\"sym\" height=\"6\" width=\"6\" x=\"-3\" y=\"-3\"/><text class=\"lab\" transform=\"translate(0 11)\">7</text></g><g class=\"a1 leaf node n10 sample\" transform=\"translate(47.5 147.133)\"><path class=\"edge\" d=\"M 0 0 V -147.133 H -47.5\"/><rect class=\"sym\" height=\"6\" width=\"6\" x=\"-3\" y=\"-3\"/><text class=\"lab\" transform=\"translate(0 11)\">10</text></g><path class=\"edge\" d=\"M 0 0 V -294.267 H -23.75\"/><rect class=\"sym\" height=\"6\" width=\"6\" x=\"-3\" y=\"-3\"/><text class=\"lab rgt\" transform=\"translate(3 -7.0)\">1</text></g><g class=\"a15 node n13\" transform=\"translate(213.75 147.133)\"><g class=\"a13 node n2 sample\" transform=\"translate(47.5 147.133)\"><g class=\"a2 leaf node n9 sample\" transform=\"translate(0.0 147.133)\"><path class=\"edge\" d=\"M 0 0 V -147.133 H 0.0\"/><rect class=\"sym\" height=\"6\" width=\"6\" x=\"-3\" y=\"-3\"/><text class=\"lab\" transform=\"translate(0 11)\">9</text></g><path class=\"edge\" d=\"M 0 0 V -147.133 H -47.5\"/><rect class=\"sym\" height=\"6\" width=\"6\" x=\"-3\" y=\"-3\"/><text class=\"lab rgt\" transform=\"translate(3 -7.0)\">2</text></g><g class=\"a13 node n5 sample\" transform=\"translate(-47.5 147.133)\"><g class=\"a5 leaf node n8 sample\" transform=\"translate(0.0 147.133)\"><path class=\"edge\" d=\"M 0 0 V -147.133 H 0.0\"/><rect class=\"sym\" height=\"6\" width=\"6\" x=\"-3\" y=\"-3\"/><text class=\"lab\" transform=\"translate(0 11)\">8</text></g><path class=\"edge\" d=\"M 0 0 V -147.133 H 47.5\"/><rect class=\"sym\" height=\"6\" width=\"6\" x=\"-3\" y=\"-3\"/><text class=\"lab lft\" transform=\"translate(-3 -7.0)\">5</text></g><path class=\"edge\" d=\"M 0 0 V -147.133 H -213.75\"/><circle class=\"sym\" cx=\"0\" cy=\"0\" r=\"3\"/><text class=\"lab rgt\" transform=\"translate(3 -7.0)\">13</text></g><g class=\"a15 node n14\" transform=\"translate(-213.75 147.133)\"><g class=\"a14 node n0 sample\" transform=\"translate(-95 147.133)\"><g class=\"a0 leaf node n6 sample\" transform=\"translate(0.0 147.133)\"><path class=\"edge\" d=\"M 0 0 V -147.133 H 0.0\"/><rect class=\"sym\" height=\"6\" width=\"6\" x=\"-3\" y=\"-3\"/><text class=\"lab\" transform=\"translate(0 11)\">6</text></g><path class=\"edge\" d=\"M 0 0 V -147.133 H 95\"/><rect class=\"sym\" height=\"6\" width=\"6\" x=\"-3\" y=\"-3\"/><text class=\"lab lft\" transform=\"translate(-3 -7.0)\">0</text></g><g class=\"a14 node n3 sample\" transform=\"translate(0.0 147.133)\"><g class=\"a3 leaf node n11 sample\" transform=\"translate(0.0 147.133)\"><path class=\"edge\" d=\"M 0 0 V -147.133 H 0.0\"/><rect class=\"sym\" height=\"6\" width=\"6\" x=\"-3\" y=\"-3\"/><text class=\"lab\" transform=\"translate(0 11)\">11</text></g><path class=\"edge\" d=\"M 0 0 V -147.133 H 0.0\"/><rect class=\"sym\" height=\"6\" width=\"6\" x=\"-3\" y=\"-3\"/><text class=\"lab rgt\" transform=\"translate(3 -7.0)\">3</text></g><g class=\"a14 leaf node n12 sample\" transform=\"translate(95 294.267)\"><path class=\"edge\" d=\"M 0 0 V -294.267 H -95\"/><rect class=\"sym\" height=\"6\" width=\"6\" x=\"-3\" y=\"-3\"/><text class=\"lab\" transform=\"translate(0 11)\">12</text></g><path class=\"edge\" d=\"M 0 0 V -147.133 H 213.75\"/><circle class=\"sym\" cx=\"0\" cy=\"0\" r=\"3\"/><text class=\"lab lft\" transform=\"translate(-3 -7.0)\">14</text></g><circle class=\"sym\" cx=\"0\" cy=\"0\" r=\"3\"/><text class=\"lab\" transform=\"translate(0 -11)\">15</text></g><g class=\"leaf node n4 root sample\" transform=\"translate(732.5 321.067)\"><rect class=\"sym\" height=\"6\" width=\"6\" x=\"-3\" y=\"-3\"/><text class=\"lab\" transform=\"translate(0 11)\">4</text></g></g></g></svg>"
      ],
      "text/plain": [
       "<IPython.core.display.SVG object>"
      ]
     },
     "execution_count": 429,
     "metadata": {},
     "output_type": "execute_result"
    }
   ],
   "source": [
    "ts = tables.tree_sequence()\n",
    "tree = ts.first()\n",
    "SVG(tree.draw(width=800, height=500))"
   ]
  },
  {
   "cell_type": "code",
   "execution_count": null,
   "id": "complex-blank",
   "metadata": {},
   "outputs": [],
   "source": []
  },
  {
   "cell_type": "code",
   "execution_count": 224,
   "id": "colored-stack",
   "metadata": {},
   "outputs": [
    {
     "data": {
      "text/plain": [
       "3"
      ]
     },
     "execution_count": 224,
     "metadata": {},
     "output_type": "execute_result"
    }
   ],
   "source": [
    "tree.num_roots"
   ]
  },
  {
   "cell_type": "code",
   "execution_count": null,
   "id": "turkish-vault",
   "metadata": {},
   "outputs": [],
   "source": []
  },
  {
   "cell_type": "code",
   "execution_count": null,
   "id": "vulnerable-rotation",
   "metadata": {},
   "outputs": [],
   "source": []
  },
  {
   "cell_type": "code",
   "execution_count": null,
   "id": "senior-charity",
   "metadata": {},
   "outputs": [],
   "source": []
  },
  {
   "cell_type": "code",
   "execution_count": null,
   "id": "opposite-distribution",
   "metadata": {},
   "outputs": [],
   "source": []
  },
  {
   "cell_type": "code",
   "execution_count": null,
   "id": "consolidated-prophet",
   "metadata": {},
   "outputs": [],
   "source": []
  },
  {
   "cell_type": "code",
   "execution_count": null,
   "id": "liberal-browser",
   "metadata": {},
   "outputs": [],
   "source": []
  },
  {
   "cell_type": "code",
   "execution_count": null,
   "id": "brazilian-heading",
   "metadata": {},
   "outputs": [],
   "source": []
  },
  {
   "cell_type": "code",
   "execution_count": null,
   "id": "painted-desperate",
   "metadata": {},
   "outputs": [],
   "source": []
  },
  {
   "cell_type": "code",
   "execution_count": 200,
   "id": "measured-concern",
   "metadata": {},
   "outputs": [],
   "source": [
    "samples=np.where(tables.nodes.time == 0.0)[0]"
   ]
  },
  {
   "cell_type": "code",
   "execution_count": 201,
   "id": "turned-companion",
   "metadata": {},
   "outputs": [
    {
     "data": {
      "text/plain": [
       "array([ 0,  1,  2,  3,  4,  5,  6,  7,  8,  9, 10], dtype=int32)"
      ]
     },
     "execution_count": 201,
     "metadata": {},
     "output_type": "execute_result"
    }
   ],
   "source": [
    "tables.simplify(samples=samples.tolist())"
   ]
  },
  {
   "cell_type": "code",
   "execution_count": 202,
   "id": "retired-notion",
   "metadata": {},
   "outputs": [
    {
     "data": {
      "text/plain": [
       "{0: 0, 1: 1, 2: 2, 3: 3, 4: 4, 5: 5, 6: 6, 7: 7, 8: 8, 9: 9, 10: 10}"
      ]
     },
     "execution_count": 202,
     "metadata": {},
     "output_type": "execute_result"
    }
   ],
   "source": [
    "node_map = tables.simplify(samples=samples.tolist())\n",
    "{node_map[node]: node for node in range(len(node_map))}"
   ]
  },
  {
   "cell_type": "code",
   "execution_count": 203,
   "id": "prime-miami",
   "metadata": {},
   "outputs": [
    {
     "data": {
      "image/svg+xml": [
       "<svg xmlns=\"http://www.w3.org/2000/svg\" xmlns:ev=\"http://www.w3.org/2001/xml-events\" xmlns:xlink=\"http://www.w3.org/1999/xlink\" baseProfile=\"full\" height=\"200\" version=\"1.1\" width=\"400\"><defs><style type=\"text/css\"><![CDATA[.background path {fill: #808080; fill-opacity:0}.background path:nth-child(odd) {fill-opacity:.1}.axes {font-size: 14px}.x-axis .tick .lab {font-weight: bold}.axes, .tree {font-size: 14px; text-anchor:middle}.y-axis line.grid {stroke: #FAFAFA}.y-axis > .lab text {transform: translateX(0.8em) rotate(-90deg)}.x-axis .tick g {transform: translateY(0.9em)}.x-axis > .lab text {transform: translateY(-0.8em)}.axes line, .edge {stroke:black; fill:none}.node > .sym {fill: black; stroke: none}.site > .sym {stroke: black}.mut text {fill: red; font-style: italic}.mut.extra text {fill: hotpink}.mut line {fill: none; stroke: none}.mut .sym {fill: none; stroke: red}.mut.extra .sym {stroke: hotpink}.node .mut .sym {stroke-width: 1.5px}.tree text, .tree-sequence text {dominant-baseline: central}.plotbox .lab.lft {text-anchor: end}.plotbox .lab.rgt {text-anchor: start}]]></style></defs><g class=\"tree t0\"><g class=\"plotbox\"><g class=\"node n10 root\" transform=\"translate(263.75 26.8)\"><g class=\"a10 leaf node n1 sample\" transform=\"translate(86.25 141.4)\"><path class=\"edge\" d=\"M 0 0 V -141.4 H -86.25\"/><rect class=\"sym\" height=\"6\" width=\"6\" x=\"-3\" y=\"-3\"/><text class=\"lab\" transform=\"translate(0 11)\">1</text></g><g class=\"a10 node n9\" transform=\"translate(-86.25 94.2667)\"><g class=\"a9 node n6\" transform=\"translate(82.5 31.4222)\"><g class=\"a6 leaf node n2 sample\" transform=\"translate(-30 15.7111)\"><path class=\"edge\" d=\"M 0 0 V -15.7111 H 30\"/><rect class=\"sym\" height=\"6\" width=\"6\" x=\"-3\" y=\"-3\"/><text class=\"lab\" transform=\"translate(0 11)\">2</text></g><g class=\"a6 leaf node n5 sample\" transform=\"translate(30 15.7111)\"><path class=\"edge\" d=\"M 0 0 V -15.7111 H -30\"/><rect class=\"sym\" height=\"6\" width=\"6\" x=\"-3\" y=\"-3\"/><text class=\"lab\" transform=\"translate(0 11)\">5</text></g><path class=\"edge\" d=\"M 0 0 V -31.4222 H -82.5\"/><circle class=\"sym\" cx=\"0\" cy=\"0\" r=\"3\"/><text class=\"lab rgt\" transform=\"translate(3 -7.0)\">6</text></g><g class=\"a9 node n8\" transform=\"translate(-82.5 15.7111)\"><g class=\"a8 leaf node n0 sample\" transform=\"translate(-45 31.4222)\"><path class=\"edge\" d=\"M 0 0 V -31.4222 H 45\"/><rect class=\"sym\" height=\"6\" width=\"6\" x=\"-3\" y=\"-3\"/><text class=\"lab\" transform=\"translate(0 11)\">0</text></g><g class=\"a8 node n7\" transform=\"translate(45 15.7111)\"><g class=\"a7 leaf node n3 sample\" transform=\"translate(-30 15.7111)\"><path class=\"edge\" d=\"M 0 0 V -15.7111 H 30\"/><rect class=\"sym\" height=\"6\" width=\"6\" x=\"-3\" y=\"-3\"/><text class=\"lab\" transform=\"translate(0 11)\">3</text></g><g class=\"a7 leaf node n4 sample\" transform=\"translate(30 15.7111)\"><path class=\"edge\" d=\"M 0 0 V -15.7111 H -30\"/><rect class=\"sym\" height=\"6\" width=\"6\" x=\"-3\" y=\"-3\"/><text class=\"lab\" transform=\"translate(0 11)\">4</text></g><path class=\"edge\" d=\"M 0 0 V -15.7111 H -45\"/><circle class=\"sym\" cx=\"0\" cy=\"0\" r=\"3\"/><text class=\"lab rgt\" transform=\"translate(3 -7.0)\">7</text></g><path class=\"edge\" d=\"M 0 0 V -15.7111 H 82.5\"/><circle class=\"sym\" cx=\"0\" cy=\"0\" r=\"3\"/><text class=\"lab lft\" transform=\"translate(-3 -7.0)\">8</text></g><path class=\"edge\" d=\"M 0 0 V -94.2667 H 86.25\"/><circle class=\"sym\" cx=\"0\" cy=\"0\" r=\"3\"/><text class=\"lab lft\" transform=\"translate(-3 -7.0)\">9</text></g><circle class=\"sym\" cx=\"0\" cy=\"0\" r=\"3\"/><text class=\"lab\" transform=\"translate(0 -11)\">10</text></g></g></g></svg>"
      ],
      "text/plain": [
       "<IPython.core.display.SVG object>"
      ]
     },
     "execution_count": 203,
     "metadata": {},
     "output_type": "execute_result"
    }
   ],
   "source": [
    "samples=np.where(tables.nodes.time == 0.0)[0]\n",
    "node_map = tables.simplify(samples=samples.tolist())\n",
    "\n",
    "ts = tables.tree_sequence()\n",
    "tree = ts.first()\n",
    "inverse_map = {node_map[node]: node for node in range(len(node_map))}\n",
    "labels = {u: \"{}->{}\".format(inverse_map[u], u) for u in tree.nodes()}\n",
    "\n",
    "SVG(tree.draw(height=200, width=400))"
   ]
  },
  {
   "cell_type": "code",
   "execution_count": 204,
   "id": "southwest-history",
   "metadata": {},
   "outputs": [
    {
     "data": {
      "image/svg+xml": [
       "<svg xmlns=\"http://www.w3.org/2000/svg\" xmlns:ev=\"http://www.w3.org/2001/xml-events\" xmlns:xlink=\"http://www.w3.org/1999/xlink\" baseProfile=\"full\" height=\"200\" version=\"1.1\" width=\"400\"><defs><style type=\"text/css\"><![CDATA[.background path {fill: #808080; fill-opacity:0}.background path:nth-child(odd) {fill-opacity:.1}.axes {font-size: 14px}.x-axis .tick .lab {font-weight: bold}.axes, .tree {font-size: 14px; text-anchor:middle}.y-axis line.grid {stroke: #FAFAFA}.y-axis > .lab text {transform: translateX(0.8em) rotate(-90deg)}.x-axis .tick g {transform: translateY(0.9em)}.x-axis > .lab text {transform: translateY(-0.8em)}.axes line, .edge {stroke:black; fill:none}.node > .sym {fill: black; stroke: none}.site > .sym {stroke: black}.mut text {fill: red; font-style: italic}.mut.extra text {fill: hotpink}.mut line {fill: none; stroke: none}.mut .sym {fill: none; stroke: red}.mut.extra .sym {stroke: hotpink}.node .mut .sym {stroke-width: 1.5px}.tree text, .tree-sequence text {dominant-baseline: central}.plotbox .lab.lft {text-anchor: end}.plotbox .lab.rgt {text-anchor: start}]]></style></defs><g class=\"tree t0\"><g class=\"plotbox\"><g class=\"node n10 root\" transform=\"translate(263.75 26.8)\"><g class=\"a10 leaf node n1 sample\" transform=\"translate(86.25 141.4)\"><path class=\"edge\" d=\"M 0 0 V -141.4 H -86.25\"/><rect class=\"sym\" height=\"6\" width=\"6\" x=\"-3\" y=\"-3\"/><text class=\"lab\" transform=\"translate(0 11)\">1-&gt;1</text></g><g class=\"a10 node n9\" transform=\"translate(-86.25 94.2667)\"><g class=\"a9 node n6\" transform=\"translate(82.5 31.4222)\"><g class=\"a6 leaf node n2 sample\" transform=\"translate(-30 15.7111)\"><path class=\"edge\" d=\"M 0 0 V -15.7111 H 30\"/><rect class=\"sym\" height=\"6\" width=\"6\" x=\"-3\" y=\"-3\"/><text class=\"lab\" transform=\"translate(0 11)\">2-&gt;2</text></g><g class=\"a6 leaf node n5 sample\" transform=\"translate(30 15.7111)\"><path class=\"edge\" d=\"M 0 0 V -15.7111 H -30\"/><rect class=\"sym\" height=\"6\" width=\"6\" x=\"-3\" y=\"-3\"/><text class=\"lab\" transform=\"translate(0 11)\">5-&gt;5</text></g><path class=\"edge\" d=\"M 0 0 V -31.4222 H -82.5\"/><circle class=\"sym\" cx=\"0\" cy=\"0\" r=\"3\"/><text class=\"lab rgt\" transform=\"translate(3 -7.0)\">6-&gt;6</text></g><g class=\"a9 node n8\" transform=\"translate(-82.5 15.7111)\"><g class=\"a8 leaf node n0 sample\" transform=\"translate(-45 31.4222)\"><path class=\"edge\" d=\"M 0 0 V -31.4222 H 45\"/><rect class=\"sym\" height=\"6\" width=\"6\" x=\"-3\" y=\"-3\"/><text class=\"lab\" transform=\"translate(0 11)\">0-&gt;0</text></g><g class=\"a8 node n7\" transform=\"translate(45 15.7111)\"><g class=\"a7 leaf node n3 sample\" transform=\"translate(-30 15.7111)\"><path class=\"edge\" d=\"M 0 0 V -15.7111 H 30\"/><rect class=\"sym\" height=\"6\" width=\"6\" x=\"-3\" y=\"-3\"/><text class=\"lab\" transform=\"translate(0 11)\">3-&gt;3</text></g><g class=\"a7 leaf node n4 sample\" transform=\"translate(30 15.7111)\"><path class=\"edge\" d=\"M 0 0 V -15.7111 H -30\"/><rect class=\"sym\" height=\"6\" width=\"6\" x=\"-3\" y=\"-3\"/><text class=\"lab\" transform=\"translate(0 11)\">4-&gt;4</text></g><path class=\"edge\" d=\"M 0 0 V -15.7111 H -45\"/><circle class=\"sym\" cx=\"0\" cy=\"0\" r=\"3\"/><text class=\"lab rgt\" transform=\"translate(3 -7.0)\">7-&gt;7</text></g><path class=\"edge\" d=\"M 0 0 V -15.7111 H 82.5\"/><circle class=\"sym\" cx=\"0\" cy=\"0\" r=\"3\"/><text class=\"lab lft\" transform=\"translate(-3 -7.0)\">8-&gt;8</text></g><path class=\"edge\" d=\"M 0 0 V -94.2667 H 86.25\"/><circle class=\"sym\" cx=\"0\" cy=\"0\" r=\"3\"/><text class=\"lab lft\" transform=\"translate(-3 -7.0)\">9-&gt;9</text></g><circle class=\"sym\" cx=\"0\" cy=\"0\" r=\"3\"/><text class=\"lab\" transform=\"translate(0 -11)\">10-&gt;10</text></g></g></g></svg>"
      ],
      "text/plain": [
       "<IPython.core.display.SVG object>"
      ]
     },
     "execution_count": 204,
     "metadata": {},
     "output_type": "execute_result"
    }
   ],
   "source": [
    "SVG(tree.draw(height=200, width=400, node_labels=labels))"
   ]
  }
 ],
 "metadata": {
  "kernelspec": {
   "display_name": "Python 3",
   "language": "python",
   "name": "python3"
  },
  "language_info": {
   "codemirror_mode": {
    "name": "ipython",
    "version": 3
   },
   "file_extension": ".py",
   "mimetype": "text/x-python",
   "name": "python",
   "nbconvert_exporter": "python",
   "pygments_lexer": "ipython3",
   "version": "3.8.5"
  }
 },
 "nbformat": 4,
 "nbformat_minor": 5
}
