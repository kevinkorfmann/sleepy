{
 "cells": [
  {
   "cell_type": "code",
   "execution_count": 1,
   "id": "superior-boundary",
   "metadata": {},
   "outputs": [],
   "source": [
    "#pragma cling load(\"./build/libkastore.so\")\n",
    "#pragma cling load(\"./build/libtskit.so\")\n",
    "#pragma cling add_include_path(\"./tskit/c\")\n",
    "#pragma cling add_include_path(\"./kastore/c\")\n",
    "\n",
    "#include \"./kastore/c/kastore.h\"\n",
    "#include \"./tskit/c/tskit.h\"\n",
    "\n",
    "#include <tskit.h>\n",
    "#include <stdio.h>\n",
    "#include <stdlib.h>\n",
    "#include <iostream>\n",
    "\n",
    "#define check_tsk_error(val)                                                            \\\n",
    "    if (val < 0) {                                                                      \\\n",
    "        fprintf(stderr, \"line %d: %s\", __LINE__, tsk_strerror(val));                    \\\n",
    "        exit(EXIT_FAILURE);                                                             \\\n",
    "    }"
   ]
  },
  {
   "cell_type": "code",
   "execution_count": null,
   "id": "digital-anderson",
   "metadata": {},
   "outputs": [],
   "source": []
  },
  {
   "cell_type": "markdown",
   "id": "protecting-dealing",
   "metadata": {},
   "source": [
    "# Initialising mock data"
   ]
  },
  {
   "cell_type": "code",
   "execution_count": 4,
   "id": "posted-meter",
   "metadata": {},
   "outputs": [],
   "source": [
    "// node collection"
   ]
  },
  {
   "cell_type": "code",
   "execution_count": 6,
   "id": "higher-design",
   "metadata": {},
   "outputs": [],
   "source": [
    "void sleepy_create_mock_nodes(tsk_node_table_t *self, int length=10) {\n",
    "    for (int i=0; i<length; i++) {\n",
    "        tsk_node_table_add_row(self, TSK_NODE_IS_SAMPLE, i, TSK_NULL, TSK_NULL, NULL, 0);\n",
    "    }\n",
    "}"
   ]
  },
  {
   "cell_type": "code",
   "execution_count": 7,
   "id": "finnish-mandate",
   "metadata": {},
   "outputs": [],
   "source": [
    "// for testing\n",
    "tsk_node_table_t nodes;\n",
    "tsk_node_table_init(&nodes, 0);\n",
    "sleepy_create_mock_nodes(&nodes)\n",
    "tsk_node_table_print_state(&nodes, stdout)"
   ]
  },
  {
   "cell_type": "markdown",
   "id": "entire-establishment",
   "metadata": {},
   "source": [
    "# Initialising table data"
   ]
  },
  {
   "cell_type": "code",
   "execution_count": 12,
   "id": "hybrid-shakespeare",
   "metadata": {},
   "outputs": [],
   "source": [
    "void sleepy_init_tables(tsk_table_collection_t *self, int N=3, int m=1, int gen=1) {\n",
    "    for (int i=0; i<m; i++) {\n",
    "        for (int j=0; j<2*N; j++) {\n",
    "            tsk_node_table_add_row(&self->nodes, TSK_NODE_IS_SAMPLE, (double) gen,\n",
    "                                   TSK_NULL, TSK_NULL, NULL, 0);\n",
    "        }\n",
    "        gen++;\n",
    "    }\n",
    "}"
   ]
  },
  {
   "cell_type": "code",
   "execution_count": 13,
   "id": "simple-tuner",
   "metadata": {},
   "outputs": [
    {
     "data": {
      "text/plain": [
       "6"
      ]
     },
     "execution_count": 13,
     "metadata": {},
     "output_type": "execute_result"
    }
   ],
   "source": [
    "tsk_table_collection_t tables;\n",
    "tsk_table_collection_init(&tables, 0);\n",
    "\n",
    "sleepy_init_tables(&tables);\n",
    "tables.nodes.num_rows"
   ]
  },
  {
   "cell_type": "code",
   "execution_count": null,
   "id": "dramatic-radius",
   "metadata": {},
   "outputs": [],
   "source": []
  },
  {
   "cell_type": "code",
   "execution_count": 14,
   "id": "associate-patrick",
   "metadata": {},
   "outputs": [],
   "source": [
    "tsk_node_table_print_state(&tables.nodes, stdout)"
   ]
  },
  {
   "cell_type": "code",
   "execution_count": 9,
   "id": "original-airplane",
   "metadata": {},
   "outputs": [
    {
     "data": {
      "text/plain": [
       "6"
      ]
     },
     "execution_count": 9,
     "metadata": {},
     "output_type": "execute_result"
    }
   ],
   "source": [
    "tables.nodes.num_rows"
   ]
  }
 ],
 "metadata": {
  "kernelspec": {
   "display_name": "C++14",
   "language": "C++14",
   "name": "xcpp14"
  },
  "language_info": {
   "codemirror_mode": "text/x-c++src",
   "file_extension": ".cpp",
   "mimetype": "text/x-c++src",
   "name": "c++",
   "version": "14"
  }
 },
 "nbformat": 4,
 "nbformat_minor": 5
}
