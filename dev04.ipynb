{
 "cells": [
  {
   "cell_type": "code",
   "execution_count": 2,
   "id": "statutory-terror",
   "metadata": {},
   "outputs": [],
   "source": [
    "#pragma cling load(\"./build/libkastore.so\")\n",
    "#pragma cling load(\"./build/libtskit.so\")\n",
    "#pragma cling add_include_path(\"./tskit/c\")\n",
    "#pragma cling add_include_path(\"./kastore/c\")\n",
    "\n",
    "#include \"./kastore/c/kastore.h\"\n",
    "#include \"./tskit/c/tskit.h\"\n",
    "\n",
    "#include <tskit.h>\n",
    "#include <stdio.h>\n",
    "#include <stdlib.h>\n",
    "#include <iostream>\n",
    "#include <vector>\n",
    "\n",
    "#define check_tsk_error(val)                                                            \\\n",
    "    if (val < 0) {                                                                      \\\n",
    "        fprintf(stderr, \"line %d: %s\", __LINE__, tsk_strerror(val));                    \\\n",
    "        exit(EXIT_FAILURE);                                                             \\\n",
    "    }"
   ]
  },
  {
   "cell_type": "code",
   "execution_count": null,
   "id": "completed-tumor",
   "metadata": {},
   "outputs": [],
   "source": []
  },
  {
   "cell_type": "markdown",
   "id": "killing-restoration",
   "metadata": {},
   "source": [
    "# Initialising mock data"
   ]
  },
  {
   "cell_type": "code",
   "execution_count": 4,
   "id": "textile-sarah",
   "metadata": {},
   "outputs": [],
   "source": [
    "// node collection"
   ]
  },
  {
   "cell_type": "code",
   "execution_count": 6,
   "id": "respiratory-deployment",
   "metadata": {},
   "outputs": [],
   "source": [
    "void sleepy_create_mock_nodes(tsk_node_table_t *self, int length=10) {\n",
    "    for (int i=0; i<length; i++) {\n",
    "        tsk_node_table_add_row(self, TSK_NODE_IS_SAMPLE, i, TSK_NULL, TSK_NULL, NULL, 0);\n",
    "    }\n",
    "}"
   ]
  },
  {
   "cell_type": "code",
   "execution_count": 7,
   "id": "compatible-contributor",
   "metadata": {},
   "outputs": [],
   "source": [
    "// for testing\n",
    "tsk_node_table_t nodes;\n",
    "tsk_node_table_init(&nodes, 0);\n",
    "sleepy_create_mock_nodes(&nodes)\n",
    "tsk_node_table_print_state(&nodes, stdout)"
   ]
  },
  {
   "cell_type": "markdown",
   "id": "annoying-suffering",
   "metadata": {},
   "source": [
    "# Initialising table data"
   ]
  },
  {
   "cell_type": "code",
   "execution_count": 3,
   "id": "computational-ticket",
   "metadata": {},
   "outputs": [],
   "source": [
    "void sleepy_init_tables(tsk_table_collection_t *self, int N=3, int m=1, int gen=1) {\n",
    "    for (int i=0; i<m; i++) {\n",
    "        for (int j=0; j<2*N; j++) {\n",
    "            tsk_node_table_add_row(&self->nodes, TSK_NODE_IS_SAMPLE, (double) gen,\n",
    "                                   TSK_NULL, TSK_NULL, NULL, 0);\n",
    "        }\n",
    "        gen++;\n",
    "    }\n",
    "}"
   ]
  },
  {
   "cell_type": "code",
   "execution_count": null,
   "id": "twenty-cologne",
   "metadata": {},
   "outputs": [],
   "source": []
  },
  {
   "cell_type": "code",
   "execution_count": 14,
   "id": "accompanied-montana",
   "metadata": {},
   "outputs": [
    {
     "data": {
      "text/plain": [
       "12"
      ]
     },
     "execution_count": 14,
     "metadata": {},
     "output_type": "execute_result"
    }
   ],
   "source": [
    "int gen = 0;\n",
    "tsk_table_collection_t tables;\n",
    "tsk_table_collection_init(&tables, 0);\n",
    "\n",
    "sleepy_init_tables(&tables, 3, 2, gen);\n",
    "tables.nodes.num_rows"
   ]
  },
  {
   "cell_type": "code",
   "execution_count": 15,
   "id": "exotic-shoulder",
   "metadata": {},
   "outputs": [],
   "source": [
    "tsk_node_table_print_state(&tables.nodes, stdout)"
   ]
  },
  {
   "cell_type": "code",
   "execution_count": null,
   "id": "separated-motivation",
   "metadata": {},
   "outputs": [],
   "source": []
  },
  {
   "cell_type": "markdown",
   "id": "advance-research",
   "metadata": {},
   "source": [
    "# Reversing time function"
   ]
  },
  {
   "cell_type": "code",
   "execution_count": 42,
   "id": "forty-intelligence",
   "metadata": {},
   "outputs": [],
   "source": [
    "void s3_reverse_time(tsk_node_table_t &nodes, int begin, int end = 0)\n",
    "{\n",
    "    std::vector<double> time_before; time_before.reserve(begin);\n",
    "    std::vector<double> time_mid; time_before.reserve(begin+nodes.num_rows-end);\n",
    "    std::vector<double> time_after;\n",
    "    \n",
    "    if (end == 0) end = nodes.num_rows;\n",
    "    \n",
    "    for (int i=0; i<begin; i++) time_before.emplace_back(nodes.time[i]);\n",
    "    \n",
    "    double max_element{0};\n",
    "    for (int i=begin; i<end; i++) {\n",
    "        if (nodes.time[i] >= max_element) {\n",
    "            max_element = nodes.time[i];\n",
    "        }\n",
    "    }\n",
    "    \n",
    "    for (int i=begin; i<end; i++) {\n",
    "        time_mid.emplace_back((nodes.time[i] - max_element) * (-1));\n",
    "    }\n",
    "    \n",
    "    for (int i=end; i<nodes.num_rows; i++) {\n",
    "        time_after.emplace_back(nodes.time[i]);\n",
    "    }\n",
    "    \n",
    "    time_before.insert(std::end(time_before), std::begin(time_mid), std::end(time_mid));\n",
    "    time_before.insert(std::end(time_before), std::begin(time_after), std::end(time_after));\n",
    "    \n",
    "    for (int i=0; i<nodes.num_rows; i++) {\n",
    "        nodes.time[i] = time_before[i];\n",
    "    }\n",
    "    \n",
    "}"
   ]
  },
  {
   "cell_type": "code",
   "execution_count": null,
   "id": "million-technical",
   "metadata": {},
   "outputs": [],
   "source": [
    "// test completed"
   ]
  },
  {
   "cell_type": "markdown",
   "id": "third-might",
   "metadata": {},
   "source": [
    "# sleepy_num_non_sample_node"
   ]
  },
  {
   "cell_type": "code",
   "execution_count": 23,
   "id": "polished-grain",
   "metadata": {},
   "outputs": [],
   "source": [
    "tsk_id_t sleepy_num_non_sample_node(tsk_node_table_t &nodes) {\n",
    "    tsk_id_t num_non_sample{0};\n",
    "    for (int i=0; i<nodes.num_rows; i++) {\n",
    "        if (nodes.flags[i] != 1) {\n",
    "            num_non_sample++;\n",
    "        }\n",
    "    }\n",
    "    return num_non_sample;\n",
    "}"
   ]
  },
  {
   "cell_type": "code",
   "execution_count": 16,
   "id": "medical-empire",
   "metadata": {},
   "outputs": [],
   "source": [
    "int gen = 0;\n",
    "tsk_table_collection_t tables;\n",
    "tsk_table_collection_init(&tables, 0);\n",
    "sleepy_init_tables(&tables, 3, 2, gen);"
   ]
  },
  {
   "cell_type": "code",
   "execution_count": 35,
   "id": "encouraging-avenue",
   "metadata": {},
   "outputs": [],
   "source": [
    "tables.nodes.flags[0] = 0;\n",
    "tables.nodes.flags[4] = 0;"
   ]
  },
  {
   "cell_type": "code",
   "execution_count": 37,
   "id": "rapid-contest",
   "metadata": {},
   "outputs": [
    {
     "data": {
      "text/plain": [
       "2"
      ]
     },
     "execution_count": 37,
     "metadata": {},
     "output_type": "execute_result"
    }
   ],
   "source": [
    "sleepy_num_non_sample_node(tables.nodes)"
   ]
  },
  {
   "cell_type": "code",
   "execution_count": 36,
   "id": "fallen-behavior",
   "metadata": {},
   "outputs": [],
   "source": [
    "tsk_node_table_print_state(&tables.nodes, stdout)"
   ]
  }
 ],
 "metadata": {
  "kernelspec": {
   "display_name": "C++14",
   "language": "C++14",
   "name": "xcpp14"
  },
  "language_info": {
   "codemirror_mode": "text/x-c++src",
   "file_extension": ".cpp",
   "mimetype": "text/x-c++src",
   "name": "c++",
   "version": "14"
  }
 },
 "nbformat": 4,
 "nbformat_minor": 5
}
