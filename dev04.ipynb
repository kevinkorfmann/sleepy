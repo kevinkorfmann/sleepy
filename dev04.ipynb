{
 "cells": [
  {
   "cell_type": "code",
   "execution_count": 1,
   "id": "tracked-train",
   "metadata": {},
   "outputs": [],
   "source": [
    "#pragma cling load(\"./build/libkastore.so\")\n",
    "#pragma cling load(\"./build/libtskit.so\")\n",
    "#pragma cling add_include_path(\"./tskit/c\")\n",
    "#pragma cling add_include_path(\"./kastore/c\")\n",
    "\n",
    "#include \"./kastore/c/kastore.h\"\n",
    "#include \"./tskit/c/tskit.h\"\n",
    "\n",
    "#include <tskit.h>\n",
    "#include <stdio.h>\n",
    "#include <stdlib.h>\n",
    "#include <iostream>\n",
    "#include <vector>\n",
    "\n",
    "#define check_tsk_error(val)                                                            \\\n",
    "    if (val < 0) {                                                                      \\\n",
    "        fprintf(stderr, \"line %d: %s\", __LINE__, tsk_strerror(val));                    \\\n",
    "        exit(EXIT_FAILURE);                                                             \\\n",
    "    }"
   ]
  },
  {
   "cell_type": "code",
   "execution_count": 2,
   "id": "senior-experience",
   "metadata": {},
   "outputs": [],
   "source": [
    "#include <numeric>\n",
    "#include <random>\n",
    "\n",
    "#include <fstream>\n",
    "\n",
    "#include <iostream>\n",
    "#include <vector>\n",
    "#include <utility>\n",
    "#include <algorithm>\n",
    "#include <iomanip>  // std::setprecision()\n",
    "\n",
    "#include <new>\n",
    "\n",
    "#include<map>"
   ]
  },
  {
   "cell_type": "code",
   "execution_count": 3,
   "id": "better-vintage",
   "metadata": {},
   "outputs": [],
   "source": [
    "#define check_tsk_error(val)                                                            \\\n",
    "    if (val < 0) {                                                                      \\\n",
    "        fprintf(stderr, \"line %d: %s\", __LINE__, tsk_strerror(val));                    \\\n",
    "        exit(EXIT_FAILURE);                                                             \\\n",
    "    }\n"
   ]
  },
  {
   "cell_type": "markdown",
   "id": "dietary-movie",
   "metadata": {},
   "source": [
    "# Initialising mock data"
   ]
  },
  {
   "cell_type": "code",
   "execution_count": 4,
   "id": "applied-ribbon",
   "metadata": {},
   "outputs": [],
   "source": [
    "// node collection"
   ]
  },
  {
   "cell_type": "code",
   "execution_count": 5,
   "id": "valid-pierre",
   "metadata": {},
   "outputs": [],
   "source": [
    "void sleepy_create_mock_nodes(tsk_node_table_t *self, int length=10) {\n",
    "    for (int i=0; i<length; i++) {\n",
    "        tsk_node_table_add_row(self, TSK_NODE_IS_SAMPLE, i, TSK_NULL, TSK_NULL, NULL, 0);\n",
    "    }\n",
    "}"
   ]
  },
  {
   "cell_type": "code",
   "execution_count": 6,
   "id": "overall-metropolitan",
   "metadata": {},
   "outputs": [],
   "source": [
    "// for testing\n",
    "tsk_node_table_t nodes;\n",
    "tsk_node_table_init(&nodes, 0);\n",
    "sleepy_create_mock_nodes(&nodes);\n",
    "tsk_node_table_print_state(&nodes, stdout)"
   ]
  },
  {
   "cell_type": "markdown",
   "id": "tracked-tolerance",
   "metadata": {},
   "source": [
    "# Initialising table data"
   ]
  },
  {
   "cell_type": "code",
   "execution_count": 7,
   "id": "fundamental-daughter",
   "metadata": {},
   "outputs": [],
   "source": [
    "void sleepy_init_tables(tsk_table_collection_t *self, int N=3, int m=1, int gen=1) {\n",
    "    for (int i=0; i<m; i++) {\n",
    "        for (int j=0; j<2*N; j++) {\n",
    "            tsk_node_table_add_row(&self->nodes, TSK_NODE_IS_SAMPLE, (double) gen,\n",
    "                                   TSK_NULL, TSK_NULL, NULL, 0);\n",
    "        }\n",
    "        gen++;\n",
    "    }\n",
    "}"
   ]
  },
  {
   "cell_type": "code",
   "execution_count": null,
   "id": "southeast-wisdom",
   "metadata": {},
   "outputs": [],
   "source": []
  },
  {
   "cell_type": "code",
   "execution_count": 8,
   "id": "forward-rendering",
   "metadata": {},
   "outputs": [
    {
     "data": {
      "text/plain": [
       "12"
      ]
     },
     "execution_count": 8,
     "metadata": {},
     "output_type": "execute_result"
    }
   ],
   "source": [
    "int gen = 0;\n",
    "tsk_table_collection_t tables;\n",
    "tsk_table_collection_init(&tables, 0);\n",
    "\n",
    "sleepy_init_tables(&tables, 3, 2, gen);\n",
    "tables.nodes.num_rows"
   ]
  },
  {
   "cell_type": "code",
   "execution_count": 9,
   "id": "blank-diameter",
   "metadata": {},
   "outputs": [],
   "source": [
    "tsk_node_table_print_state(&tables.nodes, stdout)"
   ]
  },
  {
   "cell_type": "code",
   "execution_count": null,
   "id": "following-clinic",
   "metadata": {},
   "outputs": [],
   "source": []
  },
  {
   "cell_type": "markdown",
   "id": "breathing-mandate",
   "metadata": {},
   "source": [
    "# Reversing time function"
   ]
  },
  {
   "cell_type": "code",
   "execution_count": 10,
   "id": "floral-alfred",
   "metadata": {},
   "outputs": [],
   "source": [
    "void sleepy_reverse_time(tsk_node_table_t &nodes, int begin, int end = 0)\n",
    "{\n",
    "    std::vector<double> time_before; time_before.reserve(begin);\n",
    "    std::vector<double> time_mid; time_before.reserve(begin+nodes.num_rows-end);\n",
    "    std::vector<double> time_after;\n",
    "    \n",
    "    if (end == 0) end = nodes.num_rows;\n",
    "    \n",
    "    for (int i=0; i<begin; i++) time_before.emplace_back(nodes.time[i]);\n",
    "    \n",
    "    double max_element{0};\n",
    "    for (int i=begin; i<end; i++) {\n",
    "        if (nodes.time[i] >= max_element) {\n",
    "            max_element = nodes.time[i];\n",
    "        }\n",
    "    }\n",
    "    \n",
    "    for (int i=begin; i<end; i++) {\n",
    "        time_mid.emplace_back((nodes.time[i] - max_element) * (-1));\n",
    "    }\n",
    "    \n",
    "    for (int i=end; i<nodes.num_rows; i++) {\n",
    "        time_after.emplace_back(nodes.time[i]);\n",
    "    }\n",
    "    \n",
    "    time_before.insert(std::end(time_before), std::begin(time_mid), std::end(time_mid));\n",
    "    time_before.insert(std::end(time_before), std::begin(time_after), std::end(time_after));\n",
    "    \n",
    "    for (int i=0; i<nodes.num_rows; i++) {\n",
    "        nodes.time[i] = time_before[i];\n",
    "    }\n",
    "    \n",
    "}"
   ]
  },
  {
   "cell_type": "code",
   "execution_count": 11,
   "id": "average-title",
   "metadata": {},
   "outputs": [],
   "source": [
    "// test completed"
   ]
  },
  {
   "cell_type": "markdown",
   "id": "fantastic-residence",
   "metadata": {},
   "source": [
    "# sleepy_num_non_sample_node"
   ]
  },
  {
   "cell_type": "code",
   "execution_count": 12,
   "id": "sweet-holiday",
   "metadata": {},
   "outputs": [],
   "source": [
    "tsk_id_t sleepy_num_non_sample_node(tsk_node_table_t &nodes) {\n",
    "    tsk_id_t num_non_sample{0};\n",
    "    for (int i=0; i<nodes.num_rows; i++) {\n",
    "        if (nodes.flags[i] != 1) {\n",
    "            num_non_sample++;\n",
    "        }\n",
    "    }\n",
    "    return num_non_sample;\n",
    "}"
   ]
  },
  {
   "cell_type": "code",
   "execution_count": 13,
   "id": "czech-bracelet",
   "metadata": {},
   "outputs": [],
   "source": [
    "int gen = 0;\n",
    "tsk_table_collection_t tables;\n",
    "tsk_table_collection_init(&tables, 0);\n",
    "sleepy_init_tables(&tables, 3, 2, gen);"
   ]
  },
  {
   "cell_type": "code",
   "execution_count": 14,
   "id": "representative-sensitivity",
   "metadata": {},
   "outputs": [],
   "source": [
    "tables.nodes.flags[0] = 0;\n",
    "tables.nodes.flags[4] = 0;"
   ]
  },
  {
   "cell_type": "code",
   "execution_count": 15,
   "id": "cubic-display",
   "metadata": {},
   "outputs": [
    {
     "data": {
      "text/plain": [
       "2"
      ]
     },
     "execution_count": 15,
     "metadata": {},
     "output_type": "execute_result"
    }
   ],
   "source": [
    "sleepy_num_non_sample_node(tables.nodes)"
   ]
  },
  {
   "cell_type": "code",
   "execution_count": 16,
   "id": "adjusted-archive",
   "metadata": {},
   "outputs": [],
   "source": [
    "tsk_node_table_print_state(&tables.nodes, stdout)"
   ]
  },
  {
   "cell_type": "code",
   "execution_count": null,
   "id": "heard-amsterdam",
   "metadata": {},
   "outputs": [],
   "source": []
  },
  {
   "cell_type": "markdown",
   "id": "impressed-warehouse",
   "metadata": {},
   "source": [
    "# Simplification process"
   ]
  },
  {
   "cell_type": "code",
   "execution_count": 17,
   "id": "consolidated-realtor",
   "metadata": {},
   "outputs": [],
   "source": [
    "struct MutationMetaData {\n",
    "    tsk_id_t origin;\n",
    "    double position;\n",
    "};"
   ]
  },
  {
   "cell_type": "code",
   "execution_count": 18,
   "id": "silent-forestry",
   "metadata": {},
   "outputs": [],
   "source": [
    "void sleepy_simplify(tsk_table_collection_t &tables, std::vector<std::pair<tsk_id_t, MutationMetaData>> temp_mutations,\n",
    "              tsk_id_t sample_generation)\n",
    "{\n",
    "    int ret;\n",
    "    std::vector<tsk_id_t> samples;\n",
    "    for (int i=0; i<tables.nodes.num_rows; i++) {\n",
    "        if ((int) tables.nodes.time[i] < sample_generation) {\n",
    "            samples.emplace_back(i);\n",
    "        }\n",
    "    }\n",
    "    for (int i=0; i<temp_mutations.size(); i++) {\n",
    "        tsk_site_table_add_row(&tables.sites, temp_mutations[i].second.position, \"0\", 1, NULL, 0);\n",
    "        \n",
    "        tsk_mutation_table_add_row(&tables.mutations, tables.sites.num_rows-1,\n",
    "                                   temp_mutations[i].first, TSK_NULL, TSK_UNKNOWN_TIME , \"1\", 1, NULL, 0);\n",
    "    }\n",
    "    \n",
    "    tsk_id_t* samples_array = &samples[0];\n",
    "    ret = tsk_table_collection_sort(&tables, NULL, 0); \n",
    "    check_tsk_error(ret);\n",
    "    ret = tsk_table_collection_simplify(&tables, samples_array, samples.size(), TSK_FILTER_SITES, NULL); \n",
    "    check_tsk_error(ret);\n",
    "\n",
    "}"
   ]
  },
  {
   "cell_type": "code",
   "execution_count": 19,
   "id": "exclusive-sixth",
   "metadata": {},
   "outputs": [],
   "source": [
    "int gen = 0;\n",
    "tsk_table_collection_t tables;\n",
    "tsk_table_collection_init(&tables, 0);\n",
    "\n",
    "sleepy_init_tables(&tables, 3, 3, gen);"
   ]
  },
  {
   "cell_type": "code",
   "execution_count": 20,
   "id": "industrial-vaccine",
   "metadata": {},
   "outputs": [],
   "source": [
    "tsk_node_table_print_state(&tables.nodes, stdout)"
   ]
  },
  {
   "cell_type": "code",
   "execution_count": 21,
   "id": "infrared-collaboration",
   "metadata": {},
   "outputs": [],
   "source": [
    "int m = 2;"
   ]
  },
  {
   "cell_type": "code",
   "execution_count": 22,
   "id": "entitled-coral",
   "metadata": {},
   "outputs": [],
   "source": [
    "tables.sequence_length = 1;"
   ]
  },
  {
   "cell_type": "code",
   "execution_count": 23,
   "id": "pending-prize",
   "metadata": {},
   "outputs": [],
   "source": [
    "sleepy_simplify(tables, std::vector<std::pair<tsk_id_t, MutationMetaData>>{}, m);"
   ]
  },
  {
   "cell_type": "code",
   "execution_count": 24,
   "id": "annoying-fitting",
   "metadata": {},
   "outputs": [],
   "source": [
    "tsk_node_table_print_state(&tables.nodes, stdout)"
   ]
  },
  {
   "cell_type": "code",
   "execution_count": null,
   "id": "southern-lending",
   "metadata": {},
   "outputs": [],
   "source": []
  },
  {
   "cell_type": "code",
   "execution_count": null,
   "id": "dirty-greeting",
   "metadata": {},
   "outputs": [],
   "source": []
  },
  {
   "cell_type": "code",
   "execution_count": null,
   "id": "perceived-guess",
   "metadata": {},
   "outputs": [],
   "source": []
  },
  {
   "cell_type": "markdown",
   "id": "accredited-facility",
   "metadata": {},
   "source": [
    "# initial iteration"
   ]
  },
  {
   "cell_type": "code",
   "execution_count": 25,
   "id": "national-prairie",
   "metadata": {},
   "outputs": [],
   "source": [
    "tsk_id_t sleepy_num_non_sample_node(tsk_node_table_t &nodes) {\n",
    "    tsk_id_t num_non_sample{0};\n",
    "    for (int i=0; i<nodes.num_rows; i++) {\n",
    "        if (nodes.flags[i] != 1) {\n",
    "            num_non_sample++;\n",
    "        }\n",
    "    }\n",
    "    return num_non_sample;\n",
    "}"
   ]
  },
  {
   "cell_type": "code",
   "execution_count": 26,
   "id": "delayed-underwear",
   "metadata": {},
   "outputs": [],
   "source": [
    "int gen = 0;\n",
    "tsk_table_collection_t tables;\n",
    "tsk_table_collection_init(&tables, 0);\n",
    "\n",
    "\n",
    "tables.sequence_length = 1;\n",
    "int N = 2;\n",
    "int m = 2;\n",
    "sleepy_init_tables(&tables, N, m, gen);\n",
    "gen = m;"
   ]
  },
  {
   "cell_type": "code",
   "execution_count": 27,
   "id": "employed-harmony",
   "metadata": {},
   "outputs": [],
   "source": [
    "tsk_node_table_print_state(&tables.nodes, stdout)"
   ]
  },
  {
   "cell_type": "code",
   "execution_count": 28,
   "id": "removable-helicopter",
   "metadata": {},
   "outputs": [],
   "source": [
    "sleepy_reverse_time(tables.nodes, 0);    \n",
    "sleepy_simplify(tables, std::vector<std::pair<tsk_id_t, MutationMetaData>>{}, m);"
   ]
  },
  {
   "cell_type": "code",
   "execution_count": 29,
   "id": "promising-chain",
   "metadata": {},
   "outputs": [],
   "source": [
    "tsk_node_table_print_state(&tables.nodes, stdout)"
   ]
  },
  {
   "cell_type": "code",
   "execution_count": 30,
   "id": "assisted-heavy",
   "metadata": {},
   "outputs": [],
   "source": [
    "tsk_id_t next_offspring_index = tables.nodes.num_rows;\n",
    "tsk_id_t num_non_sample = sleepy_num_non_sample_node(tables.nodes);\n",
    "tsk_id_t first_parental_index = next_offspring_index - (2*N) - num_non_sample; // all all sample nodes"
   ]
  },
  {
   "cell_type": "code",
   "execution_count": 31,
   "id": "alone-edward",
   "metadata": {},
   "outputs": [],
   "source": [
    "tsk_node_table_print_state(&tables.nodes, stdout)"
   ]
  },
  {
   "cell_type": "code",
   "execution_count": null,
   "id": "purple-cursor",
   "metadata": {},
   "outputs": [],
   "source": []
  },
  {
   "cell_type": "code",
   "execution_count": 32,
   "id": "ancient-halifax",
   "metadata": {},
   "outputs": [],
   "source": [
    "std::random_device rd;"
   ]
  },
  {
   "cell_type": "code",
   "execution_count": 33,
   "id": "experienced-tsunami",
   "metadata": {},
   "outputs": [],
   "source": [
    "std::mt19937 generator(rd());"
   ]
  },
  {
   "cell_type": "code",
   "execution_count": 34,
   "id": "rapid-audit",
   "metadata": {},
   "outputs": [],
   "source": [
    "void stats_random_discrete(std::vector<int> &output, const std::vector<double> &weights, int n)\n",
    "{\n",
    "    std::discrete_distribution<> d(weights.begin(), weights.end());\n",
    "    for (int i=0; i<n; i++) { output.emplace_back(d(generator)); }\n",
    "}"
   ]
  },
  {
   "cell_type": "code",
   "execution_count": null,
   "id": "median-explorer",
   "metadata": {},
   "outputs": [],
   "source": []
  },
  {
   "cell_type": "code",
   "execution_count": 206,
   "id": "abstract-titanium",
   "metadata": {},
   "outputs": [],
   "source": [
    "#include <cassert>   "
   ]
  },
  {
   "cell_type": "code",
   "execution_count": 207,
   "id": "arctic-peninsula",
   "metadata": {},
   "outputs": [],
   "source": []
  },
  {
   "cell_type": "code",
   "execution_count": 209,
   "id": "frequent-disney",
   "metadata": {},
   "outputs": [],
   "source": [
    "void sleepy_dormancy_weights(std::vector<double> &weights, double b, tsk_id_t m)\n",
    "{\n",
    "    /* assert don't work in jupyter-cpp kernel */\n",
    "    assert((\"germination rate needs to be in [1,0[ interval. \", b > 1 || b <= 0));\n",
    "    \n",
    "    for (int i=0; i<m; i++) {\n",
    "        weights.emplace_back(b * pow((1-b), i-1));\n",
    "    }\n",
    "    double sum = std::accumulate(std::begin(weights), std::end(weights), 0.0);\n",
    "    \n",
    "    \n",
    "    for (int i=0; i<weights.size(); i++) {\n",
    "        weights[i] = weights[i] / sum;\n",
    "        \n",
    "        /* all weights will be zero if b == 1*/\n",
    "        /* otherwise  weights[0] == -nan */\n",
    "        \n",
    "        if (b == 1.0) weights[i] = 0;\n",
    "    }\n",
    "}"
   ]
  },
  {
   "cell_type": "code",
   "execution_count": null,
   "id": "settled-possible",
   "metadata": {},
   "outputs": [],
   "source": []
  },
  {
   "cell_type": "code",
   "execution_count": 214,
   "id": "hydraulic-brass",
   "metadata": {},
   "outputs": [],
   "source": [
    "int m = 5;\n",
    "double b = 0.5;\n",
    "std::vector<double> dorm_weights;\n",
    "sleepy_dormancy_weights(dorm_weights, b, m);"
   ]
  },
  {
   "cell_type": "code",
   "execution_count": 215,
   "id": "small-virtue",
   "metadata": {},
   "outputs": [
    {
     "data": {
      "text/plain": [
       "{ 0.51612903, 0.25806452, 0.12903226, 0.064516129, 0.032258065 }"
      ]
     },
     "execution_count": 215,
     "metadata": {},
     "output_type": "execute_result"
    }
   ],
   "source": [
    "dorm_weights"
   ]
  },
  {
   "cell_type": "code",
   "execution_count": 118,
   "id": "ready-minority",
   "metadata": {},
   "outputs": [
    {
     "data": {
      "text/plain": [
       "0.0000000"
      ]
     },
     "execution_count": 118,
     "metadata": {},
     "output_type": "execute_result"
    }
   ],
   "source": [
    "dorm_weights[0] = 0"
   ]
  },
  {
   "cell_type": "code",
   "execution_count": 142,
   "id": "mechanical-vegetable",
   "metadata": {},
   "outputs": [
    {
     "data": {
      "text/plain": [
       "-nan"
      ]
     },
     "execution_count": 142,
     "metadata": {},
     "output_type": "execute_result"
    }
   ],
   "source": [
    "dorm_weights[0]"
   ]
  },
  {
   "cell_type": "code",
   "execution_count": 222,
   "id": "public-jones",
   "metadata": {},
   "outputs": [
    {
     "data": {
      "text/plain": [
       "{ 0, 2, 0, 0 }"
      ]
     },
     "execution_count": 222,
     "metadata": {},
     "output_type": "execute_result"
    }
   ],
   "source": [
    "std::vector<tsk_id_t> dormancy_generations; \n",
    "sleepy_dormancy_generation(dormancy_generations, dorm_weights, 2*N);\n",
    "dormancy_generations"
   ]
  },
  {
   "cell_type": "code",
   "execution_count": 88,
   "id": "interpreted-pizza",
   "metadata": {},
   "outputs": [
    {
     "data": {
      "text/plain": [
       "{ 0, 0, 1, 2 }"
      ]
     },
     "execution_count": 88,
     "metadata": {},
     "output_type": "execute_result"
    }
   ],
   "source": []
  },
  {
   "cell_type": "code",
   "execution_count": 65,
   "id": "super-lottery",
   "metadata": {},
   "outputs": [],
   "source": [
    "std::vector<double> test = {2,3}"
   ]
  },
  {
   "cell_type": "code",
   "execution_count": 135,
   "id": "sonic-agency",
   "metadata": {},
   "outputs": [],
   "source": [
    "#include <cmath>"
   ]
  },
  {
   "cell_type": "code",
   "execution_count": 67,
   "id": "japanese-wings",
   "metadata": {},
   "outputs": [
    {
     "data": {
      "text/plain": [
       "5.0000000"
      ]
     },
     "execution_count": 67,
     "metadata": {},
     "output_type": "execute_result"
    }
   ],
   "source": [
    "std::accumulate(std::begin(test), std::end(test), 0.0)"
   ]
  },
  {
   "cell_type": "code",
   "execution_count": 137,
   "id": "actual-sauce",
   "metadata": {},
   "outputs": [
    {
     "data": {
      "text/plain": [
       "@0x7ffcea4f29e8"
      ]
     },
     "execution_count": 137,
     "metadata": {},
     "output_type": "execute_result"
    }
   ],
   "source": [
    "std::nan"
   ]
  },
  {
   "cell_type": "code",
   "execution_count": null,
   "id": "following-fraction",
   "metadata": {},
   "outputs": [],
   "source": []
  },
  {
   "cell_type": "code",
   "execution_count": 138,
   "id": "accepted-workplace",
   "metadata": {},
   "outputs": [
    {
     "name": "stderr",
     "output_type": "stream",
     "text": [
      "\u001b[1minput_line_204:3:68: \u001b[0m\u001b[0;1;31merror: \u001b[0m\u001b[1minvalid argument type 'double (*)(const char *) throw()' to unary expression\u001b[0m\n",
      "stats_random_discrete(dormancy_generations, std::vector<double>{0, -std::nan, 0}, 1);\n",
      "\u001b[0;1;32m                                                                   ^~~~~~~~~\n",
      "\u001b[0m"
     ]
    },
    {
     "ename": "Interpreter Error",
     "evalue": "",
     "output_type": "error",
     "traceback": [
      "Interpreter Error: "
     ]
    }
   ],
   "source": [
    "std::vector<tsk_id_t> dormancy_generations; \n",
    "\n",
    "stats_random_discrete(dormancy_generations, std::vector<double>{0, std::nan, 0}, 1);\n",
    "    \n",
    "dormancy_generations"
   ]
  },
  {
   "cell_type": "code",
   "execution_count": 36,
   "id": "selected-watson",
   "metadata": {},
   "outputs": [],
   "source": [
    "void sleepy_dormancy_generation(std::vector<tsk_id_t> &dormancy_generations, std::vector<double> &weights, tsk_id_t N) \n",
    "{\n",
    "    stats_random_discrete(dormancy_generations, weights, N);\n",
    "}"
   ]
  },
  {
   "cell_type": "code",
   "execution_count": 37,
   "id": "instant-journalism",
   "metadata": {},
   "outputs": [],
   "source": [
    "void stats_random_real(double &output, int start, int end)\n",
    "{\n",
    "    std::uniform_real_distribution<> d(start, end);\n",
    "    output = d(generator); \n",
    "}"
   ]
  },
  {
   "cell_type": "code",
   "execution_count": 38,
   "id": "virgin-reaction",
   "metadata": {},
   "outputs": [],
   "source": [
    "struct recombination_event {\n",
    "    double left;\n",
    "    double right;\n",
    "    tsk_id_t parent;\n",
    "    tsk_id_t child;\n",
    "};"
   ]
  },
  {
   "cell_type": "code",
   "execution_count": 39,
   "id": "chemical-sudan",
   "metadata": {},
   "outputs": [],
   "source": [
    "void stats_random_poisson(int &output, double lambda)\n",
    "{\n",
    "    std::poisson_distribution<> d(lambda);\n",
    "    output = d(generator);\n",
    "}"
   ]
  },
  {
   "cell_type": "code",
   "execution_count": 40,
   "id": "random-tennis",
   "metadata": {},
   "outputs": [],
   "source": [
    "template<typename T>\n",
    "std::vector<T> MultiplyVec(std::vector<T> v, int n)\n",
    "{\n",
    "    std::vector<T> rv;\n",
    "    rv.reserve(n * v.size());\n",
    "    for (int i=0; i<n; i++){\n",
    "        for (auto e : v){ rv.emplace_back(e); }\n",
    "    }\n",
    "    return rv;\n",
    "} "
   ]
  },
  {
   "cell_type": "code",
   "execution_count": 41,
   "id": "educated-double",
   "metadata": {},
   "outputs": [],
   "source": [
    "void sleepy_recombination_events(std::vector<recombination_event> &recombination_events, double r,\n",
    "                       std::pair<tsk_id_t, tsk_id_t> parent_idxs, tsk_id_t next_offspring_id, double L)\n",
    "{\n",
    "    int nbreaks;\n",
    "    stats_random_poisson(nbreaks, r);\n",
    "\n",
    "    if (nbreaks == 0) {\n",
    "                \n",
    "        recombination_event re = {0, L, parent_idxs.first, next_offspring_id};\n",
    "        recombination_events.emplace_back(re);\n",
    "        \n",
    "        \n",
    "    } else {\n",
    "        std::vector<double> b;\n",
    "        b.reserve(nbreaks);\n",
    "        int i{0};\n",
    "        while (i < nbreaks){\n",
    "            double p;\n",
    "            stats_random_real(p, 0, L);\n",
    "            b.emplace_back(p);\n",
    "            i++;\n",
    "        }\n",
    "        std::sort(b.begin(), b.end());\n",
    "        if (b.back() != L) { b.emplace_back(L); }\n",
    "        if (*b.begin() != 0.0) { \n",
    "            b.insert(b.begin(), 0.0);\n",
    "        } else {\n",
    "            int tmp_parent_idx = parent_idxs.first;\n",
    "            parent_idxs.first = parent_idxs.second;\n",
    "            parent_idxs.second = tmp_parent_idx;\n",
    "        }\n",
    "        std::vector<int> p_idxs{parent_idxs.first, parent_idxs.second};\n",
    "        std::vector<int> pgams = MultiplyVec(p_idxs, b.size() / 2);\n",
    "        for (int i=0; i<b.size()-1; i++) {\n",
    "            recombination_event re = {b[i], b[i+1], pgams[i], next_offspring_id};\n",
    "            recombination_events.emplace_back(re);\n",
    "            //std::cout <<  b[i] << \" \" << b[i+1] << \" \" <<  pgams[i] << std::endl;\n",
    "        }  \n",
    "    }\n",
    "}"
   ]
  },
  {
   "cell_type": "code",
   "execution_count": 42,
   "id": "chinese-bookmark",
   "metadata": {},
   "outputs": [],
   "source": [
    "void sleepy_add_time(tsk_node_table_t &nodes, int by, int begin, int end = 0)\n",
    "{\n",
    "    std::vector<double> time_before; \n",
    "    time_before.reserve(begin);\n",
    "    std::vector<double> time_mid; \n",
    "    time_before.reserve(begin+nodes.num_rows-end);\n",
    "    std::vector<double> time_after;\n",
    "    \n",
    "    if (end == 0) end = nodes.num_rows;\n",
    "    for (int i=0; i<begin; i++) time_before.emplace_back(nodes.time[i]);\n",
    "    \n",
    "\n",
    "    \n",
    "    for (int i=begin; i<end; i++) {\n",
    "        time_mid.emplace_back(nodes.time[i] + by);\n",
    "    }\n",
    "    \n",
    "    for (int i=end; i<nodes.num_rows; i++) {\n",
    "        time_after.emplace_back(nodes.time[i]);\n",
    "    }\n",
    "    \n",
    "    time_before.insert(std::end(time_before), std::begin(time_mid), std::end(time_mid));\n",
    "    time_before.insert(std::end(time_before), std::begin(time_after), std::end(time_after));\n",
    "    \n",
    "    for (int i=0; i<nodes.num_rows; i++) {\n",
    "        nodes.time[i] = time_before[i];\n",
    "    }\n",
    "    \n",
    "}"
   ]
  },
  {
   "cell_type": "markdown",
   "id": "australian-prefix",
   "metadata": {},
   "source": [
    "# interations"
   ]
  },
  {
   "cell_type": "code",
   "execution_count": 57,
   "id": "answering-recycling",
   "metadata": {},
   "outputs": [
    {
     "name": "stdout",
     "output_type": "stream",
     "text": [
      "generation 0\n",
      "first_parental_index 4\n",
      "generation 1\n",
      "first_parental_index 4\n",
      "generation 2\n",
      "first_parental_index 4\n"
     ]
    }
   ],
   "source": [
    "int num_generations = 3;\n",
    "int gc = 3;\n",
    "double b = 1;\n",
    "std::vector<tsk_id_t> parents;\n",
    "int ret = 0;\n",
    "int L = 1;\n",
    "int r = 1;\n",
    "int N = 2;\n",
    "int m = 2;\n",
    "int gen = 0;\n",
    "\n",
    "tsk_table_collection_t tables;\n",
    "tsk_table_collection_init(&tables, 0);\n",
    "tables.sequence_length = 1;\n",
    "\n",
    "\n",
    "sleepy_init_tables(&tables, N, m, gen);\n",
    "\n",
    "sleepy_reverse_time(tables.nodes, 0);    \n",
    "sleepy_simplify(tables, std::vector<std::pair<tsk_id_t, MutationMetaData>>{}, m);\n",
    "\n",
    "tsk_node_table_print_state(&tables.nodes, stdout);\n",
    "\n",
    "\n",
    "gen = m;\n",
    "\n",
    "for(int num_generation=0; num_generation<num_generations; num_generation++) {\n",
    "    \n",
    "    std::cout << \"generation \" << num_generation << std::endl;\n",
    "\n",
    "    tsk_id_t next_offspring_index = tables.nodes.num_rows;\n",
    "    tsk_id_t num_non_sample = sleepy_num_non_sample_node(tables.nodes);\n",
    "    tsk_id_t first_parental_index = next_offspring_index - (2*N) - num_non_sample; /* num_non_sample will be 0 during first iteration */\n",
    "    \n",
    "    std::cout << \"first_parental_index \" << first_parental_index << std::endl;\n",
    "\n",
    "    for (int c=0; c<gc; c++) {\n",
    "\n",
    "        std::vector<double> dorm_weights; sleepy_dormancy_weights(dorm_weights, b, m);\n",
    "        std::vector<tsk_id_t> dormancy_generations; sleepy_dormancy_generation(dormancy_generations, dorm_weights, 2*N);\n",
    "\n",
    "        parents.clear();\n",
    "        stats_random_discrete(parents, std::vector<double>(N, 1), 2*N);\n",
    "\n",
    "        tsk_id_t i_genotype = 0;\n",
    "        for (int p=0; p<parents.size(); p+=2) {\n",
    "\n",
    "            tsk_id_t parent1 = parents[p];\n",
    "            tsk_id_t parent2 = parents[p+1];\n",
    "\n",
    "            tsk_id_t dormancy_updated_first_parental_index_1 = first_parental_index - (2*N*dormancy_generations[parent1]); \n",
    "            tsk_id_t dormancy_updated_first_parental_index_2 = first_parental_index - (2*N*dormancy_generations[parent2]); \n",
    "\n",
    "            if (c > 0 && (2*N*dormancy_generations[parent1]) >= c*2*N) {\n",
    "                   dormancy_updated_first_parental_index_1 -= num_non_sample;\n",
    "            }\n",
    "\n",
    "            if (c > 0 && (2*N*dormancy_generations[parent2]) >= c*2*N) {\n",
    "                   dormancy_updated_first_parental_index_2 -= num_non_sample;\n",
    "            }\n",
    "\n",
    "            tsk_id_t p1g1 = dormancy_updated_first_parental_index_1 + 2*parent1;\n",
    "            tsk_id_t p1g2 = p1g1+1;\n",
    "            tsk_id_t p2g1 = dormancy_updated_first_parental_index_2 + 2*parent2;\n",
    "            tsk_id_t p2g2 = p2g1+1;\n",
    "\n",
    "            double mendel1 = 0;\n",
    "            double mendel2 = 0;\n",
    "            stats_random_real(mendel1, 0, 1);\n",
    "            stats_random_real(mendel2, 0, 1);\n",
    "\n",
    "            if (mendel1 < 0.5) {\n",
    "                tsk_id_t tmp = p1g1;\n",
    "                p1g1 = p1g2;\n",
    "                p1g2 = tmp;\n",
    "            }\n",
    "\n",
    "            if (mendel2 < 0.5) {\n",
    "                tsk_id_t tmp = p2g1;\n",
    "                p2g1 = p2g2;\n",
    "                p2g2 = tmp;\n",
    "            }\n",
    "\n",
    "            tsk_node_table_add_row(&tables.nodes, TSK_NODE_IS_SAMPLE, gen, TSK_NULL, TSK_NULL, NULL, 0);\n",
    "            tsk_node_table_add_row(&tables.nodes, TSK_NODE_IS_SAMPLE, gen, TSK_NULL, TSK_NULL, NULL, 0);\n",
    "            \n",
    "            tsk_node_table_print_state(&tables.nodes, stdout);\n",
    "\n",
    "\n",
    "            std::vector<recombination_event> recombination_events;\n",
    "            sleepy_recombination_events(recombination_events, r, std::pair<tsk_id_t, tsk_id_t>{p1g1,p1g2},next_offspring_index, L);\n",
    "\n",
    "            for (int re=0; re<recombination_events.size(); re++) {\n",
    "                ret = tsk_edge_table_add_row(&tables.edges, recombination_events[re].left, recombination_events[re].right, recombination_events[re].parent, recombination_events[re].child, NULL, 0);\n",
    "            }\n",
    "\n",
    "            i_genotype++;\n",
    "            next_offspring_index++;\n",
    "\n",
    "            recombination_events.clear();\n",
    "            sleepy_recombination_events(recombination_events, r, std::pair<tsk_id_t, tsk_id_t>{p2g1,p2g2},next_offspring_index, L);\n",
    "\n",
    "            for (int re=0; re<recombination_events.size(); re++) {\n",
    "                ret = tsk_edge_table_add_row(&tables.edges, recombination_events[re].left, recombination_events[re].right, recombination_events[re].parent, recombination_events[re].child, NULL, 0);\n",
    "            }\n",
    "\n",
    "            i_genotype++;\n",
    "            next_offspring_index++;\n",
    "        }\n",
    "\n",
    "        /* function is only relevant within simplification interval */\n",
    "        /* first_parental_index will be updated differently after simplifcation*/\n",
    "        first_parental_index = tables.nodes.num_rows - 2*N;\n",
    "\n",
    "        gen++;\n",
    "        //num_generation++; \n",
    "    }\n",
    "\n",
    "    sleepy_add_time(tables.nodes, gc, 0, tables.nodes.num_rows-2*N*gc);\n",
    "    sleepy_reverse_time(tables.nodes, tables.nodes.num_rows-2*N*gc, tables.nodes.num_rows);  \n",
    "    sleepy_simplify(tables,std::vector<std::pair<tsk_id_t, MutationMetaData>>{}, m);\n",
    "}\n",
    "\n",
    "tsk_node_table_print_state(&tables.nodes, stdout);\n"
   ]
  },
  {
   "cell_type": "code",
   "execution_count": null,
   "id": "interpreted-triangle",
   "metadata": {},
   "outputs": [],
   "source": []
  }
 ],
 "metadata": {
  "kernelspec": {
   "display_name": "C++14",
   "language": "C++14",
   "name": "xcpp14"
  },
  "language_info": {
   "codemirror_mode": "text/x-c++src",
   "file_extension": ".cpp",
   "mimetype": "text/x-c++src",
   "name": "c++",
   "version": "14"
  }
 },
 "nbformat": 4,
 "nbformat_minor": 5
}
