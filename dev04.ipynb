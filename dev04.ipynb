{
 "cells": [
  {
   "cell_type": "code",
   "execution_count": 1,
   "id": "residential-tomorrow",
   "metadata": {},
   "outputs": [],
   "source": [
    "#pragma cling load(\"./build/libkastore.so\")\n",
    "#pragma cling load(\"./build/libtskit.so\")\n",
    "#pragma cling add_include_path(\"./tskit/c\")\n",
    "#pragma cling add_include_path(\"./kastore/c\")\n",
    "\n",
    "#include \"./kastore/c/kastore.h\"\n",
    "#include \"./tskit/c/tskit.h\"\n",
    "\n",
    "#include <tskit.h>\n",
    "#include <stdio.h>\n",
    "#include <stdlib.h>\n",
    "#include <iostream>\n",
    "#include <vector>\n",
    "\n",
    "#define check_tsk_error(val)                                                            \\\n",
    "    if (val < 0) {                                                                      \\\n",
    "        fprintf(stderr, \"line %d: %s\", __LINE__, tsk_strerror(val));                    \\\n",
    "        exit(EXIT_FAILURE);                                                             \\\n",
    "    }"
   ]
  },
  {
   "cell_type": "code",
   "execution_count": 2,
   "id": "specific-bankruptcy",
   "metadata": {},
   "outputs": [],
   "source": [
    "#include <numeric>\n",
    "#include <random>\n",
    "\n",
    "#include <fstream>\n",
    "\n",
    "#include <iostream>\n",
    "#include <vector>\n",
    "#include <utility>\n",
    "#include <algorithm>\n",
    "#include <iomanip>  // std::setprecision()\n",
    "\n",
    "#include <new>\n",
    "\n",
    "#include<map>"
   ]
  },
  {
   "cell_type": "code",
   "execution_count": 3,
   "id": "gothic-opening",
   "metadata": {},
   "outputs": [],
   "source": [
    "#define check_tsk_error(val)                                                            \\\n",
    "    if (val < 0) {                                                                      \\\n",
    "        fprintf(stderr, \"line %d: %s\", __LINE__, tsk_strerror(val));                    \\\n",
    "        exit(EXIT_FAILURE);                                                             \\\n",
    "    }\n"
   ]
  },
  {
   "cell_type": "markdown",
   "id": "suburban-europe",
   "metadata": {},
   "source": [
    "# Initialising mock data"
   ]
  },
  {
   "cell_type": "code",
   "execution_count": 4,
   "id": "standing-surveillance",
   "metadata": {},
   "outputs": [],
   "source": [
    "// node collection"
   ]
  },
  {
   "cell_type": "code",
   "execution_count": 5,
   "id": "muslim-chicken",
   "metadata": {},
   "outputs": [],
   "source": [
    "void sleepy_create_mock_nodes(tsk_node_table_t *self, int length=10) {\n",
    "    for (int i=0; i<length; i++) {\n",
    "        tsk_node_table_add_row(self, TSK_NODE_IS_SAMPLE, i, TSK_NULL, TSK_NULL, NULL, 0);\n",
    "    }\n",
    "}"
   ]
  },
  {
   "cell_type": "code",
   "execution_count": 6,
   "id": "committed-lying",
   "metadata": {},
   "outputs": [],
   "source": [
    "// for testing\n",
    "tsk_node_table_t nodes;\n",
    "tsk_node_table_init(&nodes, 0);\n",
    "sleepy_create_mock_nodes(&nodes);\n",
    "tsk_node_table_print_state(&nodes, stdout)"
   ]
  },
  {
   "cell_type": "markdown",
   "id": "constant-appeal",
   "metadata": {},
   "source": [
    "# Initialising table data"
   ]
  },
  {
   "cell_type": "code",
   "execution_count": 7,
   "id": "passing-rubber",
   "metadata": {},
   "outputs": [],
   "source": [
    "void sleepy_init_tables(tsk_table_collection_t *self, int N=3, int m=1, int gen=1) {\n",
    "    for (int i=0; i<m; i++) {\n",
    "        for (int j=0; j<2*N; j++) {\n",
    "            tsk_node_table_add_row(&self->nodes, TSK_NODE_IS_SAMPLE, (double) gen,\n",
    "                                   TSK_NULL, TSK_NULL, NULL, 0);\n",
    "        }\n",
    "        gen++;\n",
    "    }\n",
    "}"
   ]
  },
  {
   "cell_type": "code",
   "execution_count": null,
   "id": "bottom-gospel",
   "metadata": {},
   "outputs": [],
   "source": []
  },
  {
   "cell_type": "code",
   "execution_count": 8,
   "id": "classical-taxation",
   "metadata": {},
   "outputs": [
    {
     "data": {
      "text/plain": [
       "12"
      ]
     },
     "execution_count": 8,
     "metadata": {},
     "output_type": "execute_result"
    }
   ],
   "source": [
    "int gen = 0;\n",
    "tsk_table_collection_t tables;\n",
    "tsk_table_collection_init(&tables, 0);\n",
    "\n",
    "sleepy_init_tables(&tables, 3, 2, gen);\n",
    "tables.nodes.num_rows"
   ]
  },
  {
   "cell_type": "code",
   "execution_count": 9,
   "id": "honey-sally",
   "metadata": {},
   "outputs": [],
   "source": [
    "tsk_node_table_print_state(&tables.nodes, stdout)"
   ]
  },
  {
   "cell_type": "code",
   "execution_count": null,
   "id": "stretch-contact",
   "metadata": {},
   "outputs": [],
   "source": []
  },
  {
   "cell_type": "markdown",
   "id": "muslim-baghdad",
   "metadata": {},
   "source": [
    "# Reversing time function"
   ]
  },
  {
   "cell_type": "code",
   "execution_count": 10,
   "id": "alike-armenia",
   "metadata": {},
   "outputs": [],
   "source": [
    "void sleepy_reverse_time(tsk_node_table_t &nodes, int begin, int end = 0)\n",
    "{\n",
    "    std::vector<double> time_before; time_before.reserve(begin);\n",
    "    std::vector<double> time_mid; time_before.reserve(begin+nodes.num_rows-end);\n",
    "    std::vector<double> time_after;\n",
    "    \n",
    "    if (end == 0) end = nodes.num_rows;\n",
    "    \n",
    "    for (int i=0; i<begin; i++) time_before.emplace_back(nodes.time[i]);\n",
    "    \n",
    "    double max_element{0};\n",
    "    for (int i=begin; i<end; i++) {\n",
    "        if (nodes.time[i] >= max_element) {\n",
    "            max_element = nodes.time[i];\n",
    "        }\n",
    "    }\n",
    "    \n",
    "    for (int i=begin; i<end; i++) {\n",
    "        time_mid.emplace_back((nodes.time[i] - max_element) * (-1));\n",
    "    }\n",
    "    \n",
    "    for (int i=end; i<nodes.num_rows; i++) {\n",
    "        time_after.emplace_back(nodes.time[i]);\n",
    "    }\n",
    "    \n",
    "    time_before.insert(std::end(time_before), std::begin(time_mid), std::end(time_mid));\n",
    "    time_before.insert(std::end(time_before), std::begin(time_after), std::end(time_after));\n",
    "    \n",
    "    for (int i=0; i<nodes.num_rows; i++) {\n",
    "        nodes.time[i] = time_before[i];\n",
    "    }\n",
    "    \n",
    "}"
   ]
  },
  {
   "cell_type": "code",
   "execution_count": 11,
   "id": "cultural-funeral",
   "metadata": {},
   "outputs": [],
   "source": [
    "// test completed"
   ]
  },
  {
   "cell_type": "markdown",
   "id": "apart-backing",
   "metadata": {},
   "source": [
    "# sleepy_num_non_sample_node"
   ]
  },
  {
   "cell_type": "code",
   "execution_count": 12,
   "id": "extra-brazilian",
   "metadata": {},
   "outputs": [],
   "source": [
    "tsk_id_t sleepy_num_non_sample_node(tsk_node_table_t &nodes) {\n",
    "    tsk_id_t num_non_sample{0};\n",
    "    for (int i=0; i<nodes.num_rows; i++) {\n",
    "        if (nodes.flags[i] != 1) {\n",
    "            num_non_sample++;\n",
    "        }\n",
    "    }\n",
    "    return num_non_sample;\n",
    "}"
   ]
  },
  {
   "cell_type": "code",
   "execution_count": 13,
   "id": "occasional-copper",
   "metadata": {},
   "outputs": [],
   "source": [
    "int gen = 0;\n",
    "tsk_table_collection_t tables;\n",
    "tsk_table_collection_init(&tables, 0);\n",
    "sleepy_init_tables(&tables, 3, 2, gen);"
   ]
  },
  {
   "cell_type": "code",
   "execution_count": 14,
   "id": "further-arthritis",
   "metadata": {},
   "outputs": [],
   "source": [
    "tables.nodes.flags[0] = 0;\n",
    "tables.nodes.flags[4] = 0;"
   ]
  },
  {
   "cell_type": "code",
   "execution_count": 15,
   "id": "unlike-cooking",
   "metadata": {},
   "outputs": [
    {
     "data": {
      "text/plain": [
       "2"
      ]
     },
     "execution_count": 15,
     "metadata": {},
     "output_type": "execute_result"
    }
   ],
   "source": [
    "sleepy_num_non_sample_node(tables.nodes)"
   ]
  },
  {
   "cell_type": "code",
   "execution_count": 16,
   "id": "thick-lease",
   "metadata": {},
   "outputs": [],
   "source": [
    "tsk_node_table_print_state(&tables.nodes, stdout)"
   ]
  },
  {
   "cell_type": "code",
   "execution_count": null,
   "id": "applicable-motor",
   "metadata": {},
   "outputs": [],
   "source": []
  },
  {
   "cell_type": "markdown",
   "id": "selected-portuguese",
   "metadata": {},
   "source": [
    "# Simplification process"
   ]
  },
  {
   "cell_type": "code",
   "execution_count": 17,
   "id": "reported-dover",
   "metadata": {},
   "outputs": [],
   "source": [
    "struct MutationMetaData {\n",
    "    tsk_id_t origin;\n",
    "    double position;\n",
    "};"
   ]
  },
  {
   "cell_type": "code",
   "execution_count": 18,
   "id": "normal-handbook",
   "metadata": {},
   "outputs": [],
   "source": [
    "void sleepy_simplify(tsk_table_collection_t &tables, std::vector<std::pair<tsk_id_t, MutationMetaData>> temp_mutations,\n",
    "              tsk_id_t sample_generation)\n",
    "{\n",
    "    int ret;\n",
    "    std::vector<tsk_id_t> samples;\n",
    "    for (int i=0; i<tables.nodes.num_rows; i++) {\n",
    "        if ((int) tables.nodes.time[i] < sample_generation) {\n",
    "            samples.emplace_back(i);\n",
    "        }\n",
    "    }\n",
    "    for (int i=0; i<temp_mutations.size(); i++) {\n",
    "        tsk_site_table_add_row(&tables.sites, temp_mutations[i].second.position, \"0\", 1, NULL, 0);\n",
    "        \n",
    "        tsk_mutation_table_add_row(&tables.mutations, tables.sites.num_rows-1,\n",
    "                                   temp_mutations[i].first, TSK_NULL, TSK_UNKNOWN_TIME , \"1\", 1, NULL, 0);\n",
    "    }\n",
    "    \n",
    "    tsk_id_t* samples_array = &samples[0];\n",
    "    ret = tsk_table_collection_sort(&tables, NULL, 0); \n",
    "    check_tsk_error(ret);\n",
    "    ret = tsk_table_collection_simplify(&tables, samples_array, samples.size(), TSK_FILTER_SITES, NULL); \n",
    "    check_tsk_error(ret);\n",
    "\n",
    "}"
   ]
  },
  {
   "cell_type": "code",
   "execution_count": 19,
   "id": "answering-register",
   "metadata": {},
   "outputs": [],
   "source": [
    "int gen = 0;\n",
    "tsk_table_collection_t tables;\n",
    "tsk_table_collection_init(&tables, 0);\n",
    "\n",
    "sleepy_init_tables(&tables, 3, 3, gen);"
   ]
  },
  {
   "cell_type": "code",
   "execution_count": 20,
   "id": "popular-outside",
   "metadata": {},
   "outputs": [],
   "source": [
    "tsk_node_table_print_state(&tables.nodes, stdout)"
   ]
  },
  {
   "cell_type": "code",
   "execution_count": 21,
   "id": "collected-zambia",
   "metadata": {},
   "outputs": [],
   "source": [
    "int m = 2;"
   ]
  },
  {
   "cell_type": "code",
   "execution_count": 22,
   "id": "talented-stand",
   "metadata": {},
   "outputs": [],
   "source": [
    "tables.sequence_length = 1;"
   ]
  },
  {
   "cell_type": "code",
   "execution_count": 23,
   "id": "expired-scott",
   "metadata": {},
   "outputs": [],
   "source": [
    "sleepy_simplify(tables, std::vector<std::pair<tsk_id_t, MutationMetaData>>{}, m);"
   ]
  },
  {
   "cell_type": "code",
   "execution_count": 24,
   "id": "elect-stupid",
   "metadata": {},
   "outputs": [],
   "source": [
    "tsk_node_table_print_state(&tables.nodes, stdout)"
   ]
  },
  {
   "cell_type": "code",
   "execution_count": null,
   "id": "choice-accommodation",
   "metadata": {},
   "outputs": [],
   "source": []
  },
  {
   "cell_type": "code",
   "execution_count": null,
   "id": "labeled-costs",
   "metadata": {},
   "outputs": [],
   "source": []
  },
  {
   "cell_type": "code",
   "execution_count": null,
   "id": "ethical-newcastle",
   "metadata": {},
   "outputs": [],
   "source": []
  },
  {
   "cell_type": "markdown",
   "id": "irish-aircraft",
   "metadata": {},
   "source": [
    "# initial iteration"
   ]
  },
  {
   "cell_type": "code",
   "execution_count": 25,
   "id": "furnished-google",
   "metadata": {},
   "outputs": [],
   "source": [
    "tsk_id_t sleepy_num_non_sample_node(tsk_node_table_t &nodes) {\n",
    "    tsk_id_t num_non_sample{0};\n",
    "    for (int i=0; i<nodes.num_rows; i++) {\n",
    "        if (nodes.flags[i] != 1) {\n",
    "            num_non_sample++;\n",
    "        }\n",
    "    }\n",
    "    return num_non_sample;\n",
    "}"
   ]
  },
  {
   "cell_type": "code",
   "execution_count": 26,
   "id": "latter-organization",
   "metadata": {},
   "outputs": [],
   "source": [
    "int gen = 0;\n",
    "tsk_table_collection_t tables;\n",
    "tsk_table_collection_init(&tables, 0);\n",
    "\n",
    "\n",
    "tables.sequence_length = 1;\n",
    "int N = 2;\n",
    "int m = 2;\n",
    "sleepy_init_tables(&tables, N, m, gen);\n",
    "gen = m;"
   ]
  },
  {
   "cell_type": "code",
   "execution_count": 27,
   "id": "assured-express",
   "metadata": {},
   "outputs": [],
   "source": [
    "tsk_node_table_print_state(&tables.nodes, stdout)"
   ]
  },
  {
   "cell_type": "code",
   "execution_count": 28,
   "id": "defined-reservation",
   "metadata": {},
   "outputs": [],
   "source": [
    "sleepy_reverse_time(tables.nodes, 0);    \n",
    "sleepy_simplify(tables, std::vector<std::pair<tsk_id_t, MutationMetaData>>{}, m);"
   ]
  },
  {
   "cell_type": "code",
   "execution_count": 29,
   "id": "comprehensive-requirement",
   "metadata": {},
   "outputs": [],
   "source": [
    "tsk_node_table_print_state(&tables.nodes, stdout)"
   ]
  },
  {
   "cell_type": "code",
   "execution_count": 30,
   "id": "attended-forge",
   "metadata": {},
   "outputs": [],
   "source": [
    "tsk_id_t next_offspring_index = tables.nodes.num_rows;\n",
    "tsk_id_t num_non_sample = sleepy_num_non_sample_node(tables.nodes);\n",
    "tsk_id_t first_parental_index = next_offspring_index - (2*N) - num_non_sample; // all all sample nodes"
   ]
  },
  {
   "cell_type": "code",
   "execution_count": 31,
   "id": "assisted-destiny",
   "metadata": {},
   "outputs": [],
   "source": [
    "tsk_node_table_print_state(&tables.nodes, stdout)"
   ]
  },
  {
   "cell_type": "code",
   "execution_count": null,
   "id": "stainless-classification",
   "metadata": {},
   "outputs": [],
   "source": []
  },
  {
   "cell_type": "code",
   "execution_count": 32,
   "id": "satisfied-foster",
   "metadata": {},
   "outputs": [],
   "source": [
    "std::random_device rd;"
   ]
  },
  {
   "cell_type": "code",
   "execution_count": 33,
   "id": "improved-individual",
   "metadata": {},
   "outputs": [],
   "source": [
    "std::mt19937 generator(rd());"
   ]
  },
  {
   "cell_type": "code",
   "execution_count": 34,
   "id": "unable-encyclopedia",
   "metadata": {},
   "outputs": [],
   "source": [
    "void stats_random_discrete(std::vector<int> &output, const std::vector<double> &weights, int n)\n",
    "{\n",
    "    std::discrete_distribution<> d(weights.begin(), weights.end());\n",
    "    for (int i=0; i<n; i++) { output.emplace_back(d(generator)); }\n",
    "}"
   ]
  },
  {
   "cell_type": "code",
   "execution_count": null,
   "id": "focal-bookmark",
   "metadata": {},
   "outputs": [],
   "source": []
  },
  {
   "cell_type": "code",
   "execution_count": 35,
   "id": "sought-toddler",
   "metadata": {},
   "outputs": [],
   "source": [
    "#include <cassert>   "
   ]
  },
  {
   "cell_type": "code",
   "execution_count": null,
   "id": "boring-advice",
   "metadata": {},
   "outputs": [],
   "source": []
  },
  {
   "cell_type": "code",
   "execution_count": 36,
   "id": "cooked-round",
   "metadata": {},
   "outputs": [],
   "source": [
    "void sleepy_dormancy_weights(std::vector<double> &weights, double b, tsk_id_t m)\n",
    "{\n",
    "    /* assert don't work in jupyter-cpp kernel */\n",
    "    assert((\"germination rate needs to be in [1,0[ interval. \", b > 1 || b <= 0));\n",
    "    \n",
    "    for (int i=0; i<m; i++) {\n",
    "        weights.emplace_back(b * pow((1-b), i-1));\n",
    "    }\n",
    "    double sum = std::accumulate(std::begin(weights), std::end(weights), 0.0);\n",
    "    \n",
    "    \n",
    "    for (int i=0; i<weights.size(); i++) {\n",
    "        weights[i] = weights[i] / sum;\n",
    "        \n",
    "        /* all weights will be zero if b == 1*/\n",
    "        /* otherwise  weights[0] == -nan */\n",
    "        \n",
    "        if (b == 1.0) weights[i] = 0;\n",
    "    }\n",
    "}"
   ]
  },
  {
   "cell_type": "code",
   "execution_count": null,
   "id": "underlying-worst",
   "metadata": {},
   "outputs": [],
   "source": []
  },
  {
   "cell_type": "code",
   "execution_count": 37,
   "id": "hidden-permission",
   "metadata": {},
   "outputs": [],
   "source": [
    "int m = 5;\n",
    "double b = 0.5;\n",
    "std::vector<double> dorm_weights;\n",
    "sleepy_dormancy_weights(dorm_weights, b, m);"
   ]
  },
  {
   "cell_type": "code",
   "execution_count": 38,
   "id": "smooth-telling",
   "metadata": {},
   "outputs": [
    {
     "data": {
      "text/plain": [
       "{ 0.51612903, 0.25806452, 0.12903226, 0.064516129, 0.032258065 }"
      ]
     },
     "execution_count": 38,
     "metadata": {},
     "output_type": "execute_result"
    }
   ],
   "source": [
    "dorm_weights"
   ]
  },
  {
   "cell_type": "code",
   "execution_count": null,
   "id": "grand-stanley",
   "metadata": {},
   "outputs": [],
   "source": []
  },
  {
   "cell_type": "code",
   "execution_count": null,
   "id": "cubic-cooler",
   "metadata": {},
   "outputs": [],
   "source": []
  },
  {
   "cell_type": "code",
   "execution_count": null,
   "id": "regulation-dollar",
   "metadata": {},
   "outputs": [],
   "source": []
  },
  {
   "cell_type": "code",
   "execution_count": null,
   "id": "enormous-gravity",
   "metadata": {},
   "outputs": [],
   "source": []
  },
  {
   "cell_type": "code",
   "execution_count": null,
   "id": "accomplished-wisconsin",
   "metadata": {},
   "outputs": [],
   "source": []
  },
  {
   "cell_type": "code",
   "execution_count": null,
   "id": "provincial-internet",
   "metadata": {},
   "outputs": [],
   "source": []
  },
  {
   "cell_type": "code",
   "execution_count": null,
   "id": "celtic-surfing",
   "metadata": {},
   "outputs": [],
   "source": []
  },
  {
   "cell_type": "code",
   "execution_count": null,
   "id": "fatal-valentine",
   "metadata": {},
   "outputs": [],
   "source": []
  },
  {
   "cell_type": "code",
   "execution_count": null,
   "id": "retired-cream",
   "metadata": {},
   "outputs": [],
   "source": []
  },
  {
   "cell_type": "code",
   "execution_count": null,
   "id": "musical-bulgaria",
   "metadata": {},
   "outputs": [],
   "source": []
  },
  {
   "cell_type": "code",
   "execution_count": 39,
   "id": "conscious-credits",
   "metadata": {},
   "outputs": [],
   "source": [
    "void sleepy_dormancy_generation(std::vector<tsk_id_t> &dormancy_generations, std::vector<double> &weights, tsk_id_t N) \n",
    "{\n",
    "    stats_random_discrete(dormancy_generations, weights, N);\n",
    "}"
   ]
  },
  {
   "cell_type": "code",
   "execution_count": 40,
   "id": "likely-southeast",
   "metadata": {},
   "outputs": [],
   "source": [
    "void stats_random_real(double &output, int start, int end)\n",
    "{\n",
    "    std::uniform_real_distribution<> d(start, end);\n",
    "    output = d(generator); \n",
    "}"
   ]
  },
  {
   "cell_type": "code",
   "execution_count": 41,
   "id": "cathedral-thursday",
   "metadata": {},
   "outputs": [],
   "source": [
    "struct recombination_event {\n",
    "    double left;\n",
    "    double right;\n",
    "    tsk_id_t parent;\n",
    "    tsk_id_t child;\n",
    "};"
   ]
  },
  {
   "cell_type": "code",
   "execution_count": 42,
   "id": "hispanic-sugar",
   "metadata": {},
   "outputs": [],
   "source": [
    "void stats_random_poisson(int &output, double lambda)\n",
    "{\n",
    "    std::poisson_distribution<> d(lambda);\n",
    "    output = d(generator);\n",
    "}"
   ]
  },
  {
   "cell_type": "code",
   "execution_count": 43,
   "id": "complimentary-disco",
   "metadata": {},
   "outputs": [],
   "source": [
    "template<typename T>\n",
    "std::vector<T> MultiplyVec(std::vector<T> v, int n)\n",
    "{\n",
    "    std::vector<T> rv;\n",
    "    rv.reserve(n * v.size());\n",
    "    for (int i=0; i<n; i++){\n",
    "        for (auto e : v){ rv.emplace_back(e); }\n",
    "    }\n",
    "    return rv;\n",
    "} "
   ]
  },
  {
   "cell_type": "code",
   "execution_count": 44,
   "id": "increasing-nightlife",
   "metadata": {},
   "outputs": [],
   "source": [
    "void sleepy_recombination_events(std::vector<recombination_event> &recombination_events, double r,\n",
    "                       std::pair<tsk_id_t, tsk_id_t> parent_idxs, tsk_id_t next_offspring_id, double L)\n",
    "{\n",
    "    int nbreaks;\n",
    "    stats_random_poisson(nbreaks, r);\n",
    "\n",
    "    if (nbreaks == 0) {\n",
    "                \n",
    "        recombination_event re = {0, L, parent_idxs.first, next_offspring_id};\n",
    "        recombination_events.emplace_back(re);\n",
    "        \n",
    "        \n",
    "    } else {\n",
    "        std::vector<double> b;\n",
    "        b.reserve(nbreaks);\n",
    "        int i{0};\n",
    "        while (i < nbreaks){\n",
    "            double p;\n",
    "            stats_random_real(p, 0, L);\n",
    "            b.emplace_back(p);\n",
    "            i++;\n",
    "        }\n",
    "        std::sort(b.begin(), b.end());\n",
    "        if (b.back() != L) { b.emplace_back(L); }\n",
    "        if (*b.begin() != 0.0) { \n",
    "            b.insert(b.begin(), 0.0);\n",
    "        } else {\n",
    "            int tmp_parent_idx = parent_idxs.first;\n",
    "            parent_idxs.first = parent_idxs.second;\n",
    "            parent_idxs.second = tmp_parent_idx;\n",
    "        }\n",
    "        std::vector<int> p_idxs{parent_idxs.first, parent_idxs.second};\n",
    "        std::vector<int> pgams = MultiplyVec(p_idxs, b.size() / 2);\n",
    "        for (int i=0; i<b.size()-1; i++) {\n",
    "            recombination_event re = {b[i], b[i+1], pgams[i], next_offspring_id};\n",
    "            recombination_events.emplace_back(re);\n",
    "            //std::cout <<  b[i] << \" \" << b[i+1] << \" \" <<  pgams[i] << std::endl;\n",
    "        }  \n",
    "    }\n",
    "}"
   ]
  },
  {
   "cell_type": "code",
   "execution_count": 53,
   "id": "proprietary-basics",
   "metadata": {},
   "outputs": [],
   "source": [
    "std::vector<recombination_event> recombination_events;\n",
    "double r = 1;\n",
    "std::pair<tsk_id_t, tsk_id_t> parent_idxs = {3, 4};\n",
    "tsk_id_t next_offspring_id = 12;\n",
    "double L = 10;\n",
    "\n",
    "sleepy_recombination_events(recombination_events, r, parent_idxs, next_offspring_id, L)"
   ]
  },
  {
   "cell_type": "code",
   "execution_count": 54,
   "id": "unsigned-james",
   "metadata": {},
   "outputs": [],
   "source": [
    "void sleepy_print_recombination_event(recombination_event &re) \n",
    "{\n",
    "    std::cout << \"left \" << re.left << \" right \" << re.right << \" parent \" << re.parent << \" child \" << re.child << std::endl;\n",
    "}"
   ]
  },
  {
   "cell_type": "code",
   "execution_count": 55,
   "id": "checked-jerusalem",
   "metadata": {},
   "outputs": [
    {
     "name": "stdout",
     "output_type": "stream",
     "text": [
      "left 0 right 2.00362 parent 3 child 12\n",
      "left 2.00362 right 8.02828 parent 4 child 12\n",
      "left 8.02828 right 10 parent 3 child 12\n"
     ]
    }
   ],
   "source": [
    "for (auto re : recombination_events) sleepy_print_recombination_event(re)"
   ]
  },
  {
   "cell_type": "code",
   "execution_count": null,
   "id": "genuine-venture",
   "metadata": {},
   "outputs": [],
   "source": []
  },
  {
   "cell_type": "code",
   "execution_count": null,
   "id": "gothic-maine",
   "metadata": {},
   "outputs": [],
   "source": []
  },
  {
   "cell_type": "code",
   "execution_count": 42,
   "id": "sustained-cover",
   "metadata": {},
   "outputs": [],
   "source": [
    "void sleepy_add_time(tsk_node_table_t &nodes, int by, int begin, int end = 0)\n",
    "{\n",
    "    std::vector<double> time_before; \n",
    "    time_before.reserve(begin);\n",
    "    std::vector<double> time_mid; \n",
    "    time_before.reserve(begin+nodes.num_rows-end);\n",
    "    std::vector<double> time_after;\n",
    "    \n",
    "    if (end == 0) end = nodes.num_rows;\n",
    "    for (int i=0; i<begin; i++) time_before.emplace_back(nodes.time[i]);\n",
    "    \n",
    "\n",
    "    \n",
    "    for (int i=begin; i<end; i++) {\n",
    "        time_mid.emplace_back(nodes.time[i] + by);\n",
    "    }\n",
    "    \n",
    "    for (int i=end; i<nodes.num_rows; i++) {\n",
    "        time_after.emplace_back(nodes.time[i]);\n",
    "    }\n",
    "    \n",
    "    time_before.insert(std::end(time_before), std::begin(time_mid), std::end(time_mid));\n",
    "    time_before.insert(std::end(time_before), std::begin(time_after), std::end(time_after));\n",
    "    \n",
    "    for (int i=0; i<nodes.num_rows; i++) {\n",
    "        nodes.time[i] = time_before[i];\n",
    "    }\n",
    "    \n",
    "}"
   ]
  },
  {
   "cell_type": "markdown",
   "id": "cathedral-chrome",
   "metadata": {},
   "source": [
    "# interations"
   ]
  },
  {
   "cell_type": "code",
   "execution_count": 57,
   "id": "graduate-export",
   "metadata": {},
   "outputs": [
    {
     "name": "stdout",
     "output_type": "stream",
     "text": [
      "generation 0\n",
      "first_parental_index 4\n",
      "generation 1\n",
      "first_parental_index 4\n",
      "generation 2\n",
      "first_parental_index 4\n"
     ]
    }
   ],
   "source": [
    "int num_generations = 3;\n",
    "int gc = 3;\n",
    "double b = 1;\n",
    "std::vector<tsk_id_t> parents;\n",
    "int ret = 0;\n",
    "int L = 1;\n",
    "int r = 1;\n",
    "int N = 2;\n",
    "int m = 2;\n",
    "int gen = 0;\n",
    "\n",
    "tsk_table_collection_t tables;\n",
    "tsk_table_collection_init(&tables, 0);\n",
    "tables.sequence_length = 1;\n",
    "\n",
    "\n",
    "sleepy_init_tables(&tables, N, m, gen);\n",
    "\n",
    "sleepy_reverse_time(tables.nodes, 0);    \n",
    "sleepy_simplify(tables, std::vector<std::pair<tsk_id_t, MutationMetaData>>{}, m);\n",
    "\n",
    "tsk_node_table_print_state(&tables.nodes, stdout);\n",
    "\n",
    "\n",
    "gen = m;\n",
    "\n",
    "for(int num_generation=0; num_generation<num_generations; num_generation++) {\n",
    "    \n",
    "    std::cout << \"generation \" << num_generation << std::endl;\n",
    "\n",
    "    tsk_id_t next_offspring_index = tables.nodes.num_rows;\n",
    "    tsk_id_t num_non_sample = sleepy_num_non_sample_node(tables.nodes);\n",
    "    tsk_id_t first_parental_index = next_offspring_index - (2*N) - num_non_sample; /* num_non_sample will be 0 during first iteration */\n",
    "    \n",
    "    std::cout << \"first_parental_index \" << first_parental_index << std::endl;\n",
    "\n",
    "    for (int c=0; c<gc; c++) {\n",
    "\n",
    "        /* vector of weights representing the probability of choosing parent from generation */\n",
    "        /* index 0 means previous generation */\n",
    "        std::vector<double> dorm_weights; sleepy_dormancy_weights(dorm_weights, b, m);\n",
    "        \n",
    "        /* actual generation from where to choose the parent 0 meaning previous generation, up to m-1 */\n",
    "        std::vector<tsk_id_t> dormancy_generations; sleepy_dormancy_generation(dormancy_generations, dorm_weights, 2*N);\n",
    "\n",
    "        parents.clear();\n",
    "        stats_random_discrete(parents, std::vector<double>(N, 1), 2*N);\n",
    "\n",
    "        tsk_id_t i_genotype = 0;\n",
    "        for (int p=0; p<parents.size(); p+=2) {\n",
    "\n",
    "            /* way too complicated dormancy index updating dependent on state in the simplication process */\n",
    "            tsk_id_t parent1 = parents[p];\n",
    "            tsk_id_t parent2 = parents[p+1];\n",
    "            tsk_id_t dormancy_updated_first_parental_index_1 = first_parental_index - (2*N*dormancy_generations[parent1]); \n",
    "            tsk_id_t dormancy_updated_first_parental_index_2 = first_parental_index - (2*N*dormancy_generations[parent2]); \n",
    "            if (c > 0 && (2*N*dormancy_generations[parent1]) >= c*2*N) { dormancy_updated_first_parental_index_1 -= num_non_sample; }\n",
    "            if (c > 0 && (2*N*dormancy_generations[parent2]) >= c*2*N) { dormancy_updated_first_parental_index_2 -= num_non_sample; }\n",
    "            tsk_id_t p1g1 = dormancy_updated_first_parental_index_1 + 2*parent1;\n",
    "            tsk_id_t p1g2 = p1g1+1;\n",
    "            tsk_id_t p2g1 = dormancy_updated_first_parental_index_2 + 2*parent2;\n",
    "            tsk_id_t p2g2 = p2g1+1;\n",
    "            \n",
    "\n",
    "            double mendel1 = 0;\n",
    "            double mendel2 = 0;\n",
    "            stats_random_real(mendel1, 0, 1);\n",
    "            stats_random_real(mendel2, 0, 1);\n",
    "            if (mendel1 < 0.5) {\n",
    "                tsk_id_t tmp = p1g1;\n",
    "                p1g1 = p1g2;\n",
    "                p1g2 = tmp;\n",
    "            }\n",
    "            if (mendel2 < 0.5) {\n",
    "                tsk_id_t tmp = p2g1;\n",
    "                p2g1 = p2g2;\n",
    "                p2g2 = tmp;\n",
    "            }\n",
    "\n",
    "            tsk_node_table_add_row(&tables.nodes, TSK_NODE_IS_SAMPLE, gen, TSK_NULL, TSK_NULL, NULL, 0);\n",
    "            tsk_node_table_add_row(&tables.nodes, TSK_NODE_IS_SAMPLE, gen, TSK_NULL, TSK_NULL, NULL, 0);\n",
    "            \n",
    "            tsk_node_table_print_state(&tables.nodes, stdout);\n",
    "\n",
    "\n",
    "            std::vector<recombination_event> recombination_events;\n",
    "            sleepy_recombination_events(recombination_events, r, std::pair<tsk_id_t, tsk_id_t>{p1g1,p1g2},next_offspring_index, L);\n",
    "\n",
    "            for (int re=0; re<recombination_events.size(); re++) {\n",
    "                ret = tsk_edge_table_add_row(&tables.edges, recombination_events[re].left, recombination_events[re].right, recombination_events[re].parent, recombination_events[re].child, NULL, 0);\n",
    "            }\n",
    "\n",
    "            i_genotype++;\n",
    "            next_offspring_index++;\n",
    "\n",
    "            recombination_events.clear();\n",
    "            sleepy_recombination_events(recombination_events, r, std::pair<tsk_id_t, tsk_id_t>{p2g1,p2g2},next_offspring_index, L);\n",
    "\n",
    "            for (int re=0; re<recombination_events.size(); re++) {\n",
    "                ret = tsk_edge_table_add_row(&tables.edges, recombination_events[re].left, recombination_events[re].right, recombination_events[re].parent, recombination_events[re].child, NULL, 0);\n",
    "            }\n",
    "\n",
    "            i_genotype++;\n",
    "            next_offspring_index++;\n",
    "        }\n",
    "\n",
    "        /* function is only relevant within simplification interval */\n",
    "        /* first_parental_index will be updated differently after simplifcation*/\n",
    "        first_parental_index = tables.nodes.num_rows - 2*N;\n",
    "\n",
    "        gen++;\n",
    "        //num_generation++; \n",
    "    }\n",
    "\n",
    "    sleepy_add_time(tables.nodes, gc, 0, tables.nodes.num_rows-2*N*gc);\n",
    "    sleepy_reverse_time(tables.nodes, tables.nodes.num_rows-2*N*gc, tables.nodes.num_rows);  \n",
    "    sleepy_simplify(tables,std::vector<std::pair<tsk_id_t, MutationMetaData>>{}, m);\n",
    "}\n",
    "\n",
    "tsk_node_table_print_state(&tables.nodes, stdout);\n"
   ]
  },
  {
   "cell_type": "markdown",
   "id": "minor-designer",
   "metadata": {},
   "source": [
    "# mendel switch"
   ]
  },
  {
   "cell_type": "code",
   "execution_count": 4,
   "id": "arabic-roulette",
   "metadata": {},
   "outputs": [],
   "source": [
    "std::random_device rd;\n",
    "std::mt19937 generator(rd());"
   ]
  },
  {
   "cell_type": "code",
   "execution_count": 5,
   "id": "contemporary-advocacy",
   "metadata": {},
   "outputs": [],
   "source": [
    "void stats_random_real(double &output, int start, int end)\n",
    "{\n",
    "    std::uniform_real_distribution<> d(start, end);\n",
    "    output = d(generator); \n",
    "}"
   ]
  },
  {
   "cell_type": "code",
   "execution_count": 6,
   "id": "psychological-compound",
   "metadata": {},
   "outputs": [],
   "source": [
    "void sleepy_random_gamete_switch(tsk_id_t &gamete1, tsk_id_t &gamete2){\n",
    "    double mendel = 0;\n",
    "    stats_random_real(mendel, 0, 1);\n",
    "    if (mendel < 0.5) {\n",
    "        tsk_id_t tmp = gamete1;\n",
    "        gamete1 = gamete2;\n",
    "        gamete2 = tmp;\n",
    "    }\n",
    "}"
   ]
  },
  {
   "cell_type": "code",
   "execution_count": 8,
   "id": "square-adapter",
   "metadata": {},
   "outputs": [],
   "source": [
    "tsk_id_t g1 = 1, g2 = 3;"
   ]
  },
  {
   "cell_type": "code",
   "execution_count": 19,
   "id": "competent-third",
   "metadata": {},
   "outputs": [],
   "source": [
    "random_gamete_switch(g1, g2);"
   ]
  },
  {
   "cell_type": "code",
   "execution_count": 20,
   "id": "activated-cliff",
   "metadata": {},
   "outputs": [
    {
     "data": {
      "text/plain": [
       "1"
      ]
     },
     "execution_count": 20,
     "metadata": {},
     "output_type": "execute_result"
    }
   ],
   "source": [
    "g1"
   ]
  },
  {
   "cell_type": "code",
   "execution_count": 21,
   "id": "retained-glasgow",
   "metadata": {},
   "outputs": [
    {
     "data": {
      "text/plain": [
       "3"
      ]
     },
     "execution_count": 21,
     "metadata": {},
     "output_type": "execute_result"
    }
   ],
   "source": [
    "g2"
   ]
  }
 ],
 "metadata": {
  "kernelspec": {
   "display_name": "C++14",
   "language": "C++14",
   "name": "xcpp14"
  },
  "language_info": {
   "codemirror_mode": "text/x-c++src",
   "file_extension": ".cpp",
   "mimetype": "text/x-c++src",
   "name": "c++",
   "version": "14"
  }
 },
 "nbformat": 4,
 "nbformat_minor": 5
}
