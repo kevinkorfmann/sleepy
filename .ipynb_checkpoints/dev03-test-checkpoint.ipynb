{
 "cells": [
  {
   "cell_type": "code",
   "execution_count": 33,
   "id": "interracial-pitch",
   "metadata": {},
   "outputs": [],
   "source": [
    "def sleepy(n_simulations, N=50, m=1, b=1, gc=20, mu=0, r=5e-7, L=5000, mu_selection_rates=\"5e-8\", \n",
    "         selection_coefficients=\"2\",dominance_coefficients=\"0.5\", selection_positions=\"2500\",\n",
    "         mutation_in_seeds=True, stop_after_mrca=False, debug_print=False, output_name=\"run\", \n",
    "         output_directory=\"./\",n_parallel=5, continue_from=0, print_cmd=False,\n",
    "        ):\n",
    "    \n",
    "    kwargs = {\"n_simulations\":n_simulations, \"N\":N, \"m\":m, \"b\":b, \"gc\":gc, \"mu\":mu, \"r\":r, \"L\":L, \"mu_selection_rates\":mu_selection_rates, \n",
    "         \"selection_coefficients\":selection_coefficients,\"dominance_coefficients\":dominance_coefficients, \"selection_positions\":selection_positions,\n",
    "         \"mutation_in_seeds\":mutation_in_seeds, \"stop_after_mrca\":stop_after_mrca, \"debug_print\":debug_print, \"output_name\":output_name, \n",
    "         \"output_directory\":output_directory }\n",
    "    \n",
    "    cmd_arg_part = \"\"\n",
    "    for k,v in zip(kwargs.keys(), kwargs.values()):\n",
    "        cmd_arg_part += \"--\" + str(k) + \" \" + str(v) \n",
    "        if k == \"output_name\":\n",
    "            cmd_arg_part += str(\"_$i\")\n",
    "        cmd_arg_part += \" \"\n",
    "    \n",
    "    script = \"\"\"\n",
    "\n",
    "        n_simulations=\"\"\" + str(n_simulations) + \"\"\"\n",
    "        n_prog=\"\"\" + str(n_parallel) + \"\"\"\n",
    "        n_prog_count=0\n",
    "\n",
    "        i=\"\"\" + str(continue_from) + \"\"\"\n",
    "        while [[ $i -lt $n_simulations ]]; do\n",
    "        \n",
    "        sleepy \"\"\" + cmd_arg_part + \"\"\"\n",
    "             (( n_prog_count+=1 ))  \n",
    "             [[ $((n_prog_count%n_prog)) -eq 0 ]] && wait\n",
    "             (( i+=1 ))\n",
    "        done\n",
    "        \"\"\"\n",
    "    \n",
    "    if print_cmd: print(script)\n",
    "    else: return run_bash_script(script)\n"
   ]
  },
  {
   "cell_type": "code",
   "execution_count": 34,
   "id": "clear-experiment",
   "metadata": {},
   "outputs": [
    {
     "name": "stdout",
     "output_type": "stream",
     "text": [
      "\n",
      "\n",
      "        n_simulations=3\n",
      "        n_prog=5\n",
      "        n_prog_count=0\n",
      "\n",
      "        i=0\n",
      "        while [[ $i -lt $n_simulations ]]; do\n",
      "        \n",
      "        sleepy --n_simulations 3 --N 50 --m 1 --b 1 --gc 20 --mu 0 --r 5e-07 --L 5000 --mu_selection_rates 5e-8 --selection_coefficients 2 --dominance_coefficients 0.5 --selection_positions 2500 --mutation_in_seeds True --stop_after_mrca False --debug_print False --output_name run_$i --output_directory ./ \n",
      "             (( n_prog_count+=1 ))  \n",
      "             [[ $((n_prog_count%n_prog)) -eq 0 ]] && wait\n",
      "             (( i+=1 ))\n",
      "        done\n",
      "        \n"
     ]
    }
   ],
   "source": [
    "sleepy(3, print_cmd=True)"
   ]
  },
  {
   "cell_type": "code",
   "execution_count": null,
   "id": "swiss-ordinance",
   "metadata": {},
   "outputs": [],
   "source": []
  }
 ],
 "metadata": {
  "kernelspec": {
   "display_name": "Python 3",
   "language": "python",
   "name": "python3"
  },
  "language_info": {
   "codemirror_mode": {
    "name": "ipython",
    "version": 3
   },
   "file_extension": ".py",
   "mimetype": "text/x-python",
   "name": "python",
   "nbconvert_exporter": "python",
   "pygments_lexer": "ipython3",
   "version": "3.8.5"
  }
 },
 "nbformat": 4,
 "nbformat_minor": 5
}
