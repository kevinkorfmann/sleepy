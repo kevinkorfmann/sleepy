{
 "cells": [
  {
   "cell_type": "code",
   "execution_count": 3,
   "id": "familiar-creature",
   "metadata": {},
   "outputs": [],
   "source": [
    "#pragma cling load(\"./build/libkastore.so\")\n",
    "#pragma cling load(\"./build/libtskit.so\")\n",
    "#pragma cling add_include_path(\"./tskit/c\")\n",
    "#pragma cling add_include_path(\"./kastore/c\")\n",
    "\n",
    "#include \"./kastore/c/kastore.h\"\n",
    "#include \"./tskit/c/tskit.h\"\n",
    "\n",
    "#include <tskit.h>\n",
    "#include <stdio.h>\n",
    "#include <stdlib.h>\n",
    "\n",
    "#define check_tsk_error(val)                                                            \\\n",
    "    if (val < 0) {                                                                      \\\n",
    "        fprintf(stderr, \"line %d: %s\", __LINE__, tsk_strerror(val));                    \\\n",
    "        exit(EXIT_FAILURE);                                                             \\\n",
    "    }"
   ]
  },
  {
   "cell_type": "code",
   "execution_count": 4,
   "id": "protected-installation",
   "metadata": {},
   "outputs": [],
   "source": [
    "#include <numeric>\n",
    "#include <random>"
   ]
  },
  {
   "cell_type": "code",
   "execution_count": 76,
   "id": "frozen-madison",
   "metadata": {},
   "outputs": [],
   "source": [
    "// table collection\n",
    "int ret;\n",
    "tsk_table_collection_t tables;\n",
    "ret = tsk_table_collection_init(&tables, 0);\n",
    "check_tsk_error(ret);\n",
    "tsk_table_collection_free(&tables);"
   ]
  },
  {
   "cell_type": "code",
   "execution_count": 77,
   "id": "practical-smith",
   "metadata": {},
   "outputs": [],
   "source": [
    "// nodes collection\n",
    "tsk_node_table_t nodes;\n",
    "tsk_node_table_init(&nodes, 0);\n",
    "for (int i=0; i<5; i++) {\n",
    "    tsk_node_table_add_row(&nodes, TSK_NODE_IS_SAMPLE,i, TSK_NULL, TSK_NULL, NULL, 0);\n",
    "}  \n",
    "tsk_node_table_free(&nodes);"
   ]
  },
  {
   "cell_type": "code",
   "execution_count": 78,
   "id": "joined-rubber",
   "metadata": {},
   "outputs": [],
   "source": [
    "//tsk_node_t node;\n",
    "//tsk_node_table_get_row(&nodes, 0, &node);"
   ]
  },
  {
   "cell_type": "code",
   "execution_count": 79,
   "id": "affected-somalia",
   "metadata": {},
   "outputs": [],
   "source": [
    "//tsk_node_table_print_state(&nodes, stdout)"
   ]
  },
  {
   "cell_type": "code",
   "execution_count": 80,
   "id": "nutritional-yukon",
   "metadata": {},
   "outputs": [],
   "source": [
    "#include <fstream>"
   ]
  },
  {
   "cell_type": "code",
   "execution_count": 81,
   "id": "geological-queens",
   "metadata": {},
   "outputs": [],
   "source": [
    "struct mutation_info {\n",
    "    std::vector<int> origin_generation;\n",
    "    double selection_coefficient;\n",
    "    double dominance_coefficient;\n",
    "    std::vector<int> abs_population_freq;\n",
    "    std::vector<int> num_active_mutations;\n",
    "};"
   ]
  },
  {
   "cell_type": "code",
   "execution_count": 82,
   "id": "metropolitan-yorkshire",
   "metadata": {},
   "outputs": [],
   "source": [
    "struct recorder_t {\n",
    "\n",
    "    // keys\n",
    "    std::vector<double> positions;\n",
    "    std::unordered_map<double, mutation_info> data;\n",
    "    void insert(double position, int origin_generation, int abs_population_freq, double selection_coefficient,double dominance_coefficient, int num_active_mutations) \n",
    "        \n",
    "    {\n",
    "        if (data.find(position) == data.end()) {\n",
    "            data[position] = mutation_info{ .origin_generation = std::vector<int>{origin_generation},\n",
    "                                     .selection_coefficient = selection_coefficient,\n",
    "                                     .dominance_coefficient = dominance_coefficient,\n",
    "                                     .abs_population_freq = std::vector<int>{abs_population_freq},\n",
    "                                     .num_active_mutations = std::vector<int>{num_active_mutations},\n",
    "                                   };\n",
    "        } else {\n",
    "            data[position].abs_population_freq.emplace_back(abs_population_freq);\n",
    "            data[position].num_active_mutations.emplace_back(num_active_mutations);\n",
    "            data[position].origin_generation.emplace_back(origin_generation); \n",
    "        }\n",
    "    }\n",
    "\n",
    "\n",
    "\n",
    "    void save(std::string file) \n",
    "    {\n",
    "        std::ofstream outfile{file};\n",
    "        outfile << \"position,origin_generation,abs_population_freq,selection_coefficient,dominance_coefficient,active_mutations\" << std::endl;\n",
    "        for (auto &it : data) { \n",
    "            std::vector<int> abs_population_freq = it.second.abs_population_freq; \n",
    "            std::vector<int> num_active_mutations = it.second.num_active_mutations; \n",
    "            std::vector<int> origin_generation = it.second.origin_generation;\n",
    "            double selection_coefficient = it.second.selection_coefficient;\n",
    "            double dominance_coefficient = it.second.dominance_coefficient;\n",
    "            \n",
    "\n",
    "            for (int j=0; j<abs_population_freq.size(); j++) {\n",
    "                double position = it.first;\n",
    "                outfile << position << \",\" << origin_generation[j] << \",\"\n",
    "                    <<  abs_population_freq[j] << \",\" << selection_coefficient << \",\" << dominance_coefficient << \",\"\n",
    "                    << num_active_mutations[j] << std::endl;\n",
    "            }\n",
    "        }\n",
    "        \n",
    "    }\n",
    "};"
   ]
  },
  {
   "cell_type": "code",
   "execution_count": 83,
   "id": "increasing-anaheim",
   "metadata": {},
   "outputs": [],
   "source": [
    "std::vector<int> s3_num_roots(tsk_table_collection_t &tables)\n",
    "{\n",
    "    tsk_treeseq_t ts;\n",
    "    tsk_tree_t tree;\n",
    "    int ret, iter;\n",
    "    std::vector<int> num_roots{};\n",
    "\n",
    "\n",
    "    ret = tsk_table_collection_build_index(&tables, 0);\n",
    "    check_tsk_error(ret);\n",
    "    ret = tsk_treeseq_init(&ts, &tables, 0);\n",
    "    check_tsk_error(ret);\n",
    "    ret = tsk_tree_init(&tree, &ts, 0); \n",
    "    check_tsk_error(ret);\n",
    "\n",
    "    for (iter = tsk_tree_first(&tree); iter == 1; iter = tsk_tree_next(&tree)) {\n",
    "        num_roots.emplace_back(tsk_tree_get_num_roots(&tree));\n",
    "    }\n",
    "\n",
    "    tsk_tree_free(&tree);\n",
    "    tsk_treeseq_free(&ts);\n",
    "    return num_roots;\n",
    "}"
   ]
  },
  {
   "cell_type": "code",
   "execution_count": 84,
   "id": "unlike-royalty",
   "metadata": {},
   "outputs": [],
   "source": [
    "bool s3_mrca_found(tsk_table_collection_t &tables)\n",
    "{\n",
    "    std::vector<int> num_roots = s3_num_roots(tables);\n",
    "    for (auto num_root : num_roots) {\n",
    "        if (num_root != 1) { \n",
    "            return false; };\n",
    "    }\n",
    "    return true;\n",
    "}"
   ]
  },
  {
   "cell_type": "code",
   "execution_count": 85,
   "id": "arbitrary-constitution",
   "metadata": {},
   "outputs": [],
   "source": [
    "void s3_reverse_time(tsk_node_table_t &nodes, int begin, int end = 0)\n",
    "{\n",
    "    std::vector<double> time_before; \n",
    "    time_before.reserve(begin);\n",
    "    std::vector<double> time_mid; \n",
    "    time_before.reserve(begin+nodes.num_rows-end);\n",
    "    std::vector<double> time_after;\n",
    "    \n",
    "    if (end == 0) end = nodes.num_rows;\n",
    "    for (int i=0; i<begin; i++) time_before.emplace_back(nodes.time[i]);\n",
    "    \n",
    "    double max_element{0};\n",
    "    for (int i=begin; i<end; i++) {\n",
    "        if (nodes.time[i] >= max_element) {\n",
    "            max_element = nodes.time[i];\n",
    "        }\n",
    "    }\n",
    "    \n",
    "    for (int i=begin; i<end; i++) {\n",
    "        time_mid.emplace_back((nodes.time[i] - max_element) * (-1));\n",
    "    }\n",
    "    \n",
    "    for (int i=end; i<nodes.num_rows; i++) {\n",
    "        time_after.emplace_back(nodes.time[i]);\n",
    "    }\n",
    "    \n",
    "    time_before.insert(std::end(time_before), std::begin(time_mid), std::end(time_mid));\n",
    "    time_before.insert(std::end(time_before), std::begin(time_after), std::end(time_after));\n",
    "    \n",
    "    for (int i=0; i<nodes.num_rows; i++) {\n",
    "        nodes.time[i] = time_before[i];\n",
    "    }\n",
    "    \n",
    "}"
   ]
  },
  {
   "cell_type": "code",
   "execution_count": 86,
   "id": "graphic-gasoline",
   "metadata": {},
   "outputs": [],
   "source": [
    "// testing s3_reverse_time\n",
    "tsk_node_table_t nodes;\n",
    "tsk_node_table_init(&nodes, 0);\n",
    "for (int i=0; i<5; i++) {\n",
    "    tsk_node_table_add_row(&nodes, TSK_NODE_IS_SAMPLE,i, TSK_NULL, TSK_NULL, NULL, 0);\n",
    "}  \n",
    "// s3_reverse_time(nodes, 0);\n",
    "s3_reverse_time(nodes, 2, 5);\n",
    "//tsk_node_table_print_state(&nodes, stdout);\n",
    "tsk_node_table_free(&nodes);"
   ]
  },
  {
   "cell_type": "code",
   "execution_count": 87,
   "id": "suffering-phenomenon",
   "metadata": {},
   "outputs": [],
   "source": [
    "void s3_add_time(tsk_node_table_t &nodes, int by, int begin, int end = 0)\n",
    "{\n",
    "    std::vector<double> time_before; \n",
    "    time_before.reserve(begin);\n",
    "    std::vector<double> time_mid; \n",
    "    time_before.reserve(begin+nodes.num_rows-end);\n",
    "    std::vector<double> time_after;\n",
    "    \n",
    "    if (end == 0) end = nodes.num_rows;\n",
    "    for (int i=0; i<begin; i++) time_before.emplace_back(nodes.time[i]);\n",
    "    \n",
    "\n",
    "    \n",
    "    for (int i=begin; i<end; i++) {\n",
    "        time_mid.emplace_back(nodes.time[i] + by);\n",
    "    }\n",
    "    \n",
    "    for (int i=end; i<nodes.num_rows; i++) {\n",
    "        time_after.emplace_back(nodes.time[i]);\n",
    "    }\n",
    "    \n",
    "    time_before.insert(std::end(time_before), std::begin(time_mid), std::end(time_mid));\n",
    "    time_before.insert(std::end(time_before), std::begin(time_after), std::end(time_after));\n",
    "    \n",
    "    for (int i=0; i<nodes.num_rows; i++) {\n",
    "        nodes.time[i] = time_before[i];\n",
    "    }\n",
    "    \n",
    "}"
   ]
  },
  {
   "cell_type": "code",
   "execution_count": 88,
   "id": "proprietary-orientation",
   "metadata": {},
   "outputs": [],
   "source": [
    "// testing s3_add_time\n",
    "tsk_node_table_t nodes;\n",
    "tsk_node_table_init(&nodes, 0);\n",
    "for (int i=0; i<5; i++) {\n",
    "    tsk_node_table_add_row(&nodes, TSK_NODE_IS_SAMPLE,i, TSK_NULL, TSK_NULL, NULL, 0);\n",
    "}  \n",
    "s3_add_time(nodes,10, 0);\n",
    "// s3_add_time(nodes,10, 2, 5);\n",
    "//tsk_node_table_print_state(&nodes, stdout);\n",
    "tsk_node_table_free(&nodes);"
   ]
  },
  {
   "cell_type": "code",
   "execution_count": null,
   "id": "psychological-secretary",
   "metadata": {},
   "outputs": [],
   "source": []
  },
  {
   "cell_type": "code",
   "execution_count": 89,
   "id": "rural-indiana",
   "metadata": {},
   "outputs": [],
   "source": [
    "std::random_device rd;\n",
    "std::mt19937 generator(rd());"
   ]
  },
  {
   "cell_type": "code",
   "execution_count": 90,
   "id": "military-crack",
   "metadata": {},
   "outputs": [],
   "source": [
    "void stats_random_discrete(std::vector<int> &output, const std::vector<double> &weights, int n)\n",
    "{\n",
    "    std::discrete_distribution<> d(weights.begin(), weights.end());\n",
    "    for (int i=0; i<n; i++) { output.emplace_back(d(generator)); }\n",
    "}"
   ]
  },
  {
   "cell_type": "code",
   "execution_count": 91,
   "id": "dominant-turkish",
   "metadata": {},
   "outputs": [],
   "source": [
    "void stats_random_poisson(std::vector<int> &output, double lambda, int n)\n",
    "{\n",
    "    std::poisson_distribution<> d(lambda);\n",
    "    for (int i=0; i<n; i++) {\n",
    "        output.emplace_back(d(generator));\n",
    "    }\n",
    "}"
   ]
  },
  {
   "cell_type": "code",
   "execution_count": 92,
   "id": "combined-cigarette",
   "metadata": {},
   "outputs": [],
   "source": [
    "void stats_random_poisson(int &output, double lambda)\n",
    "{\n",
    "    std::poisson_distribution<> d(lambda);\n",
    "    output = d(generator);\n",
    "}"
   ]
  },
  {
   "cell_type": "code",
   "execution_count": 93,
   "id": "republican-walker",
   "metadata": {},
   "outputs": [],
   "source": [
    "void stats_random_real(double &output, int start, int end)\n",
    "{\n",
    "    std::uniform_real_distribution<> d(start, end);\n",
    "    output = d(generator); \n",
    "}"
   ]
  },
  {
   "cell_type": "code",
   "execution_count": 94,
   "id": "complicated-slovenia",
   "metadata": {},
   "outputs": [],
   "source": [
    "void s3_dormancy_weights(std::vector<double> &weights, double b, tsk_id_t m)\n",
    "{\n",
    "    for (int i=0; i<m; i++) {\n",
    "        weights.emplace_back(b * pow((1-b), i-1));\n",
    "    }\n",
    "    double sum = std::accumulate(std::begin(weights), std::end(weights), 0.0);\n",
    "    for (int i=0; i<weights.size(); i++) {\n",
    "        weights[i] = weights[i] / sum;\n",
    "    }\n",
    "}"
   ]
  },
  {
   "cell_type": "code",
   "execution_count": null,
   "id": "middle-advocate",
   "metadata": {},
   "outputs": [],
   "source": []
  },
  {
   "cell_type": "code",
   "execution_count": 95,
   "id": "weird-letter",
   "metadata": {},
   "outputs": [],
   "source": [
    "void s3_dormancy_generation(std::vector<tsk_id_t> &dormancy_generations, std::vector<double> &weights, tsk_id_t N) \n",
    "{\n",
    "    stats_random_discrete(dormancy_generations, weights, N);\n",
    "}"
   ]
  },
  {
   "cell_type": "code",
   "execution_count": 96,
   "id": "corporate-plastic",
   "metadata": {},
   "outputs": [
    {
     "data": {
      "text/plain": [
       "{ 0, 0, 0, 0, 1, 0, 0, 0, 0, 0 }"
      ]
     },
     "execution_count": 96,
     "metadata": {},
     "output_type": "execute_result"
    }
   ],
   "source": [
    "std::vector<double> weights;\n",
    "s3_dormancy_weights(weights, 0.9, 5);\n",
    "\n",
    "std::vector<tsk_id_t> dormancy_generations;\n",
    "s3_dormancy_generation(dormancy_generations, weights, 10);\n",
    "dormancy_generations"
   ]
  },
  {
   "cell_type": "code",
   "execution_count": null,
   "id": "warming-sentence",
   "metadata": {},
   "outputs": [],
   "source": []
  },
  {
   "cell_type": "code",
   "execution_count": 97,
   "id": "saved-review",
   "metadata": {},
   "outputs": [],
   "source": [
    "void s3_infsites(std::vector<double> &output, double mu, std::map<double, bool> &lookup, int L, int m_i=1)\n",
    "{\n",
    "    int nmut = 0;\n",
    "    int accum_mutations = 0;\n",
    "    for (int j=0; j<m_i; j++) {\n",
    "        stats_random_poisson(accum_mutations, mu);\n",
    "        nmut +=accum_mutations;\n",
    "    }\n",
    "        \n",
    "    stats_random_poisson(nmut, nmut);\n",
    "    \n",
    "    \n",
    "    if (nmut == 0) {\n",
    "        return;\n",
    "    }\n",
    "    int i=0;\n",
    "    while (i < nmut) {\n",
    "        double pos{0};\n",
    "        stats_random_real(pos, 0, L);\n",
    "        while (lookup.find(pos) != lookup.end()) {\n",
    "            stats_random_real(pos, 0, L);\n",
    "        }\n",
    "        output.emplace_back(pos);\n",
    "        lookup[pos] = true;\n",
    "        i++;\n",
    "    }\n",
    "}"
   ]
  },
  {
   "cell_type": "code",
   "execution_count": 98,
   "id": "becoming-denial",
   "metadata": {},
   "outputs": [
    {
     "data": {
      "text/plain": [
       "{ 0.77882731, 0.92235390, 0.59643319, 0.40956742, 0.60964130, 0.081711360, 0.46248018, 0.94633395, 0.41281448, 0.56683190, 0.55858652, 0.62720455, 0.33502758, 0.95686271, 0.055473618, 0.092962646, 0.073611306, 0.88690895, 0.34269657, 0.12210072, 0.48860681, 0.37370100, 0.10592234, 0.21734814, 0.73402580, 0.72041474, 0.88085031, 0.31122915, 0.86656005, 0.98875304, 0.13743746, 0.30672839, 0.071303190, 0.50700497, 0.39347895, 0.16988041, 0.43123679, 0.46884502, 0.20129902, 0.22602577, 0.38508672, 0.24449199, 0.031711786, 0.40691801, 0.076453842, 0.75318784, 0.076315402, 0.64552315, 0.82410777, 0.69741019, 0.30020888, 0.066365801, 0.99705704, 0.87893068, 0.18525432, 0.24688846, 0.60299270, 0.37623994, 0.98947763, 0.89812934, 0.98872698, 0.042954190, 0.94305211, 0.73406762, 0.60986810, 0.40412682, 0.086777401, 0.14528748, 0.44022829, 0.34960561, 0.37396107, 0.15898881, 0.95209844, 0.77979247, 0.010105798, 0.35299855, 0.19655446, 0.35941530, 0.21781259, 0.61316242, 0.52448329, 0.071800118, 0.34714454, 0.29823815, 0.10664799, 0.98742013, 0.69169026, 0.50646134, 0.41583745, 0.15738868, 0.99571410, 0.44292276, 0.88140411, 0.68505210, 0.70215365, 0.80446903, 0.54688622, 0.90864791, 0.42393074, 0.16820147, 0.0034886955, 0.17224852, 0.49644933, 0.35431005, 0.61965026, 0.86645963, 0.053593819, 0.042430856, 0.46363946, 0.0025553100, 0.67646126, 0.51612414, 0.21326179, 0.89687861, 0.80184214, 0.23221129, 0.29758398, 0.55301637, 0.88133471, 0.24456027, 0.69979063 }"
      ]
     },
     "execution_count": 98,
     "metadata": {},
     "output_type": "execute_result"
    }
   ],
   "source": [
    "std::vector<double> out;\n",
    "std::map<double, bool> l;\n",
    "s3_infsites(out, 1.0, l, 1, 100);\n",
    "out"
   ]
  },
  {
   "cell_type": "code",
   "execution_count": null,
   "id": "worthy-celtic",
   "metadata": {},
   "outputs": [],
   "source": []
  },
  {
   "cell_type": "code",
   "execution_count": null,
   "id": "previous-diary",
   "metadata": {},
   "outputs": [],
   "source": []
  },
  {
   "cell_type": "code",
   "execution_count": 99,
   "id": "exotic-skill",
   "metadata": {},
   "outputs": [
    {
     "data": {
      "text/plain": [
       "{ 9.7290391, 3.7415750, 1.3135355, 6.5768366, 9.7085655, 7.8311087, 9.6004431, 4.5446931 }"
      ]
     },
     "execution_count": 99,
     "metadata": {},
     "output_type": "execute_result"
    }
   ],
   "source": [
    "std::vector<double> output;\n",
    "std::map<double, bool> lookup;\n",
    "s3_infsites(output, 2, lookup, 10);\n",
    "output"
   ]
  },
  {
   "cell_type": "code",
   "execution_count": 100,
   "id": "orange-mistress",
   "metadata": {},
   "outputs": [],
   "source": [
    "void s3_fsites(std::vector<double> &output, double mu, double position, std::map<double, bool> &lookup)\n",
    "{\n",
    "    int nmut;\n",
    "    stats_random_poisson(nmut, mu);\n",
    "    if (nmut == 0) {\n",
    "        return;\n",
    "    }\n",
    "    int i=0;\n",
    "    while (i < nmut) {\n",
    "        double pos{0};\n",
    "        stats_random_real(pos, 0, 1);\n",
    "        pos += position;\n",
    "        while (lookup.find(pos) != lookup.end()) {\n",
    "            stats_random_real(pos, 0, 1);\n",
    "            pos += position;\n",
    "        }\n",
    "        output.emplace_back(pos);\n",
    "        lookup[pos] = true;\n",
    "        i++;\n",
    "    }\n",
    "}"
   ]
  },
  {
   "cell_type": "code",
   "execution_count": 101,
   "id": "thermal-oxford",
   "metadata": {},
   "outputs": [
    {
     "data": {
      "text/plain": [
       "{ 10.375002, 10.600816 }"
      ]
     },
     "execution_count": 101,
     "metadata": {},
     "output_type": "execute_result"
    }
   ],
   "source": [
    "std::vector<double> output;\n",
    "std::map<double, bool> lookup;\n",
    "s3_fsites(output, 2, 10, lookup);\n",
    "output"
   ]
  },
  {
   "cell_type": "code",
   "execution_count": 102,
   "id": "numeric-investigation",
   "metadata": {},
   "outputs": [],
   "source": [
    "#include <iostream>\n",
    "#include <vector>\n",
    "#include <utility>\n",
    "#include <algorithm>"
   ]
  },
  {
   "cell_type": "code",
   "execution_count": 103,
   "id": "sweet-starter",
   "metadata": {},
   "outputs": [],
   "source": [
    "template<typename T>\n",
    "std::vector<T> MultiplyVec(std::vector<T> v, int n)\n",
    "{\n",
    "    std::vector<T> rv;\n",
    "    rv.reserve(n * v.size());\n",
    "    for (int i=0; i<n; i++){\n",
    "        for (auto e : v){ rv.emplace_back(e); }\n",
    "    }\n",
    "    return rv;\n",
    "} "
   ]
  },
  {
   "cell_type": "code",
   "execution_count": 104,
   "id": "blank-detector",
   "metadata": {},
   "outputs": [],
   "source": [
    "template<typename T>\n",
    "std::vector<T> get_keys(const std::map<T, std::vector<tsk_id_t>>& map)\n",
    "{\n",
    "    std::vector<T> keys;\n",
    "    keys.reserve(map.size());\n",
    "    for (const auto& it : map)\n",
    "        keys.push_back(it.first);\n",
    "    return keys;\n",
    "}"
   ]
  },
  {
   "cell_type": "code",
   "execution_count": 105,
   "id": "bronze-clerk",
   "metadata": {},
   "outputs": [],
   "source": [
    "struct recombination_event {\n",
    "    double left;\n",
    "    double right;\n",
    "    tsk_id_t parent;\n",
    "    tsk_id_t child;\n",
    "};"
   ]
  },
  {
   "cell_type": "code",
   "execution_count": 106,
   "id": "latest-mainland",
   "metadata": {},
   "outputs": [],
   "source": [
    "recombination_event re = {1,2,3,4};"
   ]
  },
  {
   "cell_type": "code",
   "execution_count": 107,
   "id": "basic-mentor",
   "metadata": {},
   "outputs": [],
   "source": [
    "void s3_recombination_events(std::vector<recombination_event> &recombination_events, double r,\n",
    "                       std::pair<tsk_id_t, tsk_id_t> parent_idxs, tsk_id_t next_offspring_id, double L)\n",
    "{\n",
    "    int nbreaks;\n",
    "    stats_random_poisson(nbreaks, r);\n",
    "\n",
    "    if (nbreaks == 0) {\n",
    "                \n",
    "        recombination_event re = {0, L, parent_idxs.first, next_offspring_id};\n",
    "        recombination_events.emplace_back(re);\n",
    "        \n",
    "        \n",
    "    } else {\n",
    "        std::vector<double> b;\n",
    "        b.reserve(nbreaks);\n",
    "        int i{0};\n",
    "        while (i < nbreaks){\n",
    "            double p;\n",
    "            stats_random_real(p, 0, L);\n",
    "            b.emplace_back(p);\n",
    "            i++;\n",
    "        }\n",
    "        std::sort(b.begin(), b.end());\n",
    "        if (b.back() != L) { b.emplace_back(L); }\n",
    "        if (*b.begin() != 0.0) { \n",
    "            b.insert(b.begin(), 0.0);\n",
    "        } else {\n",
    "            int tmp_parent_idx = parent_idxs.first;\n",
    "            parent_idxs.first = parent_idxs.second;\n",
    "            parent_idxs.second = tmp_parent_idx;\n",
    "        }\n",
    "        std::vector<int> p_idxs{parent_idxs.first, parent_idxs.second};\n",
    "        std::vector<int> pgams = MultiplyVec(p_idxs, b.size() / 2);\n",
    "        for (int i=0; i<b.size()-1; i++) {\n",
    "            recombination_event re = {b[i], b[i+1], pgams[i], next_offspring_id};\n",
    "            recombination_events.emplace_back(re);\n",
    "            //std::cout <<  b[i] << \" \" << b[i+1] << \" \" <<  pgams[i] << std::endl;\n",
    "        }  \n",
    "    }\n",
    "}"
   ]
  },
  {
   "cell_type": "code",
   "execution_count": 108,
   "id": "dutch-alarm",
   "metadata": {},
   "outputs": [],
   "source": [
    "//std::vector<recombination_event> recombination_events;\n",
    "//s3_recombination_events(recombination_events, 2, std::pair<tsk_id_t, tsk_id_t>{3,4}, 7,10)"
   ]
  },
  {
   "cell_type": "code",
   "execution_count": null,
   "id": "tough-equality",
   "metadata": {},
   "outputs": [],
   "source": []
  },
  {
   "cell_type": "code",
   "execution_count": 109,
   "id": "incident-camel",
   "metadata": {},
   "outputs": [],
   "source": [
    "tsk_id_t s3_gamete_position_recombination(double position, std::vector<recombination_event> &recombination_events)\n",
    "{\n",
    "    for (int i=0; i<recombination_events.size(); i++) {\n",
    "        if (position >= recombination_events[i].left && position <= recombination_events[i].right) {\n",
    "            return recombination_events[i].parent;\n",
    "        }\n",
    "    }\n",
    "    return -9;\n",
    "}"
   ]
  },
  {
   "cell_type": "code",
   "execution_count": 110,
   "id": "demanding-clearance",
   "metadata": {},
   "outputs": [],
   "source": [
    "//3_gamete_position_recombination(9.8, recombination_events)"
   ]
  },
  {
   "cell_type": "code",
   "execution_count": 111,
   "id": "forbidden-career",
   "metadata": {},
   "outputs": [],
   "source": [
    "struct MutationMetaData {\n",
    "    tsk_id_t origin;\n",
    "    double position;\n",
    "}"
   ]
  },
  {
   "cell_type": "code",
   "execution_count": 112,
   "id": "indie-wireless",
   "metadata": {},
   "outputs": [
    {
     "data": {
      "text/plain": [
       "@0x55b71b9b90b0"
      ]
     },
     "execution_count": 112,
     "metadata": {},
     "output_type": "execute_result"
    }
   ],
   "source": [
    "std::pair<tsk_id_t, MutationMetaData>{}"
   ]
  },
  {
   "cell_type": "markdown",
   "id": "noble-timer",
   "metadata": {},
   "source": [
    "// table collection\n",
    "int ret;\n",
    "tsk_table_collection_t tables;\n",
    "ret = tsk_table_collection_init(&tables, 0);\n",
    "for (int i=0; i<5; i++) {\n",
    "    tsk_node_table_add_row(&tables.nodes, TSK_NODE_IS_SAMPLE,i, TSK_NULL, TSK_NULL, NULL, 0);\n",
    "}  "
   ]
  },
  {
   "cell_type": "markdown",
   "id": "distinguished-romania",
   "metadata": {},
   "source": [
    "int sample_generation = 2;\n",
    "std::vector<tsk_id_t> samples;\n",
    "for (int i=0; i<tables.nodes.num_rows; i++) {\n",
    "    if ((int) tables.nodes.time[i] < sample_generation) {\n",
    "        samples.emplace_back(i);\n",
    "    }\n",
    "}\n",
    "samples"
   ]
  },
  {
   "cell_type": "code",
   "execution_count": 113,
   "id": "center-martial",
   "metadata": {},
   "outputs": [
    {
     "data": {
      "text/plain": [
       "{}"
      ]
     },
     "execution_count": 113,
     "metadata": {},
     "output_type": "execute_result"
    }
   ],
   "source": [
    "std::vector<std::pair<tsk_id_t, MutationMetaData>>{}"
   ]
  },
  {
   "cell_type": "code",
   "execution_count": 114,
   "id": "important-interpretation",
   "metadata": {},
   "outputs": [],
   "source": [
    "void s3_simplify(tsk_table_collection_t &tables, std::vector<std::pair<tsk_id_t, MutationMetaData>> temp_mutations,\n",
    "              tsk_id_t sample_generation)\n",
    "{\n",
    "    std::vector<tsk_id_t> samples;\n",
    "    for (int i=0; i<tables.nodes.num_rows; i++) {\n",
    "        if ((int) tables.nodes.time[i] < sample_generation) {\n",
    "            samples.emplace_back(i);\n",
    "        }\n",
    "    }\n",
    "    for (int i=0; i<temp_mutations.size(); i++) {\n",
    "        tsk_site_table_add_row(&tables.sites, temp_mutations[i].second.position, \"0\", 1, NULL, 0);\n",
    "        \n",
    "        tsk_mutation_table_add_row(&tables.mutations, tables.sites.num_rows-1,\n",
    "                                   temp_mutations[i].first, TSK_NULL, TSK_UNKNOWN_TIME , \"1\", 1, NULL, 0);\n",
    "    }\n",
    "    \n",
    "    \n",
    "    tsk_id_t* samples_array = &samples[0];\n",
    "    ret = tsk_table_collection_sort(&tables, NULL, 0); \n",
    "    //std::cout << \"ret sort: \" << std::endl;\n",
    "    check_tsk_error(ret);\n",
    "    ret = tsk_table_collection_simplify(&tables, samples_array, samples.size(), TSK_FILTER_SITES, NULL); \n",
    "    //std::cout << \"ret simp: \" << std::endl;\n",
    "    check_tsk_error(ret);\n",
    "\n",
    "}"
   ]
  },
  {
   "cell_type": "code",
   "execution_count": 115,
   "id": "social-australian",
   "metadata": {},
   "outputs": [],
   "source": [
    "//s3_simplify(tables, std::vector<std::pair<tsk_id_t, MutationMetaData>>{}, 1)"
   ]
  },
  {
   "cell_type": "code",
   "execution_count": null,
   "id": "female-delaware",
   "metadata": {},
   "outputs": [],
   "source": []
  },
  {
   "cell_type": "code",
   "execution_count": null,
   "id": "italic-flexibility",
   "metadata": {},
   "outputs": [],
   "source": []
  },
  {
   "cell_type": "markdown",
   "id": "filled-photograph",
   "metadata": {},
   "source": [
    "std::vector<double> get_keys(const std::map<double, std::vector<tsk_id_t>>& map)\n",
    "{\n",
    "    std::vector<double> keys;\n",
    "    keys.reserve(map.size());\n",
    "    for (const auto& it : map)\n",
    "        keys.push_back(it.first);\n",
    "    return keys;\n",
    "}"
   ]
  },
  {
   "cell_type": "code",
   "execution_count": 116,
   "id": "lovely-appearance",
   "metadata": {},
   "outputs": [],
   "source": [
    "template<typename T>\n",
    "std::vector<T> get_keys(const std::map<T, std::vector<tsk_id_t>>& map)\n",
    "{\n",
    "    std::vector<T> keys;\n",
    "    keys.reserve(map.size());\n",
    "    for (const auto& it : map)\n",
    "        keys.push_back(it.first);\n",
    "    return keys;\n",
    "}"
   ]
  },
  {
   "cell_type": "code",
   "execution_count": 117,
   "id": "complicated-evanescence",
   "metadata": {},
   "outputs": [],
   "source": [
    "typedef std::vector<std::vector<tsk_id_t>> genotype_matrix;"
   ]
  },
  {
   "cell_type": "code",
   "execution_count": 118,
   "id": "activated-afternoon",
   "metadata": {},
   "outputs": [],
   "source": [
    "template<typename T>\n",
    "std::vector<T> get_keys(const std::map<T, genotype_matrix>& map)\n",
    "{\n",
    "    std::vector<T> keys;\n",
    "    keys.reserve(map.size());\n",
    "    for (const auto& it : map)\n",
    "        keys.push_back(it.first);\n",
    "    return keys;\n",
    "}"
   ]
  },
  {
   "cell_type": "code",
   "execution_count": 119,
   "id": "portuguese-ancient",
   "metadata": {},
   "outputs": [],
   "source": [
    "template<typename T>\n",
    "std::vector<T> get_keys(const std::map<T, bool>& map)\n",
    "{\n",
    "    std::vector<T> keys;\n",
    "    keys.reserve(map.size());\n",
    "    for (const auto& it : map)\n",
    "        keys.push_back(it.first);\n",
    "    return keys;\n",
    "}"
   ]
  },
  {
   "cell_type": "code",
   "execution_count": 120,
   "id": "universal-patrol",
   "metadata": {},
   "outputs": [],
   "source": [
    "void print_double_vector(std::vector<double> v) {\n",
    "    for (int i=0; i<v.size(); i++) {\n",
    "        std::cout << v[i] << \" \";\n",
    "    }\n",
    "    std::cout << std::endl;\n",
    "}"
   ]
  },
  {
   "cell_type": "code",
   "execution_count": 121,
   "id": "conscious-college",
   "metadata": {},
   "outputs": [],
   "source": [
    "void print_int_vector(std::vector<int> v) {\n",
    "    for (int i=0; i<v.size(); i++) {\n",
    "        std::cout << v[i] << \" \";\n",
    "    }\n",
    "    std::cout << std::endl;\n",
    "}"
   ]
  },
  {
   "cell_type": "code",
   "execution_count": 122,
   "id": "based-wallace",
   "metadata": {},
   "outputs": [],
   "source": [
    "void print_int_vector2(std::vector<int> v) {\n",
    "    for (int i=0; i<v.size(); i++) {\n",
    "        std::cout << v[i] << \"\";\n",
    "    }\n",
    "    std::cout << std::endl;\n",
    "}"
   ]
  },
  {
   "cell_type": "code",
   "execution_count": 123,
   "id": "injured-south",
   "metadata": {},
   "outputs": [],
   "source": [
    "void print_double_vector_vector(std::vector<std::vector<double>> v) {\n",
    "    for (int i=0; i<v.size(); i++) {\n",
    "        print_double_vector(v[i]);\n",
    "    }\n",
    "    std::cout << std::endl;\n",
    "}"
   ]
  },
  {
   "cell_type": "code",
   "execution_count": 124,
   "id": "union-novelty",
   "metadata": {},
   "outputs": [],
   "source": [
    "void s3_merge_selection_genotypes(std::map<int, genotype_matrix> &selection_genotypes_output,\n",
    "    std::map<double, genotype_matrix> selection_genotypes)\n",
    "{\n",
    "    std::vector<double> keys = get_keys(selection_genotypes);\n",
    "    double current_key = keys[0];\n",
    "    genotype_matrix current_genotype = selection_genotypes[current_key];\n",
    "    std::vector<genotype_matrix> merged_genotypes;\n",
    "    \n",
    "    for (int i=1; i<keys.size(); i++) {\n",
    "        if (((int) current_key) == ((int) keys[i])) {\n",
    "            \n",
    "            for (int k=0; k<selection_genotypes[keys[i]].size(); k++){\n",
    "                for (int j=0; j<selection_genotypes[keys[i]][k].size(); j++) {\n",
    "                    if (selection_genotypes[keys[i]][k][j] > 0 || current_genotype[k][j] > 0) {\n",
    "                        current_genotype[k][j] = 1;\n",
    "                    }\n",
    "                }\n",
    "            }\n",
    "            \n",
    "        } else {\n",
    "            merged_genotypes.emplace_back(current_genotype);\n",
    "            current_key = keys[i];\n",
    "            current_genotype = selection_genotypes[keys[i]];\n",
    "        }\n",
    "    }\n",
    "    \n",
    "    std::vector<int> int_keys(keys.begin(), keys.end());\n",
    "    int_keys.erase(std::unique(int_keys.begin(), int_keys.end()), int_keys.end());\n",
    "\n",
    "    merged_genotypes.emplace_back(current_genotype);\n",
    "    for (int i=0; i<int_keys.size(); i++) {\n",
    "        selection_genotypes_output[int_keys[i]] = merged_genotypes[i];\n",
    "    }\n",
    "}"
   ]
  },
  {
   "cell_type": "code",
   "execution_count": 125,
   "id": "wicked-completion",
   "metadata": {},
   "outputs": [],
   "source": [
    "//s3_merge_selection_genotypes(selection_genotypes_output, selection_genotypes)"
   ]
  },
  {
   "cell_type": "code",
   "execution_count": 126,
   "id": "productive-greece",
   "metadata": {},
   "outputs": [],
   "source": [
    "//selection_genotypes_output"
   ]
  },
  {
   "cell_type": "code",
   "execution_count": 127,
   "id": "soviet-queue",
   "metadata": {},
   "outputs": [],
   "source": [
    "void s3_weights(std::vector<double> &weights, std::vector<tsk_id_t> selection_genotype, \n",
    "                double dominance_coefficient, double selection_coefficient)\n",
    "{\n",
    "    for (int i=0; i<selection_genotype.size(); i+=2) {\n",
    "        tsk_id_t genotype_A = selection_genotype[i];\n",
    "        tsk_id_t genotype_a = selection_genotype[i+1];\n",
    "        if (genotype_A == 0 && genotype_a == 0) {\n",
    "            weights.emplace_back(1);\n",
    "        } else if ((genotype_A == 1 && genotype_a == 0) || (genotype_A == 0 && genotype_a == 1)) {\n",
    "            weights.emplace_back(1.0 + (2.0 * dominance_coefficient * selection_coefficient));\n",
    "        } else {\n",
    "            weights.emplace_back(1.0 + (2.0 * selection_coefficient));\n",
    "        }\n",
    "    }\n",
    "}"
   ]
  },
  {
   "cell_type": "code",
   "execution_count": 128,
   "id": "emerging-accent",
   "metadata": {},
   "outputs": [],
   "source": [
    "#include <new>"
   ]
  },
  {
   "cell_type": "code",
   "execution_count": 129,
   "id": "noticed-scholar",
   "metadata": {},
   "outputs": [
    {
     "data": {
      "text/plain": [
       "{ { 0, 0, 0, 0, 0, 0, 0, 0, 0, 0 }, { 0, 0, 0, 0, 0, 0, 0, 0, 0, 0 } }"
      ]
     },
     "execution_count": 129,
     "metadata": {},
     "output_type": "execute_result"
    }
   ],
   "source": [
    "genotype_matrix(2, std::vector(2*5, 0))"
   ]
  },
  {
   "cell_type": "code",
   "execution_count": 130,
   "id": "royal-customer",
   "metadata": {},
   "outputs": [
    {
     "data": {
      "text/plain": [
       "{ { 0, 0, 0, 0, 0, 0, 0, 0, 0, 0 } }"
      ]
     },
     "execution_count": 130,
     "metadata": {},
     "output_type": "execute_result"
    }
   ],
   "source": [
    "genotype_matrix(1, std::vector(2*5, 0))"
   ]
  },
  {
   "cell_type": "code",
   "execution_count": null,
   "id": "engaging-senator",
   "metadata": {},
   "outputs": [],
   "source": []
  },
  {
   "cell_type": "code",
   "execution_count": 131,
   "id": "regular-thailand",
   "metadata": {},
   "outputs": [],
   "source": [
    "template<typename T>\n",
    "void print_genotypes(std::map<T, genotype_matrix> g)\n",
    "{\n",
    "    std::vector<T> keys = get_keys(g);\n",
    "    for (auto k : keys) {\n",
    "        std::cout << k << std::endl;\n",
    "        for (int i=0; g[k].size(); i++) {\n",
    "            print_int_vector(g[k][i]);\n",
    "        }\n",
    "    }\n",
    "}"
   ]
  },
  {
   "cell_type": "code",
   "execution_count": null,
   "id": "lightweight-allowance",
   "metadata": {},
   "outputs": [],
   "source": []
  },
  {
   "cell_type": "code",
   "execution_count": 132,
   "id": "traditional-anaheim",
   "metadata": {},
   "outputs": [],
   "source": [
    "void dormancy(tsk_table_collection_t &tables,\n",
    "              recorder_t &recorder,\n",
    "              tsk_id_t num_generations,\n",
    "              tsk_id_t N, \n",
    "              tsk_id_t m, \n",
    "              double b,\n",
    "              tsk_id_t gc,\n",
    "              double mu,\n",
    "              double r,\n",
    "              double L,\n",
    "              std::vector<double> mu_selection_rates,\n",
    "              std::vector<double> selection_coefficients,\n",
    "              std::vector<double> dominance_coefficients,\n",
    "              std::vector<double> selection_positions,\n",
    "              tsk_id_t selection_activation_generation = 0,\n",
    "              bool stop_after_mrca = false,\n",
    "              bool mutations_in_seeds = true,\n",
    "              bool debug_print = false\n",
    "              \n",
    "             ) {\n",
    "    \n",
    "    \n",
    "    \n",
    "    \n",
    "    std::map<double, double> position_coefficient_mapping;\n",
    "    std::map<double, double> position_dominance_mapping;\n",
    "    for (int i=0; i<selection_positions.size(); i++) {\n",
    "        position_coefficient_mapping[selection_positions[i]] = selection_coefficients[i];\n",
    "        position_dominance_mapping[selection_positions[i]] = dominance_coefficients[i];\n",
    "    }\n",
    "    \n",
    "    //tsk_node_table_t nodes = tables.nodes;\n",
    "    //tsk_edge_table_t edges = tables.edges;\n",
    "    //tsk_site_table_t sites = tables.sites;\n",
    "    //tsk_mutation_table_t mutations = tables.mutations;\n",
    "    \n",
    "    \n",
    "    mu = 4 * N * mu * L;\n",
    "    r = 4 * N * r * L;\n",
    "    for (int i=0; i<mu_selection_rates.size(); i++) {\n",
    "        mu_selection_rates[i] = 4 * N * mu_selection_rates[i];\n",
    "    }\n",
    "    \n",
    "    \n",
    "    \n",
    "    std::map<double, genotype_matrix> selection_genotypes;\n",
    "    std::map<double, genotype_matrix> next_selection_genotypes;\n",
    "\n",
    "    std::map<double, bool> lookup;\n",
    "    std::map<double, bool> lookup_selection;\n",
    "    \n",
    "    std::vector<std::pair<tsk_id_t, MutationMetaData>> temp_mutations;\n",
    "    std::map<double, bool> mutation_adding_generation;\n",
    "    \n",
    "    std::vector<double> mpos_selection;\n",
    "    std::vector<double> mpos;\n",
    "    \n",
    "    std::vector<tsk_id_t> parents;\n",
    "    \n",
    "    int gen = 0;\n",
    "    int selection_generation = 0;\n",
    "    \n",
    "    for (int i=0; i<m; i++) {\n",
    "        for (int j=0; j<2*N; j++) {\n",
    "            tsk_node_table_add_row(&tables.nodes, TSK_NODE_IS_SAMPLE, (double) gen, TSK_NULL, TSK_NULL, NULL, 0);\n",
    "        }\n",
    "        gen++;\n",
    "    }\n",
    "    \n",
    "    s3_reverse_time(tables.nodes, 0);    \n",
    "    s3_simplify(tables, std::vector<std::pair<tsk_id_t, MutationMetaData>>{}, m);\n",
    "    \n",
    "    while (num_generations > 0) {\n",
    "\n",
    "        tsk_id_t next_offspring_index = tables.nodes.num_rows;\n",
    "        \n",
    "        tsk_id_t num_non_sample{0};\n",
    "        for (int i=0; i<tables.nodes.num_rows; i++) {\n",
    "            if (tables.nodes.flags[i] != 1) {\n",
    "                num_non_sample++;\n",
    "            }\n",
    "        }\n",
    "        \n",
    "        tsk_id_t first_parental_index = next_offspring_index - (2*N) - num_non_sample;\n",
    "        \n",
    "        for (int c=0; c<gc; c++) {\n",
    "            \n",
    "            std::vector<double> dorm_weights;\n",
    "            s3_dormancy_weights(dorm_weights, b, m);\n",
    "\n",
    "            std::vector<tsk_id_t> dormancy_generations;\n",
    "            s3_dormancy_generation(dormancy_generations, dorm_weights, 2*N);\n",
    "            \n",
    "            std::vector<double> keys = get_keys(selection_genotypes);\n",
    "            if (selection_activation_generation && gen > selection_activation_generation && keys.size() != 0) {\n",
    "                \n",
    "                // probably should be a function\n",
    "                std::map<int, genotype_matrix> selection_genotypes_output;\n",
    "                s3_merge_selection_genotypes(selection_genotypes_output, selection_genotypes);\n",
    "                std::vector<int> int_keys = get_keys(selection_genotypes_output);\n",
    "                \n",
    "                \n",
    "                // update recorder\n",
    "                std::vector<double> keys = get_keys(selection_genotypes);\n",
    "                for (auto k : keys) {\n",
    "                    genotype_matrix gm = selection_genotypes[k];\n",
    "                    std::vector<tsk_id_t> genotype_current_gen = gm[m-1];\n",
    "                    tsk_id_t genotype_sum = std::accumulate(std::begin(genotype_current_gen), std::end(genotype_current_gen), 0);\n",
    "                    if (genotype_sum != 0) {\n",
    "                        recorder.insert(k, selection_generation, genotype_sum, position_coefficient_mapping[k], position_dominance_mapping[k], keys.size());\n",
    "                    }\n",
    "                }\n",
    "                \n",
    "                \n",
    "                \n",
    "                for (auto k : int_keys) {\n",
    "                    genotype_matrix gm = selection_genotypes_output[k];\n",
    "                    std::vector<tsk_id_t> genotype_current_gen = gm[m-1];\n",
    "                    \n",
    "                    if (debug_print) {std::cout << k << \" : \";}\n",
    "                    if (debug_print) {print_int_vector2(genotype_current_gen);}\n",
    "                    \n",
    "                    tsk_id_t genotype_sum = std::accumulate(std::begin(genotype_current_gen), std::end(genotype_current_gen), 0);\n",
    "                    if (genotype_sum == 2*N) {\n",
    "                        \n",
    "                        s3_add_time(tables.nodes, c, 0, tables.nodes.num_rows-2*N*(c));\n",
    "                        s3_reverse_time(tables.nodes, tables.nodes.num_rows -2*N*(c), tables.nodes.num_rows);  \n",
    "                        \n",
    "                        s3_simplify(tables,temp_mutations, 1);\n",
    "                        \n",
    "                        return;\n",
    "                    }\n",
    "                }\n",
    "                \n",
    "                \n",
    "                \n",
    "                \n",
    "                \n",
    "                \n",
    "                \n",
    "                \n",
    "                parents.clear();\n",
    "                \n",
    "                for(auto d : dormancy_generations) {\n",
    "                    \n",
    "                    std::vector<std::vector<double>> total_weights{};\n",
    "                    for (auto k : int_keys) {\n",
    "                            std::vector<double> weights;\n",
    "                            s3_weights(weights, selection_genotypes_output[k][m-1-d],\n",
    "                                      position_dominance_mapping[k],\n",
    "                                      position_coefficient_mapping[k]);                      \n",
    "                            total_weights.emplace_back(weights);   \n",
    "                    }\n",
    "                        \n",
    "                    std::vector<double> multiplied_weights;\n",
    "                    for (int j=0; j<total_weights[0].size(); j++) {\n",
    "                        double weight = 1;\n",
    "                        for (int i=0; i<total_weights.size(); i++) {\n",
    "                            weight *= total_weights[i][j];\n",
    "                        }\n",
    "                        multiplied_weights.emplace_back(weight);\n",
    "                    }\n",
    "                    \n",
    "                    \n",
    "                    double sum = std::accumulate(std::begin(multiplied_weights), std::end(multiplied_weights), 0.0);\n",
    "                    for (int i=0; i<multiplied_weights.size(); i++) {\n",
    "                        multiplied_weights[i] = (double) multiplied_weights[i] / sum;\n",
    "                        \n",
    "                    }\n",
    "                    std::vector<tsk_id_t> parent;\n",
    "                    stats_random_discrete(parent, multiplied_weights, 1);\n",
    "                    parents.emplace_back(parent[0]);\n",
    "                }\n",
    "                    \n",
    "                \n",
    "\n",
    "            } else {\n",
    "                parents.clear();\n",
    "                stats_random_discrete(parents, std::vector<double>(N, 1), 2*N);\n",
    "            }\n",
    "            \n",
    "            tsk_id_t i_genotype = 0;\n",
    "            for (int p=0; p<parents.size(); p+=2) {\n",
    "                \n",
    "                \n",
    "                \n",
    "                tsk_id_t parent1 = parents[p];\n",
    "                tsk_id_t parent2 = parents[p+1];\n",
    "                \n",
    "                tsk_id_t dormancy_updated_first_parental_index_1 = first_parental_index - (2*N*dormancy_generations[parent1]); \n",
    "                tsk_id_t dormancy_updated_first_parental_index_2 = first_parental_index - (2*N*dormancy_generations[parent2]); \n",
    "                \n",
    "                if (c > 0 && (2*N*dormancy_generations[parent1]) >= c*2*N) {\n",
    "                       dormancy_updated_first_parental_index_1 -= num_non_sample;\n",
    "                }\n",
    "                \n",
    "                if (c > 0 && (2*N*dormancy_generations[parent2]) >= c*2*N) {\n",
    "                       dormancy_updated_first_parental_index_2 -= num_non_sample;\n",
    "                }\n",
    "\n",
    "                tsk_id_t p1g1 = dormancy_updated_first_parental_index_1 + 2*parent1;\n",
    "                tsk_id_t p1g2 = p1g1+1;\n",
    "                tsk_id_t p2g1 = dormancy_updated_first_parental_index_2 + 2*parent2;\n",
    "                tsk_id_t p2g2 = p2g1+1;\n",
    "                    \n",
    "                double mendel1 = 0;\n",
    "                double mendel2 = 0;\n",
    "                stats_random_real(mendel1, 0, 1);\n",
    "                stats_random_real(mendel2, 0, 1);\n",
    "                \n",
    "                if (mendel1 < 0.5) {\n",
    "                    tsk_id_t tmp = p1g1;\n",
    "                    p1g1 = p1g2;\n",
    "                    p1g2 = tmp;\n",
    "                }\n",
    " \n",
    "                if (mendel2 < 0.5) {\n",
    "                    tsk_id_t tmp = p2g1;\n",
    "                    p2g1 = p2g2;\n",
    "                    p2g2 = tmp;\n",
    "                }\n",
    "                \n",
    "                \n",
    "                tsk_node_table_add_row(&tables.nodes, TSK_NODE_IS_SAMPLE, gen, TSK_NULL, TSK_NULL, NULL, 0);\n",
    "                tsk_node_table_add_row(&tables.nodes, TSK_NODE_IS_SAMPLE, gen, TSK_NULL, TSK_NULL, NULL, 0);\n",
    "                    \n",
    "                std::vector<recombination_event> recombination_events;\n",
    "                s3_recombination_events(recombination_events, r, std::pair<tsk_id_t, tsk_id_t>{p1g1,p1g2},next_offspring_index, L);\n",
    "                \n",
    "                if (selection_activation_generation && gen > selection_activation_generation) {     \n",
    "                    \n",
    "                    \n",
    "                    std::vector<double> lookup_selection_keys = get_keys(lookup_selection);\n",
    "                    for (auto k : lookup_selection_keys) {\n",
    "                        if (!mutation_adding_generation[k]) {\n",
    "                            tsk_id_t genotype = selection_genotypes[k][m-1-dormancy_generations[parent1]][s3_gamete_position_recombination(k, recombination_events) - dormancy_updated_first_parental_index_1];\n",
    "                            //std::cout << \"genotype: \" << genotype << std::endl;\n",
    "                            next_selection_genotypes[k][0][i_genotype] = genotype;\n",
    "                        }\n",
    "                    }\n",
    "                    for (int i=0; i<mu_selection_rates.size(); i++) {\n",
    "                        mpos_selection.clear();\n",
    "                        s3_fsites(mpos_selection, mu_selection_rates[i], selection_positions[i], lookup_selection);\n",
    "                        \n",
    "\n",
    "                        for (auto mi : mpos_selection) {\n",
    "                            recorder.insert(mi, selection_generation, 1, selection_coefficients[i], dominance_coefficients[i], lookup_selection.size());\n",
    "                            mutation_adding_generation[mi] = true;\n",
    "                            temp_mutations.emplace_back(std::pair<tsk_id_t, MutationMetaData>{next_offspring_index, {gen,mi}});\n",
    "                            selection_genotypes[mi] = genotype_matrix(m, std::vector(2*N, 0));\n",
    "                            next_selection_genotypes[mi] = genotype_matrix(1, std::vector(2*N, 0));\n",
    "                            next_selection_genotypes[mi][0][i_genotype] = 1;\n",
    "                        }\n",
    "                    }                    \n",
    "                }\n",
    "                \n",
    "                for (int re=0; re<recombination_events.size(); re++) {\n",
    "                    ret = tsk_edge_table_add_row(&tables.edges, recombination_events[re].left, recombination_events[re].right, recombination_events[re].parent, recombination_events[re].child, NULL, 0);\n",
    "                }\n",
    "                \n",
    "                mpos.clear();\n",
    "                if (mutations_in_seeds) {\n",
    "                     s3_infsites(mpos, mu, lookup, L, dormancy_generations[parent1]+1);\n",
    "                } else {\n",
    "                     s3_infsites(mpos, mu, lookup, L, 1);\n",
    "                }\n",
    "                for (int mi=0; mi<mpos.size(); mi++) {\n",
    "                    temp_mutations.emplace_back(std::pair<tsk_id_t, MutationMetaData>{next_offspring_index, {gen,mpos[mi]}});\n",
    "                }\n",
    "                i_genotype++;\n",
    "                next_offspring_index++;\n",
    "                \n",
    "                \n",
    "                recombination_events.clear();\n",
    "                s3_recombination_events(recombination_events, r, std::pair<tsk_id_t, tsk_id_t>{p2g1,p2g2},next_offspring_index, L);\n",
    "                if (selection_activation_generation && gen > selection_activation_generation) {\n",
    "                    std::vector<double> lookup_selection_keys = get_keys(lookup_selection);\n",
    "                    for (auto k : lookup_selection_keys) {\n",
    "                        if (!mutation_adding_generation[k]) {\n",
    "                            tsk_id_t genotype = selection_genotypes[k][m-1-dormancy_generations[parent2]][s3_gamete_position_recombination(k, recombination_events) - dormancy_updated_first_parental_index_2];\n",
    "                            //std::cout << \"genotype: \" << genotype << std::endl;\n",
    "                            next_selection_genotypes[k][0][i_genotype] = genotype;\n",
    "                        }\n",
    "                    }\n",
    "                    for (int i=0; i<mu_selection_rates.size(); i++) {\n",
    "                        mpos_selection.clear();\n",
    "                        s3_fsites(mpos_selection, mu_selection_rates[i], selection_positions[i], lookup_selection);\n",
    "                        for (auto mi : mpos_selection) {\n",
    "                            recorder.insert(mi, selection_generation, 1, selection_coefficients[i], dominance_coefficients[i], lookup_selection.size());\n",
    "                            mutation_adding_generation[mi] = true;\n",
    "                            temp_mutations.emplace_back(std::pair<tsk_id_t, MutationMetaData>{next_offspring_index, {gen,mi}});\n",
    "                            selection_genotypes[mi] = genotype_matrix(m, std::vector(2*N, 0));\n",
    "                            next_selection_genotypes[mi] = genotype_matrix(1, std::vector(2*N, 0));\n",
    "                            next_selection_genotypes[mi][0][i_genotype] = 1;\n",
    "                        }\n",
    "                    }\n",
    "                    selection_generation++;\n",
    "                }\n",
    "  \n",
    "\n",
    "                    \n",
    "                \n",
    "                for (int re=0; re<recombination_events.size(); re++) {\n",
    "                    ret = tsk_edge_table_add_row(&tables.edges, recombination_events[re].left, recombination_events[re].right, recombination_events[re].parent, recombination_events[re].child, NULL, 0);\n",
    "                }\n",
    "                \n",
    "                mpos.clear();\n",
    "                if (mutations_in_seeds) {\n",
    "                     s3_infsites(mpos, mu, lookup, L, dormancy_generations[parent2]+1);\n",
    "                } else {\n",
    "                     s3_infsites(mpos, mu, lookup, L, 1);\n",
    "                }                \n",
    "                \n",
    "                \n",
    "                for (int mi=0; mi<mpos.size(); mi++) {\n",
    "                    temp_mutations.emplace_back(std::pair<tsk_id_t, MutationMetaData>{next_offspring_index, {gen,mpos[mi]}});\n",
    "                }\n",
    "                i_genotype++;\n",
    "                next_offspring_index++;\n",
    "                \n",
    "            }\n",
    "            \n",
    "            \n",
    "            //tsk_node_table_print_state(&tables.nodes, stdout);\n",
    "            \n",
    "    \n",
    "            \n",
    "            first_parental_index = tables.nodes.num_rows - 2*N;\n",
    "            \n",
    "            std::vector<double> lookup_selection_keys = get_keys(lookup_selection);\n",
    "            if (m > 1) {\n",
    "                for (int mi=0; mi<lookup_selection_keys.size(); mi++) {\n",
    "                    for (int i=1; i<m; i++) {\n",
    "                        selection_genotypes[lookup_selection_keys[mi]][i-1] =  selection_genotypes[lookup_selection_keys[mi]][i]; \n",
    "                    }\n",
    "                }\n",
    "            }\n",
    "            \n",
    "            \n",
    "            \n",
    "            std::vector<double> lost_mutations;\n",
    "            //std::vector<double> fixed_mutations;\n",
    "            \n",
    "            for (auto k : lookup_selection_keys) {\n",
    "                //if (std::accumulate(std::begin(next_selection_genotypes[k][0]), std::end(next_selection_genotypes[k][0]),0) == 2*N) {\n",
    "                    \n",
    "                    //std::cout << \"loop: \";\n",
    "                    //print_int_vector(next_selection_genotypes[k][0]);\n",
    "                    \n",
    "                    \n",
    "                    //fixed_mutations.emplace_back(k);\n",
    "                //}\n",
    "                //else \n",
    "                if (std::accumulate(std::begin(next_selection_genotypes[k][0]), std::end(next_selection_genotypes[k][0]),0) == 0) {\n",
    "                    lost_mutations.emplace_back(k);\n",
    "                } else {\n",
    "                    selection_genotypes[k][m-1] = next_selection_genotypes[k][0];\n",
    "                    next_selection_genotypes[k] = genotype_matrix(1, std::vector(2*N, 0));\n",
    "                }\n",
    "            }\n",
    "            \n",
    "            for (int i=0; i<lost_mutations.size(); i++) {\n",
    "                lookup_selection.erase(lost_mutations[i]);\n",
    "                selection_genotypes.erase(lost_mutations[i]);\n",
    "                next_selection_genotypes.erase(lost_mutations[i]);\n",
    "            }\n",
    "            \n",
    "            /*\n",
    "            for (int i=0; i<fixed_mutations.size(); i++) {\n",
    "                \n",
    "                std::cout << \"fixed: \" << fixed_mutations[i] << std::endl;\n",
    "                print_int_vector(selection_genotypes[fixed_mutations[i]][m-1]);\n",
    "                \n",
    "                s3_add_time(tables.nodes, c+1, 0, tables.nodes.num_rows-2*N*(c+1));\n",
    "                s3_reverse_time(tables.nodes, tables.nodes.num_rows -2*N*(c+1), tables.nodes.num_rows);  \n",
    "                s3_simplify(tables,temp_mutations, 1);\n",
    "                return;\n",
    "            }\n",
    "            */\n",
    "            \n",
    "            \n",
    "            std::vector<double> mutation_adding_generation_keys = get_keys(mutation_adding_generation);\n",
    "            for (int i=0; i<mutation_adding_generation_keys.size(); i++) {\n",
    "                mutation_adding_generation[mutation_adding_generation_keys[i]] = false;\n",
    "            }\n",
    "            \n",
    "            gen++;\n",
    "             \n",
    "        }\n",
    "        \n",
    "        s3_add_time(tables.nodes, gc, 0, tables.nodes.num_rows-2*N*gc);\n",
    "        s3_reverse_time(tables.nodes, tables.nodes.num_rows-2*N*gc, tables.nodes.num_rows);  \n",
    "        s3_simplify(tables,temp_mutations, m);\n",
    "        \n",
    "        \n",
    "        \n",
    "        \n",
    "        /*\n",
    "        ret = tsk_table_collection_build_index(&tables, 0);\n",
    "        check_tsk_error(ret);\n",
    "        tsk_treeseq_t ts;\n",
    "        ret = tsk_treeseq_init(&ts, &tables, 0);\n",
    "        check_tsk_error(ret);\n",
    "        int num_mutations = tsk_treeseq_get_num_mutations(&ts);\n",
    "        int num_samples = tsk_treeseq_get_num_samples(&ts);\n",
    "        tsk_vargen_t vargen;\n",
    "        tsk_variant_t *variant;\n",
    "        tsk_vargen_init(&vargen, &ts, ts.samples, num_samples, NULL , 0);\n",
    "        int i=0;\n",
    "        while(tsk_vargen_next(&vargen, &variant) != 0) {\n",
    "\n",
    "            double position = tables.sites.position[i];\n",
    "            std::cout << i << \" \" << position << \" : \";\n",
    "            int population_abundance = 0;\n",
    "            int n = 0;\n",
    "            for (int s=0; s<2*N; s++) {\n",
    "                int state = (int) vargen.variant.genotypes.i8[s];\n",
    "                if (state == 1) {\n",
    "                    n++;\n",
    "                }\n",
    "                std::cout << state;\n",
    "            }\n",
    "            std::cout << std::endl;\n",
    "            if (n == 2*N) return;\n",
    "            i++;\n",
    "        }\n",
    "        \n",
    "        std::vector<double> lookup_selection_keys = get_keys(lookup_selection);\n",
    "        if (lookup_selection_keys.size() != 0) {\n",
    "            //print_genotypes(selection_genotypes);\n",
    "    \n",
    "            for (auto k : lookup_selection_keys) {\n",
    "                std::cout << \"k \" << k << \" : \";\n",
    "                print_int_vector2(selection_genotypes[k][m-1]);\n",
    "                std::cout << std::endl;\n",
    "            }\n",
    "        }\n",
    "        \n",
    "        */\n",
    "        \n",
    "        \n",
    "        if (stop_after_mrca && s3_mrca_found(tables)) {\n",
    "            return;\n",
    "        }\n",
    "        \n",
    "        temp_mutations.clear();\n",
    "        num_generations--;\n",
    "        //std::cout << \"num_generations: \" << num_generations << std::endl;\n",
    "            \n",
    "            \n",
    "        \n",
    "    }\n",
    "        \n",
    "\n",
    "    \n",
    "\n",
    "    s3_simplify(tables, temp_mutations, 1) ;\n",
    "    \n",
    "}"
   ]
  },
  {
   "cell_type": "code",
   "execution_count": 133,
   "id": "handled-prophet",
   "metadata": {},
   "outputs": [
    {
     "data": {
      "text/plain": [
       "5.0000000"
      ]
     },
     "execution_count": 133,
     "metadata": {},
     "output_type": "execute_result"
    }
   ],
   "source": [
    "1 * 1e-3 * 5000"
   ]
  },
  {
   "cell_type": "code",
   "execution_count": 134,
   "id": "packed-dividend",
   "metadata": {},
   "outputs": [],
   "source": [
    "tsk_id_t num_generations = 1000;\n",
    "tsk_id_t N = 50;\n",
    "tsk_id_t m = 1;\n",
    "double b =  1;\n",
    "tsk_id_t gc = 20;\n",
    "double mu = 0; //1e-3;\n",
    "double r = 0.5e-6;\n",
    "double L = 5000;\n",
    "std::vector<double> mu_selection_rates = std::vector<double>{1e-6};\n",
    "std::vector<double> selection_coefficients = std::vector<double>{1};\n",
    "std::vector<double> dominance_coefficients = std::vector<double>{1};\n",
    "std::vector<double> selection_positions = std::vector<double>{0.5};\n",
    "tsk_id_t selection_activation_generation = 500;\n",
    "bool mutation_in_seeds = false;\n",
    "bool stop_after_mrca = false;"
   ]
  },
  {
   "cell_type": "markdown",
   "id": "confidential-venue",
   "metadata": {},
   "source": [
    "// table collection\n",
    "int ret;\n",
    "tsk_table_collection_t tables;\n",
    "\n",
    "ret = tsk_table_collection_init(&tables, 0);\n",
    "tables.sequence_length = L;\n",
    "\n",
    "check_tsk_error(ret);\n",
    "//tsk_table_collection_free(&tables);\n",
    "\n",
    "\n",
    "dormancy(tables,num_generations, N, m, b, gc, mu, 0.5, L,\n",
    "         std::vector<double>{0.00001},\n",
    "         std::vector<double>{1.0},\n",
    "         std::vector<double>{0.5},\n",
    "         std::vector<double>{2500},\n",
    "         selection_activation_generation, false, mutation_in_seeds,\n",
    "         true\n",
    "         \n",
    "        );\n",
    "    \n",
    "\n",
    "tsk_table_collection_build_index(&tables, 0);\n",
    "tsk_table_collection_dump(&tables, \"test.trees\", 0);\n"
   ]
  },
  {
   "cell_type": "code",
   "execution_count": 135,
   "id": "thirty-virgin",
   "metadata": {},
   "outputs": [],
   "source": [
    "recorder_t recorder;"
   ]
  },
  {
   "cell_type": "code",
   "execution_count": 136,
   "id": "moral-sudan",
   "metadata": {},
   "outputs": [
    {
     "name": "stdout",
     "output_type": "stream",
     "text": [
      "2500 : 0 0 0 0 0 0 0 0 0 0 0 0 0 0 0 0 0 0 0 0 0 0 0 0 0 0 0 0 0 0 0 0 0 0 0 0 0 0 0 0 0 0 0 0 0 0 0 0 0 0 0 0 0 0 0 0 0 0 0 0 0 0 0 0 0 0 0 0 0 0 0 0 0 0 0 0 0 0 0 0 0 0 0 0 0 0 0 0 0 0 0 0 0 0 0 0 0 0 1 0 \n",
      "2500 : 0 0 0 0 0 0 0 0 0 0 0 0 0 0 0 0 0 0 0 0 0 0 0 0 0 0 0 0 0 0 0 0 0 0 0 0 0 0 0 0 0 0 0 0 0 0 0 0 0 0 0 0 0 0 0 0 0 0 0 0 0 0 0 0 0 0 1 0 0 0 0 0 0 0 0 0 0 0 0 1 0 0 0 0 0 0 0 0 0 0 0 0 0 0 0 0 0 0 0 0 \n",
      "2500 : 0 0 0 0 0 0 0 0 0 0 0 0 0 0 0 0 0 0 0 0 0 0 0 0 0 0 0 0 0 0 0 0 0 0 0 1 1 0 0 0 0 0 0 0 0 0 0 0 0 0 0 0 0 0 0 0 0 0 0 0 0 0 0 1 0 0 0 1 0 0 0 0 0 0 0 0 0 0 0 0 0 0 0 0 0 0 0 0 0 0 0 0 0 0 0 0 0 0 0 1 \n",
      "2500 : 0 0 0 0 1 0 0 0 0 0 0 0 0 0 0 0 0 0 0 0 0 0 0 0 0 0 0 0 0 1 0 0 0 0 0 0 0 0 0 0 0 0 1 0 1 0 0 0 1 0 0 0 0 0 0 0 0 0 0 0 0 0 0 0 0 0 0 0 1 0 1 0 1 0 0 0 0 0 0 0 0 0 0 0 0 1 0 0 0 0 0 1 0 0 0 0 0 0 0 0 \n",
      "2500 : 1 0 0 0 0 0 1 1 0 1 1 1 0 0 0 1 1 0 0 1 0 0 0 0 0 0 0 0 0 0 0 1 1 0 1 0 0 0 0 1 1 0 0 0 0 0 0 1 0 0 1 0 0 0 0 0 0 0 0 0 1 0 0 1 0 0 0 0 0 0 0 0 0 0 0 0 0 0 0 0 1 0 0 0 0 0 0 0 0 0 0 1 0 0 0 0 0 0 0 1 \n",
      "2500 : 0 0 0 0 0 0 0 0 0 0 0 0 1 1 0 0 0 0 1 1 1 0 1 0 0 0 0 0 0 1 0 1 0 1 1 1 0 1 0 1 0 1 0 1 1 1 0 0 0 0 0 0 1 0 0 1 1 0 0 0 0 0 0 0 0 1 1 0 1 0 0 0 0 0 1 1 1 1 0 0 1 1 1 1 1 0 0 0 0 1 0 0 1 0 0 1 1 1 0 0 \n",
      "2500 : 0 1 1 1 0 1 0 0 1 0 1 1 1 1 1 1 1 1 1 1 0 1 1 1 1 1 0 1 0 0 1 0 1 1 0 1 1 1 1 1 0 1 0 0 1 1 1 1 1 1 1 0 1 1 0 1 1 1 0 1 0 0 1 0 0 1 1 0 1 1 0 0 1 1 0 0 0 1 1 0 0 1 0 1 1 0 1 1 1 1 1 1 0 0 1 1 1 1 1 1 \n",
      "2500 : 1 1 1 1 1 1 0 1 1 1 1 1 1 1 1 1 1 1 1 1 1 1 0 1 1 1 1 0 1 1 1 1 1 0 1 1 1 0 1 0 1 0 1 1 1 0 1 1 1 1 1 1 1 1 1 0 1 0 1 1 1 0 1 0 1 1 1 0 1 1 1 1 1 1 1 1 1 0 1 0 1 1 1 1 1 1 0 1 1 0 1 1 1 1 1 1 1 0 1 1 \n",
      "2500 : 1 1 1 1 1 1 1 1 1 1 1 1 0 1 1 1 1 1 0 0 1 0 1 0 0 1 1 1 1 1 1 0 1 1 1 1 1 0 1 1 1 1 1 1 1 1 1 0 1 1 1 1 0 1 0 1 1 1 1 0 0 1 1 0 1 1 1 0 1 0 1 1 0 1 1 1 1 1 1 1 1 1 1 1 1 1 1 1 1 1 1 1 1 1 1 1 1 1 1 1 \n",
      "2500 : 1 0 1 1 1 1 1 1 1 1 1 1 1 1 1 1 1 1 1 1 1 1 0 1 0 1 1 1 1 1 1 1 1 1 1 1 1 0 1 1 0 1 1 1 1 1 1 1 1 0 0 1 1 1 1 1 1 1 1 1 1 1 0 1 1 1 1 1 1 1 1 1 1 1 1 1 1 1 1 1 1 1 0 0 1 1 1 1 1 0 1 1 1 1 1 1 0 0 1 1 \n",
      "2500 : 1 1 1 1 1 1 1 1 1 1 1 1 1 1 1 1 1 1 1 1 1 1 1 1 1 1 1 1 1 1 1 1 1 1 1 1 1 1 1 1 1 1 1 0 1 1 1 0 1 1 1 1 1 1 1 0 1 1 0 1 1 1 1 1 0 1 1 1 1 1 1 1 1 1 1 1 1 1 1 1 1 1 0 1 1 1 0 1 1 1 1 0 1 1 1 1 1 1 1 0 \n",
      "2500 : 1 1 1 1 1 1 1 1 1 1 1 1 1 1 1 1 1 1 1 1 1 1 1 1 1 1 1 1 1 1 1 1 1 1 1 1 1 1 1 1 1 1 1 1 1 1 1 1 1 1 1 1 1 1 1 1 1 1 1 1 1 1 1 1 1 1 1 1 1 1 1 1 1 1 1 1 1 1 1 1 1 1 1 1 1 1 1 1 1 1 1 1 1 1 0 1 1 1 1 1 \n",
      "2500 : 1 1 1 1 1 1 1 1 1 1 1 1 1 1 1 1 1 1 1 1 1 1 1 1 1 1 1 1 1 1 1 1 1 1 1 1 1 1 1 1 1 1 1 1 1 1 1 1 1 1 1 1 1 1 1 1 1 1 1 1 1 1 1 1 1 1 1 1 1 1 1 1 1 1 1 1 1 1 1 1 1 1 1 1 1 1 1 1 1 1 1 1 1 1 1 1 1 1 1 1 \n"
     ]
    }
   ],
   "source": [
    "// table collection\n",
    "int ret;\n",
    "tsk_table_collection_t tables;\n",
    "\n",
    "ret = tsk_table_collection_init(&tables, 0);\n",
    "tables.sequence_length = L;\n",
    "\n",
    "check_tsk_error(ret);\n",
    "//tsk_table_collection_free(&tables);\n",
    "\n",
    "\n",
    "dormancy(tables,recorder,num_generations, N, m, b, gc, mu, r, L,\n",
    "         std::vector<double>{5e-8},\n",
    "         std::vector<double>{2.0},\n",
    "         std::vector<double>{0.5},\n",
    "         std::vector<double>{2500},\n",
    "         selection_activation_generation, false, mutation_in_seeds,\n",
    "         true\n",
    "        );\n",
    "    \n",
    "\n",
    "tsk_table_collection_build_index(&tables, 0);\n",
    "tsk_table_collection_dump(&tables, \"test.trees\", 0);\n"
   ]
  },
  {
   "cell_type": "code",
   "execution_count": 137,
   "id": "motivated-princeton",
   "metadata": {},
   "outputs": [],
   "source": [
    "recorder.save(\"run.txt\")"
   ]
  },
  {
   "cell_type": "code",
   "execution_count": null,
   "id": "maritime-corrections",
   "metadata": {},
   "outputs": [],
   "source": []
  },
  {
   "cell_type": "code",
   "execution_count": 138,
   "id": "recorded-adolescent",
   "metadata": {},
   "outputs": [
    {
     "name": "stdout",
     "output_type": "stream",
     "text": [
      "position,origin_generation,abs_population_freq,selection_coefficient,dominance_coefficient,active_mutations\n",
      "2500.64,25199,1,2,0.5,1\n",
      "2500.64,25200,1,2,0.5,1\n",
      "2500.64,25250,2,2,0.5,1\n",
      "2500.64,25300,5,2,0.5,1\n",
      "2500.64,25350,10,2,0.5,1\n",
      "2500.64,25400,21,2,0.5,1\n",
      "2500.64,25450,37,2,0.5,1\n",
      "2500.64,25500,67,2,0.5,1\n",
      "2500.64,25550,82,2,0.5,1\n",
      "2500.64,25600,83,2,0.5,1\n",
      "2500.64,25650,87,2,0.5,1\n",
      "2500.64,25700,91,2,0.5,1\n",
      "2500.64,25750,99,2,0.5,1\n",
      "2500.64,25800,100,2,0.5,1\n"
     ]
    }
   ],
   "source": [
    "!cat run.txt"
   ]
  },
  {
   "cell_type": "code",
   "execution_count": null,
   "id": "desperate-demographic",
   "metadata": {},
   "outputs": [],
   "source": []
  },
  {
   "cell_type": "code",
   "execution_count": null,
   "id": "funny-departure",
   "metadata": {},
   "outputs": [],
   "source": []
  },
  {
   "cell_type": "code",
   "execution_count": null,
   "id": "compliant-armstrong",
   "metadata": {},
   "outputs": [],
   "source": []
  },
  {
   "cell_type": "code",
   "execution_count": null,
   "id": "wired-finnish",
   "metadata": {},
   "outputs": [],
   "source": []
  },
  {
   "cell_type": "code",
   "execution_count": null,
   "id": "velvet-jewel",
   "metadata": {},
   "outputs": [],
   "source": []
  },
  {
   "cell_type": "markdown",
   "id": "after-experiment",
   "metadata": {},
   "source": [
    "// table collection\n",
    "int ret;\n",
    "tsk_table_collection_t tables;\n",
    "\n",
    "ret = tsk_table_collection_init(&tables, 0);\n",
    "tables.sequence_length = L;\n",
    "\n",
    "check_tsk_error(ret);\n",
    "//tsk_table_collection_free(&tables);\n",
    "\n",
    "\n",
    "dormancy(tables,num_generations, N, m, b, gc, mu, r, L,\n",
    "         std::vector<double>{0.0001,0.0001,0.0001,0.0001},\n",
    "         std::vector<double>{-0.5, -0.5, -0.5, -0.5},\n",
    "         std::vector<double>{0.5, 0.5, 0.5, 0.5},\n",
    "         std::vector<double>{1000, 2000, 3000, 4000},\n",
    "         selection_activation_generation, false\n",
    "        );\n",
    "    \n",
    "\n",
    "tsk_table_collection_build_index(&tables, 0);\n",
    "tsk_table_collection_dump(&tables, \"test.trees\", 0);\n"
   ]
  },
  {
   "cell_type": "code",
   "execution_count": null,
   "id": "military-federal",
   "metadata": {},
   "outputs": [],
   "source": []
  },
  {
   "cell_type": "code",
   "execution_count": 139,
   "id": "premier-hollywood",
   "metadata": {},
   "outputs": [
    {
     "data": {
      "text/plain": [
       "@0x7fdedb59ff90"
      ]
     },
     "execution_count": 139,
     "metadata": {},
     "output_type": "execute_result"
    }
   ],
   "source": [
    "recorder"
   ]
  },
  {
   "cell_type": "code",
   "execution_count": null,
   "id": "innovative-springer",
   "metadata": {},
   "outputs": [],
   "source": []
  },
  {
   "cell_type": "code",
   "execution_count": 140,
   "id": "configured-origin",
   "metadata": {},
   "outputs": [],
   "source": [
    "//tsk_node_table_print_state(&tables.nodes, stdout);\n",
    "//tsk_edge_table_print_state(&tables.edges, stdout);"
   ]
  },
  {
   "cell_type": "code",
   "execution_count": null,
   "id": "lesser-advocate",
   "metadata": {},
   "outputs": [],
   "source": []
  },
  {
   "cell_type": "code",
   "execution_count": 141,
   "id": "dried-custom",
   "metadata": {},
   "outputs": [],
   "source": [
    "//!rm test.trees"
   ]
  },
  {
   "cell_type": "code",
   "execution_count": null,
   "id": "overhead-applicant",
   "metadata": {},
   "outputs": [],
   "source": []
  },
  {
   "cell_type": "code",
   "execution_count": null,
   "id": "honest-soundtrack",
   "metadata": {},
   "outputs": [],
   "source": []
  }
 ],
 "metadata": {
  "kernelspec": {
   "display_name": "C++17",
   "language": "C++17",
   "name": "xcpp17"
  },
  "language_info": {
   "codemirror_mode": "text/x-c++src",
   "file_extension": ".cpp",
   "mimetype": "text/x-c++src",
   "name": "c++",
   "version": "17"
  }
 },
 "nbformat": 4,
 "nbformat_minor": 5
}
